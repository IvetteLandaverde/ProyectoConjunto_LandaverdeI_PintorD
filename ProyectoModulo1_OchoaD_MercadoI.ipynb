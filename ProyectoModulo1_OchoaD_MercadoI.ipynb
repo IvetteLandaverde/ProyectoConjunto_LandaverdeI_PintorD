{
 "cells": [
  {
   "cell_type": "markdown",
   "metadata": {},
   "source": [
    "<img style=\"float: left; margin: 30px 15px 15px 15px;\" src=\"https://pngimage.net/wp-content/uploads/2018/06/logo-iteso-png-5.png\" width=\"300\" height=\"500\" /> \n",
    "    \n",
    "    \n",
    "### <font color='navy'> Simulación de procesos financieros. \n",
    "\n",
    "**Nombres:** Ivette Landaverde Mercado, Diego Pintor Ochoa.\n",
    "\n",
    "**Fecha:** 26 de abril del 2021.\n",
    "\n",
    "**Expediente** : if722626, if726622.\n",
    "**Profesor:** Oscar David Jaramillo Zuluaga.\n",
    "    \n",
    "**Link Github**: https://github.com/PintorOD1997/ProyectoConjunto_LandaverdeI_PintorD\n",
    "\n",
    "# Proyecto TEMA-2"
   ]
  },
  {
   "cell_type": "markdown",
   "metadata": {},
   "source": [
    "### 1.1 Título del trabajo:\n",
    "\n",
    "\n",
    "\n",
    "<div style=\"text-align:center\"><span style=\"color:#154898; font-family: 'Bebas Neue'; font-size: 4em;\">  Febrero loco y marzo otro poco </span></div> </p>\n",
    "\n"
   ]
  },
  {
   "cell_type": "markdown",
   "metadata": {},
   "source": [
    "<img style=\"float: center; margin: 0px 0px 15px 230px;\" src=\"https://di-uploads-pod14.dealerinspire.com/toyotaoforlando/uploads/2019/08/driving-in-the-rain-1024x683.jpg\" width=\"500px\" height=\"300px\" />"
   ]
  },
  {
   "cell_type": "markdown",
   "metadata": {},
   "source": [
    "\n",
    "## <font color='navy'> 1.2 Objetivos.\n",
    "#### 1.1 Objetivo general:\n",
    "    \n",
    "- El objetivo de este proyecto es simular el comportamiento de los patrones climáticos durante una de las cuatro estaciones del año a través de las siguientes variables: húmedad, presión, temperatura, presión del viento y velocidad del viento para posteriormente calcular la probabilidad de lluvia en Seattle.\n",
    "    \n",
    "#### 1.2 Objetivos específicos:\n",
    "- Definir estaciones del año, en las que se puedan encuadrar patrones climáticos para la ciudad de Seattle. \n",
    "- Correlacionar la lluvia con otros indicadores como la humedad, dirección del viento, velocidad del viento y temperatura.\n",
    "- Simular escenarios para la estación del año elegida; la que consideremos tiene menos probabilidad de lluvia de acuerdo al análisis de datos.\n",
    "- Enunciar la probabilidad de que llueva en una estación dada del año para Seattle.\n",
    "\n",
    "Referencia:\n",
    "- https://es.slideshare.net/rosbur/metodologia-objetivos-generales-y-especficos"
   ]
  },
  {
   "cell_type": "markdown",
   "metadata": {},
   "source": [
    "\n",
    "## <font color='navy'> 1.3 Definición del problema\n",
    "\n",
    "Queremos predecir la probabilidad de lluvia ya que se simularemos que tenemos un autolavado en la ciudad de Seattle que ofrece garantías en caso de lluvia. \n",
    "> La premisa es: **si acudes a lavar tu carro y al día siguiente llueve, tu siguiente lavada es gratis.**\n",
    "\n",
    "Sería sencillo simplemente no ofrecer la garantía en las temporadas de lluvía cuando la probabilidad de que llueva es especialmente alta por lo cual no nos convendría, sin embargo, las lluvias ya no son tan estables y no son exclusivas de una temporada y esto se debe al cambio climático que atribuye un factor estócastico; ahora puede llover en cualquier mes y época del año.\n",
    "\n",
    "Nosotros usaremos datos relativamente recientes para reducir la probabilidad de error y por lo tanto conocer en que meses no deberíamos ofrecer la garantía de lavado gratis post-lluvia.\n",
    "\n",
    "\n",
    "¿Cómo afecta el cambio climático a la lluvia?\n",
    "\n",
    "\n",
    "Uno de los factores más críticos a la hora de determinar el impacto del cambio climático es el cambio en la lluvia y otros tipos de precipitaciones. La lluvia se ha vuelto mucho más difícil de predecir que la temperatura, pero existen algunas declaraciones que los científicos pueden asegurar en el futuro cercano.\n",
    "\n",
    "\n",
    "Una atmósfera más cálida puede almacenar mayor cantidad de humedad, y la cantidad de vapor de agua global se incrementa aproximadamente en un 7% por cada grado centígrado de calentamiento extra. Cómo se traduce esto a cambios en las precipitaciones globales es poco claro, pero el volumen total de precipitaciones puede incrementarse aproximadamente de un 1% a un 2% por grado centígrado de calentamiento.\n",
    "\n",
    "\n",
    "Existe evidencia para mostrar que las regiones que son húmedas se van a volver más húmedas, pero los detalles de que tan más húmedo se van a volver son más difíciles de asegurar. Son estos cambios en los patrones climáticos que harán la predicción de lluvia particularmente difícil. (Met 2011)\n",
    "\n",
    "\n",
    "\n",
    "\n",
    "Con la mayor cantidad de días lluviosos que otra gran ciudad americana, Seattle tiene una reputación de precipitaciones frecuentes. En promedio, por año, llueven 150 días. Sin embargo, debido a que las precipitaciones en Seattle suelen ser lloviznas ligeras, Seattle recibe menos precipitaciones totales que otras ciudades. \n",
    "En noviembre, Seattle promedia más precipitaciones que otras ciudades grandes; también los inviernos son particularmente húmedos. Los meses más húmedos son noviembre, diciembre y enero. (NOAA 2014)\n",
    "\n",
    "\n",
    "\n",
    "\n",
    "## <font color='navy'>  1.4 Nodos y variables: \n",
    "Tenemos un conjunto de datos sobre distintos atributos climáticos de 36 ciudades de las cuales nos enfocaremos específicamente en Seattle.\n",
    "\n",
    "Las mediciones están hechas por hora e incluyen:\n",
    "\n",
    "- Húmedad\n",
    "\n",
    "- Presión\n",
    "\n",
    "- Temperatura\n",
    "\n",
    "- Presión del viento\n",
    "    \n",
    "- Velocidad del viento\n",
    "\n",
    "- Descripción del clima\n",
    "\n",
    "Además contamos con información general de las ciudades: en que país se encuentran, su latitud y longitud.\n",
    "\n",
    "\n",
    "## <font color='navy'> 1.5 Definición de hipótesis y supuestos\n",
    "    \n",
    "### Supuestos:\n",
    "\n",
    "- Todos los datos son correctos y con la misma precisión de medición \n",
    "- Los datos fueron medidos con la misma frecuencia\n",
    "- Es posible determinar la distribución de probabilidad de cada variable\n",
    "- Las estaciones del año están definidas por meses:\n",
    "    * Primavera: marzo, abril y mayo\n",
    "    * Verano: junio, julio y agosto\n",
    "    * Otoño: septiembre, octubre y noviembre\n",
    "    * Invierno: diciembre, enero y febrero\n",
    "    \n",
    "    De esta manera nos aseguramos de que cada estación tenga aproximadamente los mismos datos y conseguimos resultados visualmente sencillos de analizar.\n",
    "    \n",
    "### Hipótesis:\n",
    " \n",
    "- Podemos predecir la probabilidad de lluvia a través de la simulación de las variables que acompañan a este fenómeno.\n",
    "\n"
   ]
  },
  {
   "cell_type": "markdown",
   "metadata": {},
   "source": [
    "## <font color='navy'>  Conceptos y definiciones importantes:\n",
    "    \n",
    "**Distribución de probabilidad:** \n",
    "$$ \\textbf{Función de distribución de probabilidad}\\\\ F(x)= \\frac{1}{\\sigma\\sqrt(2\\pi)}\\int_{-\\infty}^{x}e^{\\frac{-(v-\\mu)^2}{2\\sigma^2}}dv$$\n",
    "    \n",
    "**Distribución normal:**\n",
    "\n",
    "<img style=\"float: center; margin: 0px 0px 10px 350px;\" src=\"https://upload.wikimedia.org/wikipedia/commons/thumb/1/1b/Normal_distribution_pdf.png/325px-Normal_distribution_pdf.png\" width=\"300px\" height=\"200px\" />    \n",
    "\n",
    "**Propiedades:**    \n",
    "\n",
    "<img style=\"float: center; margin: 0px 0px 10px 350px;\" src=\"https://upload.wikimedia.org/wikipedia/commons/thumb/8/8c/Standard_deviation_diagram.svg/1200px-Standard_deviation_diagram.svg.png\" width=\"300px\" height=\"200px\" />      \n",
    "    \n",
    "**Chi cuadrada:**\n",
    "\n",
    "Sirve para someter a prueba hipótesis referidas a distribuciones de frecuencias. En términos generales, esta prueba contrasta frecuencias observadas con las frecuencias esperadas de acuerdo con la hipótesis nula.\n",
    "    \n",
    "**Histograma:**\n",
    "\n",
    "Un histograma es la representación gráfica en forma de barras, que simboliza la distribución de un conjunto de datos. Sirven para obtener una \"primera vista\" general, o panorama, de la distribución de la población, o de la muestra, respecto a una característica, cuantitativa y continua.\n",
    "    \n",
    "**Boxplot:**\n",
    "\n",
    "La gráfica box-plot es utilizada para visualizar la distribución de una variable numérica de la manera más simplificada posible. Sólo utiliza los valores de los cuartiles, los extremos (el mínimo y el máximo) y valores raros o outliers.\n",
    "    \n",
    "**Método de la transformada inversa:** \n",
    "    \n",
    "Se utiliza en observación aleatoria tomando x como la variable aleatoria involucrada lo cual se logra mediante la función acumulada \n",
    "    $$F(x)=P(X\\leq x),\\quad \\forall x$$\n",
    "y la generación de números pseudoaleatorios  \n",
    "    $$X = F^{-1}(U),\\quad U \\sim \\text{Uniforme[0,1]}$$ "
   ]
  },
  {
   "cell_type": "markdown",
   "metadata": {},
   "source": [
    "## <font color='navy'> Diagrama:\n",
    "    \n",
    "El siguiente diagrama muestra como vamos a manejar las variables para calcular la probabilidad de lluvia."
   ]
  },
  {
   "cell_type": "markdown",
   "metadata": {},
   "source": [
    "![alt text](diagrama.png \"diagrama\")"
   ]
  },
  {
   "cell_type": "markdown",
   "metadata": {},
   "source": [
    "## <font color='navy'>  1.6 Obtención de bases de datos:\n",
    "La base de datos la obtuvimos de la comunidad Kaggle, la información ya está acomodada con el mismo eje común (tiempo) y la misma perioricidad (por hora).\n",
    "Cada atributo está en un archivo distinto en donde las filas contienen el eje del tiempo y las columnas son las diferentes ciudades para cada archivo.\n",
    " \n",
    "> Fuente: https://www.kaggle.com/selfishgene/historical-hourly-weather-data/code"
   ]
  },
  {
   "cell_type": "markdown",
   "metadata": {},
   "source": [
    "Estos son los datos a utilizar:"
   ]
  },
  {
   "cell_type": "code",
   "execution_count": 1,
   "metadata": {},
   "outputs": [],
   "source": [
    "#Librerías:\n",
    "import numpy as np\n",
    "import pandas as pd\n",
    "import matplotlib.pyplot as plt\n",
    "import scipy.stats as st\n",
    "%matplotlib inline\n",
    "from dateutil.parser import parse \n",
    "import matplotlib as mpl\n",
    "import seaborn as sns\n",
    "import numpy as np\n",
    "import pandas as pd\n",
    "from matplotlib import pyplot\n",
    "import itertools"
   ]
  },
  {
   "cell_type": "code",
   "execution_count": 2,
   "metadata": {},
   "outputs": [
    {
     "data": {
      "text/html": [
       "<div>\n",
       "<style scoped>\n",
       "    .dataframe tbody tr th:only-of-type {\n",
       "        vertical-align: middle;\n",
       "    }\n",
       "\n",
       "    .dataframe tbody tr th {\n",
       "        vertical-align: top;\n",
       "    }\n",
       "\n",
       "    .dataframe thead th {\n",
       "        text-align: right;\n",
       "    }\n",
       "</style>\n",
       "<table border=\"1\" class=\"dataframe\">\n",
       "  <thead>\n",
       "    <tr style=\"text-align: right;\">\n",
       "      <th></th>\n",
       "      <th>datetime</th>\n",
       "      <th>Vancouver</th>\n",
       "      <th>Portland</th>\n",
       "      <th>San Francisco</th>\n",
       "      <th>Seattle</th>\n",
       "      <th>Los Angeles</th>\n",
       "      <th>San Diego</th>\n",
       "      <th>Las Vegas</th>\n",
       "      <th>Phoenix</th>\n",
       "      <th>Albuquerque</th>\n",
       "      <th>...</th>\n",
       "      <th>Philadelphia</th>\n",
       "      <th>New York</th>\n",
       "      <th>Montreal</th>\n",
       "      <th>Boston</th>\n",
       "      <th>Beersheba</th>\n",
       "      <th>Tel Aviv District</th>\n",
       "      <th>Eilat</th>\n",
       "      <th>Haifa</th>\n",
       "      <th>Nahariyya</th>\n",
       "      <th>Jerusalem</th>\n",
       "    </tr>\n",
       "  </thead>\n",
       "  <tbody>\n",
       "    <tr>\n",
       "      <th>1</th>\n",
       "      <td>2012-10-01 13:00:00</td>\n",
       "      <td>mist</td>\n",
       "      <td>scattered clouds</td>\n",
       "      <td>light rain</td>\n",
       "      <td>sky is clear</td>\n",
       "      <td>mist</td>\n",
       "      <td>sky is clear</td>\n",
       "      <td>sky is clear</td>\n",
       "      <td>sky is clear</td>\n",
       "      <td>sky is clear</td>\n",
       "      <td>...</td>\n",
       "      <td>broken clouds</td>\n",
       "      <td>few clouds</td>\n",
       "      <td>overcast clouds</td>\n",
       "      <td>sky is clear</td>\n",
       "      <td>sky is clear</td>\n",
       "      <td>sky is clear</td>\n",
       "      <td>haze</td>\n",
       "      <td>sky is clear</td>\n",
       "      <td>sky is clear</td>\n",
       "      <td>sky is clear</td>\n",
       "    </tr>\n",
       "    <tr>\n",
       "      <th>2</th>\n",
       "      <td>2012-10-01 14:00:00</td>\n",
       "      <td>broken clouds</td>\n",
       "      <td>scattered clouds</td>\n",
       "      <td>sky is clear</td>\n",
       "      <td>sky is clear</td>\n",
       "      <td>sky is clear</td>\n",
       "      <td>sky is clear</td>\n",
       "      <td>sky is clear</td>\n",
       "      <td>sky is clear</td>\n",
       "      <td>sky is clear</td>\n",
       "      <td>...</td>\n",
       "      <td>broken clouds</td>\n",
       "      <td>few clouds</td>\n",
       "      <td>sky is clear</td>\n",
       "      <td>few clouds</td>\n",
       "      <td>sky is clear</td>\n",
       "      <td>sky is clear</td>\n",
       "      <td>broken clouds</td>\n",
       "      <td>overcast clouds</td>\n",
       "      <td>sky is clear</td>\n",
       "      <td>overcast clouds</td>\n",
       "    </tr>\n",
       "  </tbody>\n",
       "</table>\n",
       "<p>2 rows × 37 columns</p>\n",
       "</div>"
      ],
      "text/plain": [
       "              datetime      Vancouver          Portland San Francisco  \\\n",
       "1  2012-10-01 13:00:00           mist  scattered clouds    light rain   \n",
       "2  2012-10-01 14:00:00  broken clouds  scattered clouds  sky is clear   \n",
       "\n",
       "        Seattle   Los Angeles     San Diego     Las Vegas       Phoenix  \\\n",
       "1  sky is clear          mist  sky is clear  sky is clear  sky is clear   \n",
       "2  sky is clear  sky is clear  sky is clear  sky is clear  sky is clear   \n",
       "\n",
       "    Albuquerque  ...   Philadelphia    New York         Montreal  \\\n",
       "1  sky is clear  ...  broken clouds  few clouds  overcast clouds   \n",
       "2  sky is clear  ...  broken clouds  few clouds     sky is clear   \n",
       "\n",
       "         Boston     Beersheba Tel Aviv District          Eilat  \\\n",
       "1  sky is clear  sky is clear      sky is clear           haze   \n",
       "2    few clouds  sky is clear      sky is clear  broken clouds   \n",
       "\n",
       "             Haifa     Nahariyya        Jerusalem  \n",
       "1     sky is clear  sky is clear     sky is clear  \n",
       "2  overcast clouds  sky is clear  overcast clouds  \n",
       "\n",
       "[2 rows x 37 columns]"
      ]
     },
     "execution_count": 2,
     "metadata": {},
     "output_type": "execute_result"
    }
   ],
   "source": [
    "data1 = pd.read_csv('weather_description.csv').dropna()\n",
    "data1.head(2)"
   ]
  },
  {
   "cell_type": "code",
   "execution_count": 3,
   "metadata": {},
   "outputs": [
    {
     "data": {
      "text/plain": [
       "City               Seattle\n",
       "Country      United States\n",
       "Latitude           47.6062\n",
       "Longitude         -122.332\n",
       "Name: 3, dtype: object"
      ]
     },
     "execution_count": 3,
     "metadata": {},
     "output_type": "execute_result"
    }
   ],
   "source": [
    "data=pd.read_csv(\"city_attributes.csv\")\n",
    "data.iloc[3]"
   ]
  },
  {
   "cell_type": "code",
   "execution_count": 4,
   "metadata": {},
   "outputs": [
    {
     "data": {
      "text/plain": [
       "22501    63.0\n",
       "4458     71.0\n",
       "Name: Seattle, dtype: float64"
      ]
     },
     "execution_count": 4,
     "metadata": {},
     "output_type": "execute_result"
    }
   ],
   "source": [
    "data2=pd.read_csv(\"humidity.csv\")\n",
    "humedad = data2[\"Seattle\"].dropna()\n",
    "humedad.sample(2)\n"
   ]
  },
  {
   "cell_type": "code",
   "execution_count": 5,
   "metadata": {},
   "outputs": [
    {
     "data": {
      "text/plain": [
       "count    44964.000000\n",
       "mean        77.159038\n",
       "std         18.147464\n",
       "min         13.000000\n",
       "25%         66.000000\n",
       "50%         81.000000\n",
       "75%         93.000000\n",
       "max        100.000000\n",
       "Name: Seattle, dtype: float64"
      ]
     },
     "execution_count": 5,
     "metadata": {},
     "output_type": "execute_result"
    }
   ],
   "source": [
    "humedad.describe()"
   ]
  },
  {
   "cell_type": "code",
   "execution_count": 6,
   "metadata": {},
   "outputs": [
    {
     "data": {
      "text/html": [
       "<div>\n",
       "<style scoped>\n",
       "    .dataframe tbody tr th:only-of-type {\n",
       "        vertical-align: middle;\n",
       "    }\n",
       "\n",
       "    .dataframe tbody tr th {\n",
       "        vertical-align: top;\n",
       "    }\n",
       "\n",
       "    .dataframe thead th {\n",
       "        text-align: right;\n",
       "    }\n",
       "</style>\n",
       "<table border=\"1\" class=\"dataframe\">\n",
       "  <thead>\n",
       "    <tr style=\"text-align: right;\">\n",
       "      <th></th>\n",
       "      <th>datetime</th>\n",
       "      <th>Vancouver</th>\n",
       "      <th>Portland</th>\n",
       "      <th>San Francisco</th>\n",
       "      <th>Seattle</th>\n",
       "      <th>Los Angeles</th>\n",
       "      <th>San Diego</th>\n",
       "      <th>Las Vegas</th>\n",
       "      <th>Phoenix</th>\n",
       "      <th>Albuquerque</th>\n",
       "      <th>...</th>\n",
       "      <th>Philadelphia</th>\n",
       "      <th>New York</th>\n",
       "      <th>Montreal</th>\n",
       "      <th>Boston</th>\n",
       "      <th>Beersheba</th>\n",
       "      <th>Tel Aviv District</th>\n",
       "      <th>Eilat</th>\n",
       "      <th>Haifa</th>\n",
       "      <th>Nahariyya</th>\n",
       "      <th>Jerusalem</th>\n",
       "    </tr>\n",
       "  </thead>\n",
       "  <tbody>\n",
       "    <tr>\n",
       "      <th>23693</th>\n",
       "      <td>2015-06-15 17:00:00</td>\n",
       "      <td>1015.0</td>\n",
       "      <td>1024.0</td>\n",
       "      <td>1024.0</td>\n",
       "      <td>1026.0</td>\n",
       "      <td>1023.0</td>\n",
       "      <td>1023.0</td>\n",
       "      <td>1020.0</td>\n",
       "      <td>1021.0</td>\n",
       "      <td>1025.0</td>\n",
       "      <td>...</td>\n",
       "      <td>1026.0</td>\n",
       "      <td>1014.0</td>\n",
       "      <td>1013.0</td>\n",
       "      <td>1032.0</td>\n",
       "      <td>987.0</td>\n",
       "      <td>1009.0</td>\n",
       "      <td>1005.0</td>\n",
       "      <td>1008.0</td>\n",
       "      <td>1018.0</td>\n",
       "      <td>1022.0</td>\n",
       "    </tr>\n",
       "    <tr>\n",
       "      <th>21388</th>\n",
       "      <td>2015-03-11 16:00:00</td>\n",
       "      <td>1016.0</td>\n",
       "      <td>1028.0</td>\n",
       "      <td>1034.0</td>\n",
       "      <td>1027.0</td>\n",
       "      <td>1031.0</td>\n",
       "      <td>1031.0</td>\n",
       "      <td>1032.0</td>\n",
       "      <td>1032.0</td>\n",
       "      <td>1037.0</td>\n",
       "      <td>...</td>\n",
       "      <td>1030.0</td>\n",
       "      <td>1029.0</td>\n",
       "      <td>1014.0</td>\n",
       "      <td>1023.0</td>\n",
       "      <td>997.0</td>\n",
       "      <td>1012.0</td>\n",
       "      <td>1011.0</td>\n",
       "      <td>1012.0</td>\n",
       "      <td>1012.0</td>\n",
       "      <td>1023.0</td>\n",
       "    </tr>\n",
       "  </tbody>\n",
       "</table>\n",
       "<p>2 rows × 37 columns</p>\n",
       "</div>"
      ],
      "text/plain": [
       "                  datetime  Vancouver  Portland  San Francisco  Seattle  \\\n",
       "23693  2015-06-15 17:00:00     1015.0    1024.0         1024.0   1026.0   \n",
       "21388  2015-03-11 16:00:00     1016.0    1028.0         1034.0   1027.0   \n",
       "\n",
       "       Los Angeles  San Diego  Las Vegas  Phoenix  Albuquerque  ...  \\\n",
       "23693       1023.0     1023.0     1020.0   1021.0       1025.0  ...   \n",
       "21388       1031.0     1031.0     1032.0   1032.0       1037.0  ...   \n",
       "\n",
       "       Philadelphia  New York  Montreal  Boston  Beersheba  Tel Aviv District  \\\n",
       "23693        1026.0    1014.0    1013.0  1032.0      987.0             1009.0   \n",
       "21388        1030.0    1029.0    1014.0  1023.0      997.0             1012.0   \n",
       "\n",
       "        Eilat   Haifa  Nahariyya  Jerusalem  \n",
       "23693  1005.0  1008.0     1018.0     1022.0  \n",
       "21388  1011.0  1012.0     1012.0     1023.0  \n",
       "\n",
       "[2 rows x 37 columns]"
      ]
     },
     "execution_count": 6,
     "metadata": {},
     "output_type": "execute_result"
    }
   ],
   "source": [
    "#Presión:\n",
    "data3=pd.read_csv(\"pressure.csv\")\n",
    "presion = data3.Seattle.dropna()\n",
    "data3.sample(2)"
   ]
  },
  {
   "cell_type": "code",
   "execution_count": 7,
   "metadata": {},
   "outputs": [
    {
     "data": {
      "text/plain": [
       "count    45240.000000\n",
       "mean      1021.001216\n",
       "std          9.737187\n",
       "min        980.000000\n",
       "25%       1015.000000\n",
       "50%       1020.000000\n",
       "75%       1027.000000\n",
       "max       1058.000000\n",
       "Name: Seattle, dtype: float64"
      ]
     },
     "execution_count": 7,
     "metadata": {},
     "output_type": "execute_result"
    }
   ],
   "source": [
    "presion.describe()"
   ]
  },
  {
   "cell_type": "code",
   "execution_count": 8,
   "metadata": {},
   "outputs": [
    {
     "data": {
      "text/html": [
       "<div>\n",
       "<style scoped>\n",
       "    .dataframe tbody tr th:only-of-type {\n",
       "        vertical-align: middle;\n",
       "    }\n",
       "\n",
       "    .dataframe tbody tr th {\n",
       "        vertical-align: top;\n",
       "    }\n",
       "\n",
       "    .dataframe thead th {\n",
       "        text-align: right;\n",
       "    }\n",
       "</style>\n",
       "<table border=\"1\" class=\"dataframe\">\n",
       "  <thead>\n",
       "    <tr style=\"text-align: right;\">\n",
       "      <th></th>\n",
       "      <th>datetime</th>\n",
       "      <th>Vancouver</th>\n",
       "      <th>Portland</th>\n",
       "      <th>San Francisco</th>\n",
       "      <th>Seattle</th>\n",
       "      <th>Los Angeles</th>\n",
       "      <th>San Diego</th>\n",
       "      <th>Las Vegas</th>\n",
       "      <th>Phoenix</th>\n",
       "      <th>Albuquerque</th>\n",
       "      <th>...</th>\n",
       "      <th>Philadelphia</th>\n",
       "      <th>New York</th>\n",
       "      <th>Montreal</th>\n",
       "      <th>Boston</th>\n",
       "      <th>Beersheba</th>\n",
       "      <th>Tel Aviv District</th>\n",
       "      <th>Eilat</th>\n",
       "      <th>Haifa</th>\n",
       "      <th>Nahariyya</th>\n",
       "      <th>Jerusalem</th>\n",
       "    </tr>\n",
       "  </thead>\n",
       "  <tbody>\n",
       "    <tr>\n",
       "      <th>29085</th>\n",
       "      <td>2016-01-26 09:00:00</td>\n",
       "      <td>280.35</td>\n",
       "      <td>281.93</td>\n",
       "      <td>282.22</td>\n",
       "      <td>281.01</td>\n",
       "      <td>283.90</td>\n",
       "      <td>282.61</td>\n",
       "      <td>278.84</td>\n",
       "      <td>282.85</td>\n",
       "      <td>268.80</td>\n",
       "      <td>...</td>\n",
       "      <td>267.07</td>\n",
       "      <td>270.13</td>\n",
       "      <td>269.36</td>\n",
       "      <td>271.51</td>\n",
       "      <td>279.082</td>\n",
       "      <td>280.75</td>\n",
       "      <td>283.96</td>\n",
       "      <td>278.15</td>\n",
       "      <td>278.15</td>\n",
       "      <td>280.86</td>\n",
       "    </tr>\n",
       "    <tr>\n",
       "      <th>30764</th>\n",
       "      <td>2016-04-05 08:00:00</td>\n",
       "      <td>280.36</td>\n",
       "      <td>280.59</td>\n",
       "      <td>283.39</td>\n",
       "      <td>279.82</td>\n",
       "      <td>287.88</td>\n",
       "      <td>285.59</td>\n",
       "      <td>291.13</td>\n",
       "      <td>290.65</td>\n",
       "      <td>283.73</td>\n",
       "      <td>...</td>\n",
       "      <td>272.15</td>\n",
       "      <td>270.20</td>\n",
       "      <td>264.69</td>\n",
       "      <td>269.42</td>\n",
       "      <td>294.229</td>\n",
       "      <td>297.26</td>\n",
       "      <td>298.43</td>\n",
       "      <td>296.15</td>\n",
       "      <td>296.15</td>\n",
       "      <td>297.27</td>\n",
       "    </tr>\n",
       "  </tbody>\n",
       "</table>\n",
       "<p>2 rows × 37 columns</p>\n",
       "</div>"
      ],
      "text/plain": [
       "                  datetime  Vancouver  Portland  San Francisco  Seattle  \\\n",
       "29085  2016-01-26 09:00:00     280.35    281.93         282.22   281.01   \n",
       "30764  2016-04-05 08:00:00     280.36    280.59         283.39   279.82   \n",
       "\n",
       "       Los Angeles  San Diego  Las Vegas  Phoenix  Albuquerque  ...  \\\n",
       "29085       283.90     282.61     278.84   282.85       268.80  ...   \n",
       "30764       287.88     285.59     291.13   290.65       283.73  ...   \n",
       "\n",
       "       Philadelphia  New York  Montreal  Boston  Beersheba  Tel Aviv District  \\\n",
       "29085        267.07    270.13    269.36  271.51    279.082             280.75   \n",
       "30764        272.15    270.20    264.69  269.42    294.229             297.26   \n",
       "\n",
       "        Eilat   Haifa  Nahariyya  Jerusalem  \n",
       "29085  283.96  278.15     278.15     280.86  \n",
       "30764  298.43  296.15     296.15     297.27  \n",
       "\n",
       "[2 rows x 37 columns]"
      ]
     },
     "execution_count": 8,
     "metadata": {},
     "output_type": "execute_result"
    }
   ],
   "source": [
    "#Temperatura:\n",
    "data4=pd.read_csv(\"temperature.csv\")\n",
    "temper = data4.Seattle.dropna()-273.15 #de kelvin a cº\n",
    "data4.sample(2)"
   ]
  },
  {
   "cell_type": "code",
   "execution_count": 9,
   "metadata": {},
   "outputs": [
    {
     "data": {
      "text/plain": [
       "count    45250.000000\n",
       "mean        11.259626\n",
       "std          6.547986\n",
       "min         -9.370000\n",
       "25%          6.680000\n",
       "50%         10.790000\n",
       "75%         15.380000\n",
       "max         34.150000\n",
       "Name: Seattle, dtype: float64"
      ]
     },
     "execution_count": 9,
     "metadata": {},
     "output_type": "execute_result"
    }
   ],
   "source": [
    "temper.describe()"
   ]
  },
  {
   "cell_type": "code",
   "execution_count": 10,
   "metadata": {},
   "outputs": [
    {
     "data": {
      "text/html": [
       "<div>\n",
       "<style scoped>\n",
       "    .dataframe tbody tr th:only-of-type {\n",
       "        vertical-align: middle;\n",
       "    }\n",
       "\n",
       "    .dataframe tbody tr th {\n",
       "        vertical-align: top;\n",
       "    }\n",
       "\n",
       "    .dataframe thead th {\n",
       "        text-align: right;\n",
       "    }\n",
       "</style>\n",
       "<table border=\"1\" class=\"dataframe\">\n",
       "  <thead>\n",
       "    <tr style=\"text-align: right;\">\n",
       "      <th></th>\n",
       "      <th>datetime</th>\n",
       "      <th>Vancouver</th>\n",
       "      <th>Portland</th>\n",
       "      <th>San Francisco</th>\n",
       "      <th>Seattle</th>\n",
       "      <th>Los Angeles</th>\n",
       "      <th>San Diego</th>\n",
       "      <th>Las Vegas</th>\n",
       "      <th>Phoenix</th>\n",
       "      <th>Albuquerque</th>\n",
       "      <th>...</th>\n",
       "      <th>Philadelphia</th>\n",
       "      <th>New York</th>\n",
       "      <th>Montreal</th>\n",
       "      <th>Boston</th>\n",
       "      <th>Beersheba</th>\n",
       "      <th>Tel Aviv District</th>\n",
       "      <th>Eilat</th>\n",
       "      <th>Haifa</th>\n",
       "      <th>Nahariyya</th>\n",
       "      <th>Jerusalem</th>\n",
       "    </tr>\n",
       "  </thead>\n",
       "  <tbody>\n",
       "    <tr>\n",
       "      <th>14462</th>\n",
       "      <td>2014-05-27 02:00:00</td>\n",
       "      <td>130.0</td>\n",
       "      <td>320.0</td>\n",
       "      <td>280.0</td>\n",
       "      <td>220.0</td>\n",
       "      <td>270.0</td>\n",
       "      <td>290.0</td>\n",
       "      <td>290.0</td>\n",
       "      <td>180.0</td>\n",
       "      <td>140.0</td>\n",
       "      <td>...</td>\n",
       "      <td>240.0</td>\n",
       "      <td>250.0</td>\n",
       "      <td>130.0</td>\n",
       "      <td>230.0</td>\n",
       "      <td>200.0</td>\n",
       "      <td>110.0</td>\n",
       "      <td>331.0</td>\n",
       "      <td>188.0</td>\n",
       "      <td>188.0</td>\n",
       "      <td>0.0</td>\n",
       "    </tr>\n",
       "    <tr>\n",
       "      <th>5802</th>\n",
       "      <td>2013-05-31 06:00:00</td>\n",
       "      <td>0.0</td>\n",
       "      <td>231.0</td>\n",
       "      <td>360.0</td>\n",
       "      <td>110.0</td>\n",
       "      <td>88.0</td>\n",
       "      <td>200.0</td>\n",
       "      <td>350.0</td>\n",
       "      <td>213.0</td>\n",
       "      <td>340.0</td>\n",
       "      <td>...</td>\n",
       "      <td>0.0</td>\n",
       "      <td>0.0</td>\n",
       "      <td>220.0</td>\n",
       "      <td>210.0</td>\n",
       "      <td>249.0</td>\n",
       "      <td>190.0</td>\n",
       "      <td>0.0</td>\n",
       "      <td>229.0</td>\n",
       "      <td>208.0</td>\n",
       "      <td>125.0</td>\n",
       "    </tr>\n",
       "  </tbody>\n",
       "</table>\n",
       "<p>2 rows × 37 columns</p>\n",
       "</div>"
      ],
      "text/plain": [
       "                  datetime  Vancouver  Portland  San Francisco  Seattle  \\\n",
       "14462  2014-05-27 02:00:00      130.0     320.0          280.0    220.0   \n",
       "5802   2013-05-31 06:00:00        0.0     231.0          360.0    110.0   \n",
       "\n",
       "       Los Angeles  San Diego  Las Vegas  Phoenix  Albuquerque  ...  \\\n",
       "14462        270.0      290.0      290.0    180.0        140.0  ...   \n",
       "5802          88.0      200.0      350.0    213.0        340.0  ...   \n",
       "\n",
       "       Philadelphia  New York  Montreal  Boston  Beersheba  Tel Aviv District  \\\n",
       "14462         240.0     250.0     130.0   230.0      200.0              110.0   \n",
       "5802            0.0       0.0     220.0   210.0      249.0              190.0   \n",
       "\n",
       "       Eilat  Haifa  Nahariyya  Jerusalem  \n",
       "14462  331.0  188.0      188.0        0.0  \n",
       "5802     0.0  229.0      208.0      125.0  \n",
       "\n",
       "[2 rows x 37 columns]"
      ]
     },
     "execution_count": 10,
     "metadata": {},
     "output_type": "execute_result"
    }
   ],
   "source": [
    "#Dirección del viento\n",
    "data6=pd.read_csv(\"wind_direction.csv\")\n",
    "wind_dir = data6.Seattle.dropna()\n",
    "data6.sample(2)"
   ]
  },
  {
   "cell_type": "code",
   "execution_count": 11,
   "metadata": {},
   "outputs": [
    {
     "data": {
      "text/plain": [
       "count    45252.000000\n",
       "mean       161.380226\n",
       "std        103.206816\n",
       "min          0.000000\n",
       "25%         70.000000\n",
       "50%        175.000000\n",
       "75%        218.000000\n",
       "max        360.000000\n",
       "Name: Seattle, dtype: float64"
      ]
     },
     "execution_count": 11,
     "metadata": {},
     "output_type": "execute_result"
    }
   ],
   "source": [
    "wind_dir.describe()"
   ]
  },
  {
   "cell_type": "code",
   "execution_count": 12,
   "metadata": {
    "scrolled": true
   },
   "outputs": [
    {
     "data": {
      "text/html": [
       "<div>\n",
       "<style scoped>\n",
       "    .dataframe tbody tr th:only-of-type {\n",
       "        vertical-align: middle;\n",
       "    }\n",
       "\n",
       "    .dataframe tbody tr th {\n",
       "        vertical-align: top;\n",
       "    }\n",
       "\n",
       "    .dataframe thead th {\n",
       "        text-align: right;\n",
       "    }\n",
       "</style>\n",
       "<table border=\"1\" class=\"dataframe\">\n",
       "  <thead>\n",
       "    <tr style=\"text-align: right;\">\n",
       "      <th></th>\n",
       "      <th>datetime</th>\n",
       "      <th>Vancouver</th>\n",
       "      <th>Portland</th>\n",
       "      <th>San Francisco</th>\n",
       "      <th>Seattle</th>\n",
       "      <th>Los Angeles</th>\n",
       "      <th>San Diego</th>\n",
       "      <th>Las Vegas</th>\n",
       "      <th>Phoenix</th>\n",
       "      <th>Albuquerque</th>\n",
       "      <th>...</th>\n",
       "      <th>Philadelphia</th>\n",
       "      <th>New York</th>\n",
       "      <th>Montreal</th>\n",
       "      <th>Boston</th>\n",
       "      <th>Beersheba</th>\n",
       "      <th>Tel Aviv District</th>\n",
       "      <th>Eilat</th>\n",
       "      <th>Haifa</th>\n",
       "      <th>Nahariyya</th>\n",
       "      <th>Jerusalem</th>\n",
       "    </tr>\n",
       "  </thead>\n",
       "  <tbody>\n",
       "    <tr>\n",
       "      <th>679</th>\n",
       "      <td>2012-10-29 19:00:00</td>\n",
       "      <td>2.0</td>\n",
       "      <td>0.0</td>\n",
       "      <td>1.0</td>\n",
       "      <td>1.0</td>\n",
       "      <td>0.0</td>\n",
       "      <td>2.0</td>\n",
       "      <td>1.0</td>\n",
       "      <td>1.0</td>\n",
       "      <td>2.0</td>\n",
       "      <td>...</td>\n",
       "      <td>6.0</td>\n",
       "      <td>8.0</td>\n",
       "      <td>1.0</td>\n",
       "      <td>12.0</td>\n",
       "      <td>0.0</td>\n",
       "      <td>1.0</td>\n",
       "      <td>2.0</td>\n",
       "      <td>2.0</td>\n",
       "      <td>2.0</td>\n",
       "      <td>1.0</td>\n",
       "    </tr>\n",
       "    <tr>\n",
       "      <th>18708</th>\n",
       "      <td>2014-11-20 00:00:00</td>\n",
       "      <td>3.0</td>\n",
       "      <td>1.0</td>\n",
       "      <td>2.0</td>\n",
       "      <td>1.0</td>\n",
       "      <td>1.0</td>\n",
       "      <td>1.0</td>\n",
       "      <td>1.0</td>\n",
       "      <td>1.0</td>\n",
       "      <td>1.0</td>\n",
       "      <td>...</td>\n",
       "      <td>3.0</td>\n",
       "      <td>7.0</td>\n",
       "      <td>4.0</td>\n",
       "      <td>5.0</td>\n",
       "      <td>1.0</td>\n",
       "      <td>2.0</td>\n",
       "      <td>0.0</td>\n",
       "      <td>2.0</td>\n",
       "      <td>1.0</td>\n",
       "      <td>1.0</td>\n",
       "    </tr>\n",
       "  </tbody>\n",
       "</table>\n",
       "<p>2 rows × 37 columns</p>\n",
       "</div>"
      ],
      "text/plain": [
       "                  datetime  Vancouver  Portland  San Francisco  Seattle  \\\n",
       "679    2012-10-29 19:00:00        2.0       0.0            1.0      1.0   \n",
       "18708  2014-11-20 00:00:00        3.0       1.0            2.0      1.0   \n",
       "\n",
       "       Los Angeles  San Diego  Las Vegas  Phoenix  Albuquerque  ...  \\\n",
       "679            0.0        2.0        1.0      1.0          2.0  ...   \n",
       "18708          1.0        1.0        1.0      1.0          1.0  ...   \n",
       "\n",
       "       Philadelphia  New York  Montreal  Boston  Beersheba  Tel Aviv District  \\\n",
       "679             6.0       8.0       1.0    12.0        0.0                1.0   \n",
       "18708           3.0       7.0       4.0     5.0        1.0                2.0   \n",
       "\n",
       "       Eilat  Haifa  Nahariyya  Jerusalem  \n",
       "679      2.0    2.0        2.0        1.0  \n",
       "18708    0.0    2.0        1.0        1.0  \n",
       "\n",
       "[2 rows x 37 columns]"
      ]
     },
     "execution_count": 12,
     "metadata": {},
     "output_type": "execute_result"
    }
   ],
   "source": [
    "#Velocidad del viento:\n",
    "data7=pd.read_csv(\"wind_speed.csv\")\n",
    "wind_speed = data7.Seattle.dropna()\n",
    "data7.sample(2)"
   ]
  },
  {
   "cell_type": "code",
   "execution_count": 13,
   "metadata": {},
   "outputs": [
    {
     "data": {
      "text/plain": [
       "count    45252.000000\n",
       "mean         2.118116\n",
       "std          1.629988\n",
       "min          0.000000\n",
       "25%          1.000000\n",
       "50%          2.000000\n",
       "75%          3.000000\n",
       "max         24.000000\n",
       "Name: Seattle, dtype: float64"
      ]
     },
     "execution_count": 13,
     "metadata": {},
     "output_type": "execute_result"
    }
   ],
   "source": [
    "wind_speed.describe()"
   ]
  },
  {
   "cell_type": "markdown",
   "metadata": {},
   "source": [
    "## <font color='navy'>  Funciones a utilizar:"
   ]
  },
  {
   "cell_type": "code",
   "execution_count": 14,
   "metadata": {},
   "outputs": [],
   "source": [
    "\n",
    "#Función histograma:\n",
    "def plot_histogram_discrete(distribucion:'distribución a graficar histograma',\n",
    "                            xlabel:'x label',\n",
    "                            ylabel: 'y label',\n",
    "                            title: 'title'):\n",
    "    '''Función para graficar el histograma de una distribución discreta'''\n",
    "    plt.figure(figsize=[8,4])\n",
    "    y,x = np.histogram(distribucion,bins = len(set(distribucion))) \n",
    "    plt.bar(list(set(distribucion)),y)\n",
    "    plt.xlabel(xlabel)\n",
    "    plt.ylabel(ylabel)\n",
    "    plt.title(title)\n",
    "    plt.show()\n",
    "    \n",
    "# Función que ajusta las mejores distribuciones\n",
    "\n",
    "# Observación gráfica, selección de distribución óptima\n",
    "def best_fit_params(variable: \"Variable aleatoria a ajustar\"):\n",
    "    \"\"\"\n",
    "    Función de ajuste para distribución óptima de variables aleatorias.\n",
    "    Esta función recibe sólo una variable, \"variable\", la cuál es una de las variables aleatorias\n",
    "    utilizadas en este proyecto.\n",
    "    Crea un sample de la variable aleatoria para evitar tener que trabajar con todos los datos,\n",
    "    esta sample se almacena en la variable datos. Luego, genera un histograma del sample para dar\n",
    "    una idea de como se ve la variable aleatoria. Se almacena en la variable x el eje x del\n",
    "    histograma. Se crea una variable llamada dist, que consiste en una lista de las primeras\n",
    "    50 distribuciones continuas en la librería stats de scipy, además de la variable de\n",
    "    referencia normal. Se crea un dataFrame de error para registrar el error cuadrático promedio.\n",
    "    Se itera sobre la lista de distribuciones, se encuentra el error y se almacena en el dataFrame.\n",
    "    Ordena el dataframe de menor a mayor, se almacena un slice de los primeros 5 valores y se \n",
    "    crea una lista de estas distribuciones. Por último, itera sobre el slice de los 5 valores,\n",
    "    y grafica las funciones de densidad de probabilidad sobre el histograma para mostrar el \n",
    "    resultado. Se almacenan los parámetros de estas funciones en una lista.\n",
    "    Esta función regresa la distribución con menor error y sus parámetros, en dos variables.\n",
    "    (distribucion, parametros = best_fit_params(variable))\n",
    "    \"\"\"\n",
    "    datos = variable.sample(1000)\n",
    "    y,x,_ = plt.hist(datos,bins=\"auto\",density=True)\n",
    "    x = x[1:]\n",
    "    dist = [d for d in dir(st) if isinstance(getattr(st,d),getattr(st,\"rv_continuous\"))]\n",
    "    dist = dist[0:50] + [\"norm\"]\n",
    "    error = pd.DataFrame(index = dist, columns=[\"error\"])\n",
    "    for d in dist:\n",
    "        params = getattr(st,d).fit(datos)\n",
    "        y_hat = getattr(st,d)(*params).pdf(x)\n",
    "        error.loc[d] = ((y - y_hat)**2).mean()\n",
    "    menor_error = error.sort_values(by=\"error\")\n",
    "    menor_error = menor_error[0:5]\n",
    "    dists_menor_error = menor_error.index\n",
    "    distribucion_menor_error = []\n",
    "    parametros = []\n",
    "    for d in dists_menor_error:\n",
    "        distribucion_menor_error.append(getattr(st,d))\n",
    "        params = getattr(st,d).fit(datos)\n",
    "        y_hat = getattr(st,d)(*params).pdf(x)\n",
    "        parametros.append(params)\n",
    "        plt.plot(x,y_hat,label=d)\n",
    "    plt.legend()\n",
    "    return distribucion_menor_error[0], parametros[0]\n",
    "\n",
    "\n",
    "\n",
    "#Prueba de intervalos de confianza\n",
    "def intervalo_confianza(m:\"Media de la distribución original\",sim:\"Variable simulada\",c=\"Intervalo de confianza\"):\n",
    "    \"\"\"\n",
    "    Esta función crea una estimación del intervalo de confianza para la media de la variable simulada, y genera prueba de\n",
    "    hipótesis, además de aceptarla o rechazarla, para una variable aleatoria normal. Imprime el intervalo de confianza para\n",
    "    t-Student, normal, la media calculada de la variable simulada, una media rechazable, el estadístico de student, el valor\n",
    "    de p para la prueba, la región de rechazo y el cálculo del estadístico de prueba teórico (uf!)\n",
    "    \"\"\"\n",
    "    N = len(sim)\n",
    "    i_t = st.t.interval(c, len(sim)-1, loc=np.mean(sim), scale=st.sem(sim))\n",
    "    i_n = st.norm.interval(c, loc=np.mean(sim), scale=st.sem(sim))\n",
    "    media_calc = np.mean(sim)\n",
    "    # prueba de hipotesis para H0= mu=media2\n",
    "    ho = st.ttest_1samp(sim, media_calc)\n",
    "    # Calculamos el estadístico normalizado\n",
    "    t = (np.mean(sim) - media_calc)/(np.std(sim) / np.sqrt(N))\n",
    "    # Cálculo de la región de rechazo\n",
    "    cuantil = st.t(N-1).cdf(c/2)\n",
    "    print('Con una confianza de %2.2f la media estará en el intervalo t,\\n %s     ' %(c,i_t))\n",
    "    print('Con una confianza de %2.2f la media estará en el intervalo normal,\\n %s' %(c,i_n))\n",
    "    print('Media calculada' ,np.mean(sim))\n",
    "    print('La prueba de hipótesis arroja como resultado\\n',ho)\n",
    "    print('Cálculo del estadístico de prueba teórico=', t)\n",
    "    print(f'Región de rechazo = (t<{-cuantil}) U (t>{cuantil})')\n",
    "    if ho.pvalue > c:\n",
    "        print(\"Se acepta la hipótesis nula, la media es igual a\",media_calc,\"con un\",c,\"% de confianza.\")\n",
    "    else:\n",
    "        print(\"Se rechaza la hipótesis nula. La media es diferente de\",media_calc)\n",
    "        \n",
    "# Reducción de varianza, estratificación\n",
    "def estratificacion(B = 1000):\n",
    "    \"\"\"\n",
    "    Función estratificación: \n",
    "    Esta función crea B números aleatorios uniformes estratificados, con el propósito de reducir\n",
    "    la varianza en la función aleatoria creada.\n",
    "    Valor Default B es 1000. Esto quiere decir que se crearán 1000 aleatorios espaciados\n",
    "    uniformemente.\n",
    "    \"\"\"\n",
    "    i = np.arange(0,B)\n",
    "    U = np.random.rand(B)\n",
    "    return (U + i)/B\n",
    "def estrat(a,b,N: \"Cantidad de números a generar\"):\n",
    "    U = np.random.rand(N)\n",
    "    i = np.arange(0,N)\n",
    "    return (b-a)*((U + i)/N)+a\n",
    "# Generación de variables aleatorias\n",
    "\n",
    "#Función aceptación / rechazo\n",
    "def a_r(f: \"Función KDE\",f_max: \"Máximo de la función\",dom: \"Dominio de la función\" ,N = 1000):\n",
    "    \"\"\"\n",
    "    Función Aceptación/Rechazo. Esta función crea variables aleatorias mediante el criterio de\n",
    "    aceptación rechazo, a partir de la función generada por el KDE anteriormente. Recibe la \n",
    "    función generada por el KDE, el máximo de esta función, y un vector de aleatorios uniformes.\n",
    "    Se recomienda que el vector de aleatorios uniformes sea generado mediante estratificación.\n",
    "    Si la función no recibe un vector de uniformes, genera uno mediante la función estratificación\n",
    "    por default.\n",
    "    \n",
    "    \"\"\"\n",
    "    a = dom[0]\n",
    "    b = dom[-1]\n",
    "    X = np.zeros(N)\n",
    "    i = 0 \n",
    "    while i < N:\n",
    "        R2 = np.random.uniform(0,f_max) \n",
    "        R1 = np.random.uniform(a,b,1)\n",
    "        if R2 < f(R1):\n",
    "            X[i] = R1\n",
    "            i+=1\n",
    "    return X\n",
    "    \n",
    "#Para KDE:\n",
    "def kde_statsmodels_m(x, **kwargs):\n",
    "    \"\"\"Multivariate Kernel Density Estimation with Statsmodels\"\"\"\n",
    "    from statsmodels.nonparametric.kernel_density import KDEMultivariate\n",
    "    kde = KDEMultivariate(x, \n",
    "                          #bw=0.1,  #bandwidth * np.ones_like(x),\n",
    "                          var_type='c', **kwargs)\n",
    "    return lambda x_grid: kde.pdf(x_grid)\n",
    "def max_func(f: \"Función de KDE a maximizar\",dominio: \"Espacio generado para el KDE\"):\n",
    "    \"\"\"\n",
    "    Función maximizador de función. Esta función maximiza la función obtenida por el KDE en el \n",
    "    dominio generado para esta misma (generalmente variable space). Regresa el máximo. Necesaria\n",
    "    para la función de aceptación rechazo.\n",
    "    \"\"\"\n",
    "    from scipy import optimize\n",
    "    x = dominio\n",
    "    return f(optimize.fmin(lambda x:-f(x),0,disp=False))\n",
    "\n",
    "# Transformada inversa\n",
    "def trans_inversa(dist, params, size):\n",
    "    y_hat = dist.rvs(*params,size)\n",
    "    return y_hat\n",
    "\n",
    "# Prueba cuantil cuantil\n",
    "def qq(var: \"Variable a comprobar\",dist: \"Distribución a comprobar\",params: \"Parámetros distribución\"):\n",
    "    \"\"\"\n",
    "    Función qq. Prueba cuantil cuantil. Esta función crea el plot de la prueba cuantil cuantil,\n",
    "    (\"qq\"), para la variable dada y la distribución dada. La variable debe ser la colección de \n",
    "    frecuencias de una variable aleatoria generada. La distribución debe ser dada por la librería\n",
    "    Stats de Scipy. No regresa valores. Grafica el plot de la prueba qq.\n",
    "    \"\"\"\n",
    "    fig, ax = plt.subplots(2,1)\n",
    "    y,x,_ = ax[0].hist(var,bins=\"auto\",density=True)\n",
    "    x = x[:-1]\n",
    "    y2 = dist.pdf(x,*params)\n",
    "    ax[0].plot(x,y,\"g--\")\n",
    "    ax[0].set_ylabel(\"Probabilidad\")\n",
    "    import statsmodels.api as sm\n",
    "    sm.qqplot(var,dist=dist,line=\"q\",fit=True,ax=ax[1])\n",
    "    plt.grid()\n",
    "    ax[1].set_ylabel(\"Cuantiles\")\n",
    "#Chi cuadrada    \n",
    "def chi2(dist: \"Distribución a probar\",param: \"Parámetros\",y: \"Frecuencias\",x:\"Histograma\"):\n",
    "    \"\"\"\n",
    "    Prueba de Chi Cuadrada. Esta función realiza la prueba de chi cuadrada para una distribución\n",
    "    dada, con parámetros dados, y el histograma de la distribución obtenido. Obtiene la función\n",
    "    de distribución de probabilidad de la distribución dada, y calcula el estadístico de Chi2\n",
    "    para poder determinar si se acepta o se rechaza la Hipótesis Nula. Calcula los grados de \n",
    "    libertad en base a la longitud de datos recibidos del histograma. No regresa valores.\n",
    "    \"\"\"\n",
    "    J = len(x)\n",
    "    pi = dist.pdf(x,*param)\n",
    "    #Cálculo de Esperanza de la distribución teórica\n",
    "    Ei = x*pi\n",
    "    #Cálculo teórico de la chi2\n",
    "    chi2 = ((y - Ei)**2 / Ei).sum()\n",
    "    print(\"Valor teórico de Chi2 =\",chi2)\n",
    "    #Cálculo mediante librería de chi2\n",
    "    CHI2 = st.chisquare(y,Ei)\n",
    "    print(\"Valor por librería de Chi2 =\",CHI2)\n",
    "    #Grados de libertad\n",
    "    m = J-1\n",
    "    #Obtención del estadístico de Chi2\n",
    "    Chi_st = st.chi2.ppf(q=0.95,df=m)\n",
    "    print(\"Estadístico de Chi2 =\", Chi_st)   \n"
   ]
  },
  {
   "cell_type": "markdown",
   "metadata": {},
   "source": [
    "## <font color='navy'> Representación de Variables Aleatorias"
   ]
  },
  {
   "cell_type": "code",
   "execution_count": 15,
   "metadata": {},
   "outputs": [],
   "source": [
    "#Temperatura, medida en grados celsius\n",
    "#Humedad en porcentaje 0 - 100\n",
    "#Presión, dada en Hectopascales\n",
    "#Velocidad del viento en millas por hora\n",
    "#Dirección del viento en grados (0 - 360)\n",
    "#plt.hist(wind_speed)\n",
    "#Distribución normal para la temperatura, con características\n",
    "temp_mean = temper.mean()\n",
    "temp_sd = temper.std()\n",
    "temp_sim = np.random.normal(loc=temp_mean,scale=temp_sd,size=12000)\n",
    "#Distribución desconocida para la humedad(pedir ayuda), con características   (# está sesgada )\n",
    "hum_mean = humedad.mean()\n",
    "humedad_sim = st.expon(loc=0,scale=hum_mean).rvs(size=10000, random_state=123)\n",
    "#Distribución normal para la presión\n",
    "presion_mean = presion.mean()\n",
    "presion_sd = presion.std()\n",
    "presion_sim = st.norm(loc=presion_mean,scale=presion_sd).rvs(size=10000)\n",
    "#Distribución exponencial para la velocidad del viento, con características\n",
    "wS_mean = wind_speed.mean()\n",
    "wS_sd = wind_speed.std()\n",
    "wS_sim = st.expon(loc=0,scale=wS_mean).rvs(size=45000, random_state=69)"
   ]
  },
  {
   "cell_type": "code",
   "execution_count": 16,
   "metadata": {
    "scrolled": true
   },
   "outputs": [
    {
     "name": "stderr",
     "output_type": "stream",
     "text": [
      "C:\\Users\\dpint\\anaconda3\\lib\\site-packages\\seaborn\\distributions.py:2551: FutureWarning: `distplot` is a deprecated function and will be removed in a future version. Please adapt your code to use either `displot` (a figure-level function with similar flexibility) or `histplot` (an axes-level function for histograms).\n",
      "  warnings.warn(msg, FutureWarning)\n",
      "C:\\Users\\dpint\\anaconda3\\lib\\site-packages\\seaborn\\distributions.py:2551: FutureWarning: `distplot` is a deprecated function and will be removed in a future version. Please adapt your code to use either `displot` (a figure-level function with similar flexibility) or `histplot` (an axes-level function for histograms).\n",
      "  warnings.warn(msg, FutureWarning)\n",
      "C:\\Users\\dpint\\anaconda3\\lib\\site-packages\\seaborn\\distributions.py:2551: FutureWarning: `distplot` is a deprecated function and will be removed in a future version. Please adapt your code to use either `displot` (a figure-level function with similar flexibility) or `histplot` (an axes-level function for histograms).\n",
      "  warnings.warn(msg, FutureWarning)\n",
      "C:\\Users\\dpint\\anaconda3\\lib\\site-packages\\seaborn\\distributions.py:2551: FutureWarning: `distplot` is a deprecated function and will be removed in a future version. Please adapt your code to use either `displot` (a figure-level function with similar flexibility) or `histplot` (an axes-level function for histograms).\n",
      "  warnings.warn(msg, FutureWarning)\n",
      "C:\\Users\\dpint\\anaconda3\\lib\\site-packages\\seaborn\\distributions.py:2551: FutureWarning: `distplot` is a deprecated function and will be removed in a future version. Please adapt your code to use either `displot` (a figure-level function with similar flexibility) or `histplot` (an axes-level function for histograms).\n",
      "  warnings.warn(msg, FutureWarning)\n"
     ]
    },
    {
     "data": {
      "image/png": "[encoded data removed]",
      "text/plain": [
       "<Figure size 720x720 with 5 Axes>"
      ]
     },
     "metadata": {
      "needs_background": "light"
     },
     "output_type": "display_data"
    }
   ],
   "source": [
    "#Gráfica de distribución usando funciones de python:\n",
    "plt.figure(figsize=(10,10))\n",
    "plt.subplot(3,3,1)\n",
    "sns.distplot(presion,color='darkviolet')\n",
    "plt.title('Distribución de presión')\n",
    "plt.subplot(3,3,2)\n",
    "sns.distplot(temper,color='orange')\n",
    "plt.title('Distribución de temperatura')\n",
    "plt.subplot(3,3,3)\n",
    "sns.distplot(humedad,color='lightcoral')\n",
    "plt.title('Distribución de húmedad')\n",
    "plt.subplot(3,3,4)\n",
    "sns.distplot(wind_speed,color='limegreen')\n",
    "plt.title('Distribución de velocidad del viento')\n",
    "plt.subplot(3,3,5)\n",
    "sns.distplot(wind_dir,color='fuchsia')\n",
    "plt.title('Distribución de dirección del viento')\n",
    "plt.tight_layout()\n",
    "plt.show()\n",
    "\n",
    "\n",
    "import warnings\n",
    "warnings.filterwarnings(\"ignore\")\n",
    "warnings.simplefilter(action='ignore', category=FutureWarning)"
   ]
  },
  {
   "cell_type": "markdown",
   "metadata": {},
   "source": [
    "## <font color='navy'> Categorización de Variables Aleatorias:"
   ]
  },
  {
   "cell_type": "markdown",
   "metadata": {},
   "source": [
    "Separamos los datos por estaciones de manera que primavera corresponde al número 1, verano al número 2, otoño al número 3 e invierno al número 4 ya que teniendo esos datos de manera cualitativa es más sencillo hacer el análisis y gráficado por estación y en consecuencia ayuda a tener un pronóstico más preciso."
   ]
  },
  {
   "cell_type": "code",
   "execution_count": 17,
   "metadata": {},
   "outputs": [
    {
     "data": {
      "text/html": [
       "<div>\n",
       "<style scoped>\n",
       "    .dataframe tbody tr th:only-of-type {\n",
       "        vertical-align: middle;\n",
       "    }\n",
       "\n",
       "    .dataframe tbody tr th {\n",
       "        vertical-align: top;\n",
       "    }\n",
       "\n",
       "    .dataframe thead th {\n",
       "        text-align: right;\n",
       "    }\n",
       "</style>\n",
       "<table border=\"1\" class=\"dataframe\">\n",
       "  <thead>\n",
       "    <tr style=\"text-align: right;\">\n",
       "      <th></th>\n",
       "      <th>Humidity</th>\n",
       "      <th>Temperature</th>\n",
       "      <th>Pressure</th>\n",
       "      <th>Wind_speed</th>\n",
       "      <th>date</th>\n",
       "      <th>season</th>\n",
       "    </tr>\n",
       "  </thead>\n",
       "  <tbody>\n",
       "    <tr>\n",
       "      <th>34661</th>\n",
       "      <td>59.0</td>\n",
       "      <td>15.660</td>\n",
       "      <td>1019.0</td>\n",
       "      <td>1.0</td>\n",
       "      <td>2016-09-14</td>\n",
       "      <td>3</td>\n",
       "    </tr>\n",
       "    <tr>\n",
       "      <th>36335</th>\n",
       "      <td>100.0</td>\n",
       "      <td>6.900</td>\n",
       "      <td>1013.0</td>\n",
       "      <td>4.0</td>\n",
       "      <td>2016-11-23</td>\n",
       "      <td>3</td>\n",
       "    </tr>\n",
       "    <tr>\n",
       "      <th>16938</th>\n",
       "      <td>66.0</td>\n",
       "      <td>17.818</td>\n",
       "      <td>1024.0</td>\n",
       "      <td>1.0</td>\n",
       "      <td>2014-09-07</td>\n",
       "      <td>3</td>\n",
       "    </tr>\n",
       "  </tbody>\n",
       "</table>\n",
       "</div>"
      ],
      "text/plain": [
       "       Humidity  Temperature  Pressure  Wind_speed        date  season\n",
       "34661      59.0       15.660    1019.0         1.0  2016-09-14       3\n",
       "36335     100.0        6.900    1013.0         4.0  2016-11-23       3\n",
       "16938      66.0       17.818    1024.0         1.0  2014-09-07       3"
      ]
     },
     "execution_count": 17,
     "metadata": {},
     "output_type": "execute_result"
    }
   ],
   "source": [
    "dataframe = pd.DataFrame(columns=[\"Datetime\",'Humidity','Temperature','Pressure',\"Wind_speed\"], dtype='float')\n",
    "dataframe[\"Datetime\"]= data2.datetime\n",
    "dataframe[\"Humidity\"]=humedad\n",
    "dataframe[\"Temperature\"]=temper\n",
    "dataframe[\"Pressure\"]=presion\n",
    "dataframe[\"Wind_speed\"]=wind_speed\n",
    "\n",
    "time=pd.DatetimeIndex(dataframe['Datetime'])\n",
    "dataframe['date']=time.date\n",
    "dataframe['year']=time.year\n",
    "dataframe['month']=time.month\n",
    "dataframe['day']=time.day\n",
    "dataframe['time']=time.time\n",
    "dataframe[\"season\"]=dataframe[\"month\"]\n",
    "    \n",
    "               \n",
    "#Separación por estaciones\n",
    "#tabla2.sample(2)\n",
    "\n",
    "primavera = lambda x: True if (x == 3 or x == 4 or x == 5) else False\n",
    "verano = lambda x: True if (x == 6 or x == 7 or x == 8) else False\n",
    "otono = lambda x: True if (x == 9 or x == 10 or x == 11) else False\n",
    "invierno = lambda x: True if (x == 1 or x == 2 or x == 12) else False\n",
    "temp = 0\n",
    "for i in range(len(dataframe[\"month\"])):\n",
    "    temp = dataframe[\"month\"][i]\n",
    "    if primavera(temp):\n",
    "        dataframe[\"season\"][i] = 1\n",
    "    elif verano(temp):\n",
    "        dataframe[\"season\"][i] = 2\n",
    "    elif otono(temp):\n",
    "        dataframe[\"season\"][i] = 3\n",
    "    elif invierno(temp):\n",
    "        dataframe[\"season\"][i] = 4\n",
    "#dataframe.sample(8)\n",
    "dataframe.drop('Datetime', inplace=True,axis=1)\n",
    "dataframe.drop('year', inplace=True,axis=1)\n",
    "dataframe.drop('month', inplace=True,axis=1)\n",
    "dataframe.drop('day', inplace=True,axis=1)\n",
    "dataframe.drop('time', inplace=True,axis=1)\n",
    "dataframe.sample(3)"
   ]
  },
  {
   "cell_type": "code",
   "execution_count": 18,
   "metadata": {},
   "outputs": [
    {
     "data": {
      "text/html": [
       "<div>\n",
       "<style scoped>\n",
       "    .dataframe tbody tr th:only-of-type {\n",
       "        vertical-align: middle;\n",
       "    }\n",
       "\n",
       "    .dataframe tbody tr th {\n",
       "        vertical-align: top;\n",
       "    }\n",
       "\n",
       "    .dataframe thead th {\n",
       "        text-align: right;\n",
       "    }\n",
       "</style>\n",
       "<table border=\"1\" class=\"dataframe\">\n",
       "  <thead>\n",
       "    <tr style=\"text-align: right;\">\n",
       "      <th></th>\n",
       "      <th>Humidity</th>\n",
       "      <th>Temperature</th>\n",
       "      <th>Pressure</th>\n",
       "      <th>Wind_speed</th>\n",
       "      <th>season</th>\n",
       "    </tr>\n",
       "  </thead>\n",
       "  <tbody>\n",
       "    <tr>\n",
       "      <th>count</th>\n",
       "      <td>44964.000000</td>\n",
       "      <td>45250.000000</td>\n",
       "      <td>45240.000000</td>\n",
       "      <td>45252.000000</td>\n",
       "      <td>45253.000000</td>\n",
       "    </tr>\n",
       "    <tr>\n",
       "      <th>mean</th>\n",
       "      <td>77.159038</td>\n",
       "      <td>11.259626</td>\n",
       "      <td>1021.001216</td>\n",
       "      <td>2.118116</td>\n",
       "      <td>2.507303</td>\n",
       "    </tr>\n",
       "    <tr>\n",
       "      <th>std</th>\n",
       "      <td>18.147464</td>\n",
       "      <td>6.547986</td>\n",
       "      <td>9.737187</td>\n",
       "      <td>1.629988</td>\n",
       "      <td>1.102848</td>\n",
       "    </tr>\n",
       "    <tr>\n",
       "      <th>min</th>\n",
       "      <td>13.000000</td>\n",
       "      <td>-9.370000</td>\n",
       "      <td>980.000000</td>\n",
       "      <td>0.000000</td>\n",
       "      <td>1.000000</td>\n",
       "    </tr>\n",
       "    <tr>\n",
       "      <th>25%</th>\n",
       "      <td>66.000000</td>\n",
       "      <td>6.680000</td>\n",
       "      <td>1015.000000</td>\n",
       "      <td>1.000000</td>\n",
       "      <td>2.000000</td>\n",
       "    </tr>\n",
       "    <tr>\n",
       "      <th>50%</th>\n",
       "      <td>81.000000</td>\n",
       "      <td>10.790000</td>\n",
       "      <td>1020.000000</td>\n",
       "      <td>2.000000</td>\n",
       "      <td>3.000000</td>\n",
       "    </tr>\n",
       "    <tr>\n",
       "      <th>75%</th>\n",
       "      <td>93.000000</td>\n",
       "      <td>15.380000</td>\n",
       "      <td>1027.000000</td>\n",
       "      <td>3.000000</td>\n",
       "      <td>3.000000</td>\n",
       "    </tr>\n",
       "    <tr>\n",
       "      <th>max</th>\n",
       "      <td>100.000000</td>\n",
       "      <td>34.150000</td>\n",
       "      <td>1058.000000</td>\n",
       "      <td>24.000000</td>\n",
       "      <td>4.000000</td>\n",
       "    </tr>\n",
       "  </tbody>\n",
       "</table>\n",
       "</div>"
      ],
      "text/plain": [
       "           Humidity   Temperature      Pressure    Wind_speed        season\n",
       "count  44964.000000  45250.000000  45240.000000  45252.000000  45253.000000\n",
       "mean      77.159038     11.259626   1021.001216      2.118116      2.507303\n",
       "std       18.147464      6.547986      9.737187      1.629988      1.102848\n",
       "min       13.000000     -9.370000    980.000000      0.000000      1.000000\n",
       "25%       66.000000      6.680000   1015.000000      1.000000      2.000000\n",
       "50%       81.000000     10.790000   1020.000000      2.000000      3.000000\n",
       "75%       93.000000     15.380000   1027.000000      3.000000      3.000000\n",
       "max      100.000000     34.150000   1058.000000     24.000000      4.000000"
      ]
     },
     "execution_count": 18,
     "metadata": {},
     "output_type": "execute_result"
    }
   ],
   "source": [
    "dataframe.describe()"
   ]
  },
  {
   "cell_type": "markdown",
   "metadata": {},
   "source": [
    "## <font color='navy'> Correlación de variables para box-plot:"
   ]
  },
  {
   "cell_type": "code",
   "execution_count": 19,
   "metadata": {},
   "outputs": [
    {
     "data": {
      "text/html": [
       "<div>\n",
       "<style scoped>\n",
       "    .dataframe tbody tr th:only-of-type {\n",
       "        vertical-align: middle;\n",
       "    }\n",
       "\n",
       "    .dataframe tbody tr th {\n",
       "        vertical-align: top;\n",
       "    }\n",
       "\n",
       "    .dataframe thead th {\n",
       "        text-align: right;\n",
       "    }\n",
       "</style>\n",
       "<table border=\"1\" class=\"dataframe\">\n",
       "  <thead>\n",
       "    <tr style=\"text-align: right;\">\n",
       "      <th></th>\n",
       "      <th>Humidity</th>\n",
       "      <th>Temperature</th>\n",
       "      <th>Pressure</th>\n",
       "      <th>Wind_speed</th>\n",
       "      <th>season</th>\n",
       "    </tr>\n",
       "  </thead>\n",
       "  <tbody>\n",
       "    <tr>\n",
       "      <th>Humidity</th>\n",
       "      <td>1.000000</td>\n",
       "      <td>-0.566657</td>\n",
       "      <td>-0.068157</td>\n",
       "      <td>-0.033302</td>\n",
       "      <td>0.286764</td>\n",
       "    </tr>\n",
       "    <tr>\n",
       "      <th>Temperature</th>\n",
       "      <td>-0.566657</td>\n",
       "      <td>1.000000</td>\n",
       "      <td>-0.077830</td>\n",
       "      <td>0.063496</td>\n",
       "      <td>-0.407793</td>\n",
       "    </tr>\n",
       "    <tr>\n",
       "      <th>Pressure</th>\n",
       "      <td>-0.068157</td>\n",
       "      <td>-0.077830</td>\n",
       "      <td>1.000000</td>\n",
       "      <td>-0.285729</td>\n",
       "      <td>0.011887</td>\n",
       "    </tr>\n",
       "    <tr>\n",
       "      <th>Wind_speed</th>\n",
       "      <td>-0.033302</td>\n",
       "      <td>0.063496</td>\n",
       "      <td>-0.285729</td>\n",
       "      <td>1.000000</td>\n",
       "      <td>0.006337</td>\n",
       "    </tr>\n",
       "    <tr>\n",
       "      <th>season</th>\n",
       "      <td>0.286764</td>\n",
       "      <td>-0.407793</td>\n",
       "      <td>0.011887</td>\n",
       "      <td>0.006337</td>\n",
       "      <td>1.000000</td>\n",
       "    </tr>\n",
       "  </tbody>\n",
       "</table>\n",
       "</div>"
      ],
      "text/plain": [
       "             Humidity  Temperature  Pressure  Wind_speed    season\n",
       "Humidity     1.000000    -0.566657 -0.068157   -0.033302  0.286764\n",
       "Temperature -0.566657     1.000000 -0.077830    0.063496 -0.407793\n",
       "Pressure    -0.068157    -0.077830  1.000000   -0.285729  0.011887\n",
       "Wind_speed  -0.033302     0.063496 -0.285729    1.000000  0.006337\n",
       "season       0.286764    -0.407793  0.011887    0.006337  1.000000"
      ]
     },
     "execution_count": 19,
     "metadata": {},
     "output_type": "execute_result"
    }
   ],
   "source": [
    "#Crear data frame de variables cuantitativas para Seattle:\n",
    "tabla = pd.DataFrame(columns=['Humidity','Temperature','Pressure',\"Wind_speed\"], dtype='float')\n",
    "tabla[\"Humidity\"]=humedad\n",
    "tabla[\"Temperature\"]=temper\n",
    "tabla[\"Pressure\"]=presion\n",
    "tabla[\"Wind_speed\"]=wind_speed\n",
    "#tabla.sample(3)\n",
    "#Método de correlación de Pearson:\n",
    "dataframe.corr(method=\"pearson\")"
   ]
  },
  {
   "cell_type": "markdown",
   "metadata": {},
   "source": [
    "* La correlación de variables nos dice que humedad y temperatura tiene una correlación más significativa que ninguna otra varible y esta es inversa, es decir, mientras una aumenta la otra disminuye.\n",
    "* Aunque nuestro objetivo es centrarnos en un sóla estación utilizamos todas en el dataframe y todavía no filtramos para poder gráficar el boxplot y compararlas entre sí, de esa manera y teniendo ya conocimiento de la correlación de las variables será más sencillo realizar la elección de estación."
   ]
  },
  {
   "cell_type": "markdown",
   "metadata": {},
   "source": [
    "## <font color='navy'> Análisis de correlación de variables 2 -> Correlación lineal:"
   ]
  },
  {
   "cell_type": "code",
   "execution_count": 20,
   "metadata": {},
   "outputs": [
    {
     "data": {
      "text/plain": [
       "Text(0, 0.5, 'Humedad')"
      ]
     },
     "execution_count": 20,
     "metadata": {},
     "output_type": "execute_result"
    },
    {
     "data": {
      "image/png": "[encoded data removed]",
      "text/plain": [
       "<Figure size 432x288 with 1 Axes>"
      ]
     },
     "metadata": {
      "needs_background": "light"
     },
     "output_type": "display_data"
    }
   ],
   "source": [
    "#Diagrama de dispersion de temperatura y humedad: \n",
    "plt.scatter(tabla[\"Temperature\"].head(10000),tabla[\"Humidity\"].head(10000))\n",
    "plt.title(\"Temperatura y Humedad en Seattle\")\n",
    "plt.xlabel(\"Temperatura\")\n",
    "plt.ylabel(\"Humedad\")"
   ]
  },
  {
   "cell_type": "markdown",
   "metadata": {},
   "source": [
    "* Los puntos se encuentarn muy concentrados así que se comprueba que estas dos variables efectivamente están correlacionadas y por la dirección también se concluye que entre mayor sea la temperatura menor es la humedad lo cual quiere decir que hay una relación inversa (correlación negativa)."
   ]
  },
  {
   "cell_type": "markdown",
   "metadata": {},
   "source": [
    "## <font color='navy'> Boxplot:"
   ]
  },
  {
   "cell_type": "code",
   "execution_count": 21,
   "metadata": {},
   "outputs": [
    {
     "data": {
      "image/png": "[encoded data removed]",
      "text/plain": [
       "<Figure size 720x720 with 4 Axes>"
      ]
     },
     "metadata": {
      "needs_background": "light"
     },
     "output_type": "display_data"
    }
   ],
   "source": [
    "#Boxplot por estación:\n",
    "plt.figure(figsize=(10,10))\n",
    "plt.subplot(3,3,1)\n",
    "sns.boxplot(x=\"season\",y='Temperature',data=dataframe)\n",
    "plt.title('Temperatura por estación del año')\n",
    "plt.subplot(3,3,2)\n",
    "sns.boxplot(x='season',y='Pressure',data=dataframe)\n",
    "plt.title('Presión por estación del año')\n",
    "plt.subplot(3,3,3)\n",
    "sns.boxplot(x='season',y='Humidity',data=dataframe)\n",
    "plt.title('Húmedad por estación del año')\n",
    "plt.subplot(3,3,4)\n",
    "sns.boxplot(x='season',y='Wind_speed',data=dataframe)\n",
    "plt.title('Velocidad por estación del año')\n",
    "plt.tight_layout()\n",
    "plt.show()"
   ]
  },
  {
   "cell_type": "markdown",
   "metadata": {},
   "source": [
    "Box-plot análisis:\n",
    "    \n",
    "- Usamos la técnica de boxplot para comparar grupos, en este caso estaciones y de esa manera hacer más clara la elección de con cual estación trabajaremos exclusivamente\n",
    "\n",
    "- Decidimos quedarnos con verano ya que es la estación con menos humedad y con más temperatura por lo que eso disminuye la probabilidad de lluvia así que podemos lanzar nuestra promoción con un menor riesgo de pérdidas, además en el análisis de correlación observamos que hay una relación inversa entre estas dos variables y si la temperatura es alta y la humedad relativamente baja entonces las gotas de lluvia podrían evaporarse antes de llegar a la superficie.\n",
    "\n",
    "- Los valores mayores en temperatura los tiene verano y los valores menores en humedad los tiene también verano; sin contar los valores atípicos de humedad de las otras variables ya que estos son mínimos. "
   ]
  },
  {
   "cell_type": "markdown",
   "metadata": {},
   "source": [
    "### Filtrado de datos por estación:"
   ]
  },
  {
   "cell_type": "code",
   "execution_count": 22,
   "metadata": {},
   "outputs": [
    {
     "data": {
      "text/html": [
       "<div>\n",
       "<style scoped>\n",
       "    .dataframe tbody tr th:only-of-type {\n",
       "        vertical-align: middle;\n",
       "    }\n",
       "\n",
       "    .dataframe tbody tr th {\n",
       "        vertical-align: top;\n",
       "    }\n",
       "\n",
       "    .dataframe thead th {\n",
       "        text-align: right;\n",
       "    }\n",
       "</style>\n",
       "<table border=\"1\" class=\"dataframe\">\n",
       "  <thead>\n",
       "    <tr style=\"text-align: right;\">\n",
       "      <th></th>\n",
       "      <th>Humidity</th>\n",
       "      <th>Temperature</th>\n",
       "      <th>Pressure</th>\n",
       "      <th>Wind_speed</th>\n",
       "      <th>date</th>\n",
       "      <th>season</th>\n",
       "    </tr>\n",
       "  </thead>\n",
       "  <tbody>\n",
       "    <tr>\n",
       "      <th>5820</th>\n",
       "      <td>54.0</td>\n",
       "      <td>14.93</td>\n",
       "      <td>1041.0</td>\n",
       "      <td>0.0</td>\n",
       "      <td>2013-06-01</td>\n",
       "      <td>2</td>\n",
       "    </tr>\n",
       "    <tr>\n",
       "      <th>5821</th>\n",
       "      <td>58.0</td>\n",
       "      <td>14.39</td>\n",
       "      <td>1041.0</td>\n",
       "      <td>0.0</td>\n",
       "      <td>2013-06-01</td>\n",
       "      <td>2</td>\n",
       "    </tr>\n",
       "    <tr>\n",
       "      <th>5822</th>\n",
       "      <td>58.0</td>\n",
       "      <td>14.00</td>\n",
       "      <td>1042.0</td>\n",
       "      <td>0.0</td>\n",
       "      <td>2013-06-01</td>\n",
       "      <td>2</td>\n",
       "    </tr>\n",
       "    <tr>\n",
       "      <th>5823</th>\n",
       "      <td>71.0</td>\n",
       "      <td>13.43</td>\n",
       "      <td>1023.0</td>\n",
       "      <td>5.0</td>\n",
       "      <td>2013-06-01</td>\n",
       "      <td>2</td>\n",
       "    </tr>\n",
       "    <tr>\n",
       "      <th>5824</th>\n",
       "      <td>76.0</td>\n",
       "      <td>12.65</td>\n",
       "      <td>1023.0</td>\n",
       "      <td>5.0</td>\n",
       "      <td>2013-06-01</td>\n",
       "      <td>2</td>\n",
       "    </tr>\n",
       "  </tbody>\n",
       "</table>\n",
       "</div>"
      ],
      "text/plain": [
       "      Humidity  Temperature  Pressure  Wind_speed        date  season\n",
       "5820      54.0        14.93    1041.0         0.0  2013-06-01       2\n",
       "5821      58.0        14.39    1041.0         0.0  2013-06-01       2\n",
       "5822      58.0        14.00    1042.0         0.0  2013-06-01       2\n",
       "5823      71.0        13.43    1023.0         5.0  2013-06-01       2\n",
       "5824      76.0        12.65    1023.0         5.0  2013-06-01       2"
      ]
     },
     "execution_count": 22,
     "metadata": {},
     "output_type": "execute_result"
    }
   ],
   "source": [
    "filtrado = dataframe[\"season\"] == 2 #el 2 corresponde a verano\n",
    "#filtrado.sample(10)\n",
    "df_filtrado = dataframe[filtrado]\n",
    "df_filtrado.head()"
   ]
  },
  {
   "cell_type": "markdown",
   "metadata": {},
   "source": [
    "## Limpieza de datos: "
   ]
  },
  {
   "cell_type": "markdown",
   "metadata": {},
   "source": [
    "* En resumen lo que hicimos fue eliminar todos los valores NA, no los rellenamos con ceros ya que no tiene sentido por el tipo de variables (temperatura, humedad, etc) ni con ningún otro valor ya que realmente no era ni el 0.1% de los datos; en total cada variable tiene alrededor de 45,000 datos y eran apenas unos cuantos NA que no hacen ninguna diferencia en nuestro análisis porque no son significativos.\n",
    "\n",
    "* Filtramos los datos a solamente los de la ciudad de Seattle en Estados Unidos porque es en donde está nuestro auto-lavado además de que tiene reputación de ser una ciudad lluviosa lo cual hace un análisis más interesante.\n",
    "\n",
    "* También eliminamos las variables categoricas y datos innecesarios para calcular las funciones de probabilidad. \n",
    "\n",
    "* Por último, después de realizar el análisis de box-plot y las correlaciones entre variables hicimos un filtrado por estación, quedandonos así con solamente los datos de verano en nuestro DataFrame."
   ]
  },
  {
   "cell_type": "markdown",
   "metadata": {},
   "source": [
    "## <font color='red'>  Nodo 1: Humedad"
   ]
  },
  {
   "cell_type": "code",
   "execution_count": 23,
   "metadata": {},
   "outputs": [],
   "source": [
    "#Data frame con los datos de Humedad, el número de veces que existe cada uno, su probabilidad de ocurrencia y la probabilidad acumulada:\n",
    "df_humedad = pd.DataFrame(columns=[\"Humedad\",\"Número_veces\",\"Probabilidad\",\"Prob_acumulada\"], dtype='float')\n",
    "df_humedad[\"Humedad\"]= np.unique(df_filtrado.Humidity, return_counts=True)[0]\n",
    "df_humedad[\"Número_veces\"]=np.unique(df_filtrado.Humidity, return_counts=True)[1]\n",
    "df_humedad[\"Probabilidad\"]=df_humedad['Número_veces']/len(df_filtrado.Humidity)\n",
    "df_humedad[\"Prob_acumulada\"]=df_humedad.Probabilidad.cumsum()\n",
    "df_humedad\n",
    "humedad = df_filtrado.Humidity.sample(1000)"
   ]
  },
  {
   "cell_type": "code",
   "execution_count": 24,
   "metadata": {},
   "outputs": [
    {
     "data": {
      "text/plain": [
       "Text(0.5, 1.0, 'Probabilidad de humedad para Verano en Seattle')"
      ]
     },
     "execution_count": 24,
     "metadata": {},
     "output_type": "execute_result"
    },
    {
     "data": {
      "image/png": "[encoded data removed]",
      "text/plain": [
       "<Figure size 432x288 with 1 Axes>"
      ]
     },
     "metadata": {
      "needs_background": "light"
     },
     "output_type": "display_data"
    }
   ],
   "source": [
    "#Histograma de Humedad\n",
    "y,x,_ = plt.hist(humedad,bins=\"auto\",density=True);\n",
    "plt.title(\"Probabilidad de humedad para Verano en Seattle\")"
   ]
  },
  {
   "cell_type": "markdown",
   "metadata": {},
   "source": [
    "- No parece adaptarse a una distribución normal, aunque podría ser asimétrica hacia la izquierda."
   ]
  },
  {
   "cell_type": "markdown",
   "metadata": {},
   "source": [
    "## Funciones de ajuste de distribución:"
   ]
  },
  {
   "cell_type": "markdown",
   "metadata": {},
   "source": [
    "### Ajuste de distribución por Scipy:"
   ]
  },
  {
   "cell_type": "markdown",
   "metadata": {},
   "source": [
    "Con esta función se intenta estimar cual es la distribución que mejor se ajusta a nuestros datos "
   ]
  },
  {
   "cell_type": "markdown",
   "metadata": {},
   "source": [
    "### Planteamiento de la hipótesis\n",
    "\n",
    "> $H_0$: Los datos tienen una distribución argus \n",
    "\n",
    "> $H_a$: Los datos no tienen una distribución argus "
   ]
  },
  {
   "cell_type": "code",
   "execution_count": 25,
   "metadata": {},
   "outputs": [
    {
     "data": {
      "text/plain": [
       "(0.00021771584941392927, 19.69529082029429, 81.32413548531349)"
      ]
     },
     "execution_count": 25,
     "metadata": {},
     "output_type": "execute_result"
    },
    {
     "data": {
      "image/png": "[encoded data removed]",
      "text/plain": [
       "<Figure size 432x288 with 1 Axes>"
      ]
     },
     "metadata": {
      "needs_background": "light"
     },
     "output_type": "display_data"
    }
   ],
   "source": [
    "dist, p = best_fit_params(humedad)\n",
    "p"
   ]
  },
  {
   "cell_type": "markdown",
   "metadata": {},
   "source": [
    "De acuerdo a Scipy, la distribución que mejor se ajusta es la distribución Argus, con parámetros ~0, ~ 20 y ~ 81."
   ]
  },
  {
   "cell_type": "markdown",
   "metadata": {},
   "source": [
    "### Comprobación de distribución Argus con prueba de Chi Cuadrada"
   ]
  },
  {
   "cell_type": "code",
   "execution_count": 26,
   "metadata": {
    "scrolled": true
   },
   "outputs": [
    {
     "name": "stdout",
     "output_type": "stream",
     "text": [
      "Valor teórico de Chi2 = 11.163462040181441\n",
      "Valor por librería de Chi2 = Power_divergenceResult(statistic=11.163462040181441, pvalue=0.5971259839643643)\n",
      "Estadístico de Chi2 = 22.362032494826934\n"
     ]
    }
   ],
   "source": [
    "chi2(dist,p,y,x[:-1])"
   ]
  },
  {
   "cell_type": "markdown",
   "metadata": {},
   "source": [
    "* Consideramos que el p value es bajo por lo tanto no podemos rechazar la hipotesis alternativa de que los datos no se ajustan a una distribución argus"
   ]
  },
  {
   "attachments": {},
   "cell_type": "markdown",
   "metadata": {},
   "source": [
    "### Comprobación de distribución Arguos con prueba Q - Q"
   ]
  },
  {
   "cell_type": "code",
   "execution_count": 27,
   "metadata": {},
   "outputs": [
    {
     "data": {
      "image/png": "[encoded data removed]",
      "text/plain": [
       "<Figure size 432x288 with 2 Axes>"
      ]
     },
     "metadata": {
      "needs_background": "light"
     },
     "output_type": "display_data"
    }
   ],
   "source": [
    "qq(humedad,dist,p)"
   ]
  },
  {
   "cell_type": "markdown",
   "metadata": {},
   "source": [
    "- Conclusión qq"
   ]
  },
  {
   "cell_type": "markdown",
   "metadata": {},
   "source": [
    "### Kernel density estimation:"
   ]
  },
  {
   "cell_type": "code",
   "execution_count": 28,
   "metadata": {
    "scrolled": true
   },
   "outputs": [
    {
     "data": {
      "image/png": "[encoded data removed]",
      "text/plain": [
       "<Figure size 432x288 with 1 Axes>"
      ]
     },
     "metadata": {
      "needs_background": "light"
     },
     "output_type": "display_data"
    }
   ],
   "source": [
    "dom = np.arange(0,100) #Dominio de la variable\n",
    "plt.hist(humedad,bins=\"auto\",density=True)\n",
    "f = kde_statsmodels_m(humedad)\n",
    "plt.plot(dom, f(dom), label='Función de masa de prob. estimada', color='y', linewidth=5)\n",
    "plt.xlabel('Humedad en porcentaje')\n",
    "plt.ylabel('Probabilidad')\n",
    "plt.title(\"Histograma y KDE\")\n",
    "plt.legend()\n",
    "plt.show()"
   ]
  },
  {
   "cell_type": "markdown",
   "metadata": {},
   "source": [
    "* En la gráfica podemos observar que se ajusta mejor a los datos ya que tiene más curvas."
   ]
  },
  {
   "cell_type": "markdown",
   "metadata": {},
   "source": [
    "## Creación de Variables Aleatorias"
   ]
  },
  {
   "cell_type": "markdown",
   "metadata": {},
   "source": [
    "### Método de la transformada Inversa:"
   ]
  },
  {
   "cell_type": "code",
   "execution_count": 29,
   "metadata": {},
   "outputs": [
    {
     "data": {
      "image/png": "[encoded data removed]",
      "text/plain": [
       "<Figure size 432x288 with 1 Axes>"
      ]
     },
     "metadata": {
      "needs_background": "light"
     },
     "output_type": "display_data"
    }
   ],
   "source": [
    "# A partir de la distribución obtenida por Scipy, argus\n",
    "humedad_aleatoria1 = trans_inversa(dist,p,10000)\n",
    "plt.plot(dom,dist(*p).pdf(dom))\n",
    "plt.hist(humedad_aleatoria1,density=True);"
   ]
  },
  {
   "cell_type": "code",
   "execution_count": null,
   "metadata": {},
   "outputs": [],
   "source": []
  },
  {
   "cell_type": "markdown",
   "metadata": {},
   "source": [
    "* En esta gráfica la distribución parece más suavizada a simple vista, sin embargo, el histograma a pesar de que se parezca a los datos reales los valores aleatorios no tiene tantos picos como los datos originales por lo que era de esperarse que la distribución se adaptara mejor así que no nos parece tan precisa."
   ]
  },
  {
   "cell_type": "markdown",
   "metadata": {},
   "source": [
    "### Método aceptación y rechazo a partir de estratificación:"
   ]
  },
  {
   "cell_type": "code",
   "execution_count": 30,
   "metadata": {
    "scrolled": true
   },
   "outputs": [
    {
     "data": {
      "image/png": "[encoded data removed]",
      "text/plain": [
       "<Figure size 432x288 with 1 Axes>"
      ]
     },
     "metadata": {
      "needs_background": "light"
     },
     "output_type": "display_data"
    }
   ],
   "source": [
    "#Creación de uniformes estratificados\n",
    "#Método aceptación/rechazo a partir de la función generada por KDE\n",
    "# Máximo de la función\n",
    "maximo = max_func(f,dom)\n",
    "humedad_aleatoria2 = a_r(f,maximo,dom)\n",
    "plt.plot(dom,f(dom))\n",
    "plt.hist(humedad_aleatoria2,density=True);\n",
    "\n"
   ]
  },
  {
   "cell_type": "markdown",
   "metadata": {},
   "source": [
    "### Encontrando la media mediante Montecarlo"
   ]
  },
  {
   "cell_type": "code",
   "execution_count": 31,
   "metadata": {},
   "outputs": [],
   "source": [
    "montecarlo_humedad = np.array([a_r(f,maximo,dom).mean() for i in range(1000)]).mean()\n"
   ]
  },
  {
   "cell_type": "code",
   "execution_count": 32,
   "metadata": {},
   "outputs": [
    {
     "data": {
      "text/plain": [
       "65.24829582059238"
      ]
     },
     "execution_count": 32,
     "metadata": {},
     "output_type": "execute_result"
    }
   ],
   "source": [
    "montecarlo_humedad"
   ]
  },
  {
   "cell_type": "code",
   "execution_count": 33,
   "metadata": {},
   "outputs": [
    {
     "name": "stdout",
     "output_type": "stream",
     "text": [
      "Media estratificada: 64.39140183942835\n",
      "Media datos originales:  66.205\n",
      "Desviación estándar estratificada: 18.005291895978548\n",
      "Desviación estándar con datos originales:  17.92693434472273\n"
     ]
    }
   ],
   "source": [
    "media_estratificada=np.mean(humedad_aleatoria2)\n",
    "media_real=np.mean(humedad)\n",
    "print('Media estratificada:', media_estratificada)\n",
    "print('Media datos originales: ', media_real)\n",
    "de_estratificada=np.std(humedad_aleatoria2)\n",
    "de_real=np.std(humedad)\n",
    "print('Desviación estándar estratificada:', de_estratificada)\n",
    "print('Desviación estándar con datos originales: ', de_real)"
   ]
  },
  {
   "cell_type": "markdown",
   "metadata": {},
   "source": [
    "* El método de aceptación y rechazo adapta más la distribución a nuestros datos reales además de que sus medias y desviación estándar son muy parecidas."
   ]
  },
  {
   "cell_type": "markdown",
   "metadata": {},
   "source": [
    "* Por lo tanto nos quedamos con KDE -> Aceptación/rechazo ya que se ajusta mejor a los datos originales."
   ]
  },
  {
   "cell_type": "markdown",
   "metadata": {},
   "source": [
    "## Pruebas de Bondad de Ajuste e Hipótesis"
   ]
  },
  {
   "cell_type": "markdown",
   "metadata": {},
   "source": [
    "### Prueba de Intervalo de Confianza de la Media"
   ]
  },
  {
   "cell_type": "code",
   "execution_count": 34,
   "metadata": {},
   "outputs": [
    {
     "data": {
      "text/plain": [
       "66.205"
      ]
     },
     "execution_count": 34,
     "metadata": {},
     "output_type": "execute_result"
    }
   ],
   "source": [
    "# Verdadera Media de la Humedad en Verano\n",
    "media_og = humedad.mean()\n",
    "media_og"
   ]
  },
  {
   "cell_type": "code",
   "execution_count": 35,
   "metadata": {},
   "outputs": [
    {
     "name": "stdout",
     "output_type": "stream",
     "text": [
      "Con una confianza de 0.95 la media estará en el intervalo t,\n",
      " (67.3761751505839, 68.10750756827171)     \n",
      "Con una confianza de 0.95 la media estará en el intervalo normal,\n",
      " (67.37621941386631, 68.10746330498931)\n",
      "Media calculada 67.74184135942781\n",
      "La prueba de hipótesis arroja como resultado\n",
      " Ttest_1sampResult(statistic=0.0, pvalue=1.0)\n",
      "Cálculo del estadístico de prueba teórico= 0.0\n",
      "Región de rechazo = (t<-0.6826013260235826) U (t>0.6826013260235826)\n",
      "Se acepta la hipótesis nula, la media es igual a 67.74184135942781 con un 0.95 % de confianza.\n"
     ]
    }
   ],
   "source": [
    "# Prueba de intervalo de confianza, Primera variable aleatoria generada\n",
    "intervalo_confianza(media_og,humedad_aleatoria1,.95)"
   ]
  },
  {
   "cell_type": "code",
   "execution_count": 36,
   "metadata": {},
   "outputs": [
    {
     "name": "stdout",
     "output_type": "stream",
     "text": [
      "Con una confianza de 0.95 la media estará en el intervalo t,\n",
      " (63.27353003523137, 65.50927364362535)     \n",
      "Con una confianza de 0.95 la media estará en el intervalo normal,\n",
      " (63.274884393838946, 65.50791928501776)\n",
      "Media calculada 64.39140183942835\n",
      "La prueba de hipótesis arroja como resultado\n",
      " Ttest_1sampResult(statistic=0.0, pvalue=1.0)\n",
      "Cálculo del estadístico de prueba teórico= 0.0\n",
      "Región de rechazo = (t<-0.6825546003581691) U (t>0.6825546003581691)\n",
      "Se acepta la hipótesis nula, la media es igual a 64.39140183942835 con un 0.95 % de confianza.\n"
     ]
    }
   ],
   "source": [
    "# Prueba de intervalo de confianza, Segunda variable aleatoria generada\n",
    "intervalo_confianza(media_og,humedad_aleatoria2,.95)"
   ]
  },
  {
   "cell_type": "markdown",
   "metadata": {},
   "source": [
    "Como la media de la variable aleatoria generada se asemeja bastante a la media de los datos originales, podemos decir que la variable aleatoria simula a los datos originales."
   ]
  },
  {
   "cell_type": "markdown",
   "metadata": {},
   "source": [
    "## Conclusiones del Nodo Humedad:"
   ]
  },
  {
   "cell_type": "markdown",
   "metadata": {},
   "source": [
    "El nodo 1 corresponde a la humedad de Seattle en el verano y su media tiene un valor de 66.601 lo cual quiere decir que durante esta temporada la humedad es de más de 60% comparado con el valor minimo que quizá suena muy alto pero es la estación con menor humedad.\n",
    "\n",
    "No es muy puntual modelarla con una distribución Argus ya que el P value es de 0.60 lo cual no nos da precisión, la que mejor se ajusta es una distribución a través de Kernel Density Estimation por el método de aceptación y rechazo ya que de esta manera conservamos la esencia de los datos originales y la distribución se adapta ligeramente a ellos y no los datos a la distribución. \n"
   ]
  },
  {
   "cell_type": "markdown",
   "metadata": {},
   "source": [
    "## <font color='red'>  Nodo 2: Temperatura"
   ]
  },
  {
   "cell_type": "code",
   "execution_count": 37,
   "metadata": {},
   "outputs": [],
   "source": [
    "#Data frame con los datos de Temperatura, el número de veces que existe cada uno y su probabilidad de ocurrencia:\n",
    "df_temper = pd.DataFrame(columns=[\"Temperaturas\",\"Número_veces\",\"Probabilidad\",\"Prob_acumulada\"], dtype='float')\n",
    "df_temper[\"Temperaturas\"]= np.unique(df_filtrado.Temperature, return_counts=True)[0]\n",
    "df_temper[\"Número_veces\"]=np.unique(df_filtrado.Temperature, return_counts=True)[1]\n",
    "df_temper[\"Probabilidad\"]=df_temper['Número_veces']/len(df_filtrado.Temperature)\n",
    "df_temper[\"Prob_acumulada\"]=df_temper.Probabilidad.cumsum()\n",
    "df_temper.sample(3)\n",
    "temper = df_filtrado.Temperature.sample(1000)"
   ]
  },
  {
   "cell_type": "code",
   "execution_count": 38,
   "metadata": {},
   "outputs": [
    {
     "data": {
      "text/plain": [
       "Text(0.5, 1.0, 'Probabilidad de temperatura para Verano en Seattle')"
      ]
     },
     "execution_count": 38,
     "metadata": {},
     "output_type": "execute_result"
    },
    {
     "data": {
      "image/png": "[encoded data removed]",
      "text/plain": [
       "<Figure size 432x288 with 1 Axes>"
      ]
     },
     "metadata": {
      "needs_background": "light"
     },
     "output_type": "display_data"
    }
   ],
   "source": [
    "#Histograma de Temperatura\n",
    "y,x,_ = plt.hist(temper,bins=\"auto\",density=True);\n",
    "plt.title(\"Probabilidad de temperatura para Verano en Seattle\")"
   ]
  },
  {
   "cell_type": "markdown",
   "metadata": {},
   "source": [
    "- Podría asemejarse a una distribución normal asimétrica a la derecha."
   ]
  },
  {
   "cell_type": "markdown",
   "metadata": {},
   "source": [
    "## Funciones de ajuste de distribución:"
   ]
  },
  {
   "cell_type": "markdown",
   "metadata": {},
   "source": [
    "### Ajuste de distribución por Scipy:"
   ]
  },
  {
   "cell_type": "markdown",
   "metadata": {},
   "source": [
    "Con esta función se intenta estimar cual es la distribución que mejor se ajusta a nuestros datos "
   ]
  },
  {
   "cell_type": "markdown",
   "metadata": {},
   "source": [
    "### Planteamiento de la hipótesis\n",
    "\n",
    "> $H_0$: Los datos tienen una distribución genextreme  \n",
    "\n",
    "> $H_a$: Los datos no tienen una distribución genextreme "
   ]
  },
  {
   "cell_type": "code",
   "execution_count": 39,
   "metadata": {},
   "outputs": [
    {
     "data": {
      "text/plain": [
       "(10.901098160753516, 7.494752246798452, 3.7363946740432565)"
      ]
     },
     "execution_count": 39,
     "metadata": {},
     "output_type": "execute_result"
    },
    {
     "data": {
      "image/png": "[encoded data removed]",
      "text/plain": [
       "<Figure size 432x288 with 1 Axes>"
      ]
     },
     "metadata": {
      "needs_background": "light"
     },
     "output_type": "display_data"
    }
   ],
   "source": [
    "dist, p = best_fit_params(temper)\n",
    "p"
   ]
  },
  {
   "cell_type": "markdown",
   "metadata": {},
   "source": [
    "* De acuerdo con la gráfica la distribución que mejor se ajusta es genextreme"
   ]
  },
  {
   "cell_type": "markdown",
   "metadata": {},
   "source": [
    "### Comprobación de distribución genextreme con prueba de Chi Cuadrada"
   ]
  },
  {
   "cell_type": "code",
   "execution_count": 40,
   "metadata": {
    "scrolled": true
   },
   "outputs": [
    {
     "name": "stdout",
     "output_type": "stream",
     "text": [
      "Valor teórico de Chi2 = 12.775929801442357\n",
      "Valor por librería de Chi2 = Power_divergenceResult(statistic=12.775929801442357, pvalue=0.8867895235653644)\n",
      "Estadístico de Chi2 = 31.410432844230918\n"
     ]
    }
   ],
   "source": [
    "chi2(dist,p,y,x[:-1])"
   ]
  },
  {
   "cell_type": "markdown",
   "metadata": {},
   "source": [
    "* El p value es alto por lo tanto no podemos rechazar la hipótesis nula de que la distribución se puede representar como una distribución genextreme."
   ]
  },
  {
   "cell_type": "markdown",
   "metadata": {},
   "source": [
    "### Comprobación de distribución genextreme con prueba Q-Q"
   ]
  },
  {
   "cell_type": "code",
   "execution_count": 41,
   "metadata": {},
   "outputs": [
    {
     "data": {
      "image/png": "[encoded data removed]",
      "text/plain": [
       "<Figure size 432x288 with 2 Axes>"
      ]
     },
     "metadata": {
      "needs_background": "light"
     },
     "output_type": "display_data"
    }
   ],
   "source": [
    "qq(temper,dist,p)"
   ]
  },
  {
   "cell_type": "markdown",
   "metadata": {},
   "source": [
    "- Conclusión qq"
   ]
  },
  {
   "cell_type": "markdown",
   "metadata": {},
   "source": [
    "### Kernel density estimation:"
   ]
  },
  {
   "cell_type": "code",
   "execution_count": 42,
   "metadata": {
    "scrolled": true
   },
   "outputs": [
    {
     "data": {
      "image/png": "[encoded data removed]",
      "text/plain": [
       "<Figure size 432x288 with 1 Axes>"
      ]
     },
     "metadata": {
      "needs_background": "light"
     },
     "output_type": "display_data"
    }
   ],
   "source": [
    "dom = np.arange(8,35) #Dominio de la variable\n",
    "plt.hist(temper,bins=\"auto\",density=True)\n",
    "f = kde_statsmodels_m(temper)\n",
    "plt.plot(dom, f(dom), label='Función de masa de prob. estimada', color='y', linewidth=5)\n",
    "plt.xlabel('Humedad en porcentaje')\n",
    "plt.ylabel('Probabilidad')\n",
    "plt.title(\"Histograma y KDE\")\n",
    "plt.legend()\n",
    "plt.show()"
   ]
  },
  {
   "cell_type": "markdown",
   "metadata": {},
   "source": [
    "* En la gráfica se puede observar que se ajusta muy bien a los datos."
   ]
  },
  {
   "cell_type": "markdown",
   "metadata": {},
   "source": [
    "## Creación de Variables Aleatorias"
   ]
  },
  {
   "cell_type": "markdown",
   "metadata": {},
   "source": [
    "### Método de la transformada Inversa:"
   ]
  },
  {
   "cell_type": "code",
   "execution_count": 43,
   "metadata": {},
   "outputs": [
    {
     "data": {
      "image/png": "[encoded data removed]",
      "text/plain": [
       "<Figure size 432x288 with 1 Axes>"
      ]
     },
     "metadata": {
      "needs_background": "light"
     },
     "output_type": "display_data"
    }
   ],
   "source": [
    "# A partir de la distribución obtenida por Scipy, Frechet\n",
    "temper_aleatoria1 = trans_inversa(dist,p,10000)\n",
    "plt.plot(dom,dist(*p).pdf(dom))\n",
    "plt.hist(temper_aleatoria1,bins = \"auto\",density=True);"
   ]
  },
  {
   "cell_type": "markdown",
   "metadata": {},
   "source": [
    "* El método de la transformada a partir de la dsitribución creada con Scipy (Frechet) se ve mucho más preciso a comparación del KDE."
   ]
  },
  {
   "cell_type": "markdown",
   "metadata": {},
   "source": [
    "### Método aceptación y rechazo a partir de estratificación:"
   ]
  },
  {
   "cell_type": "code",
   "execution_count": 44,
   "metadata": {
    "scrolled": true
   },
   "outputs": [
    {
     "data": {
      "image/png": "[encoded data removed]",
      "text/plain": [
       "<Figure size 432x288 with 1 Axes>"
      ]
     },
     "metadata": {
      "needs_background": "light"
     },
     "output_type": "display_data"
    }
   ],
   "source": [
    "#Creación de uniformes estratificados\n",
    "#Método aceptación/rechazo a partir de la función generada por KDE\n",
    "# Máximo de la función\n",
    "maximo = max_func(f,dom)\n",
    "temper_aleatoria2 = a_r(f,maximo,dom)\n",
    "plt.plot(dom,f(dom))\n",
    "plt.hist(temper_aleatoria2,bins=\"auto\",density=True);"
   ]
  },
  {
   "cell_type": "markdown",
   "metadata": {},
   "source": [
    "### Encontrando la media mediante Montecarlo"
   ]
  },
  {
   "cell_type": "code",
   "execution_count": 45,
   "metadata": {},
   "outputs": [],
   "source": [
    "montecarlo_temperatura = np.array([a_r(f,maximo,dom).mean() for i in range(1000)]).mean()"
   ]
  },
  {
   "cell_type": "code",
   "execution_count": 46,
   "metadata": {},
   "outputs": [
    {
     "data": {
      "text/plain": [
       "18.4137239183466"
      ]
     },
     "execution_count": 46,
     "metadata": {},
     "output_type": "execute_result"
    }
   ],
   "source": [
    "montecarlo_temperatura"
   ]
  },
  {
   "cell_type": "code",
   "execution_count": 47,
   "metadata": {},
   "outputs": [
    {
     "name": "stdout",
     "output_type": "stream",
     "text": [
      "Media estratificada: 18.396154628848976\n",
      "Media datos originales:  18.389674915417018\n",
      "Desviación estándar estratificada: 4.9188010404841\n",
      "Desviación estándar con datos originales:  4.748191853443048\n"
     ]
    }
   ],
   "source": [
    "media_estratificada=np.mean(temper_aleatoria2)\n",
    "media_real=np.mean(temper)\n",
    "print('Media estratificada:', media_estratificada)\n",
    "print('Media datos originales: ', media_real)\n",
    "de_estratificada=np.std(temper_aleatoria2)\n",
    "de_real=np.std(temper)\n",
    "print('Desviación estándar estratificada:', de_estratificada)\n",
    "print('Desviación estándar con datos originales: ', de_real)"
   ]
  },
  {
   "cell_type": "markdown",
   "metadata": {},
   "source": [
    "* A pesar de que la media y la desviación estándar son relativamente muy parecidas, visualmente se puede apreciar que el método de aceptación y rechazo a partir de KDE no se adapta tan bien a los datos como el de la transformada inversa por a partir del método de Scipy."
   ]
  },
  {
   "cell_type": "markdown",
   "metadata": {},
   "source": [
    "## Pruebas de Bondad de Ajuste e Hipótesis"
   ]
  },
  {
   "cell_type": "markdown",
   "metadata": {},
   "source": [
    "### Prueba de Intervalo de Confianza de la Media"
   ]
  },
  {
   "cell_type": "code",
   "execution_count": 48,
   "metadata": {},
   "outputs": [
    {
     "data": {
      "text/plain": [
       "18.389674915417018"
      ]
     },
     "execution_count": 48,
     "metadata": {},
     "output_type": "execute_result"
    }
   ],
   "source": [
    "# Verdadera Media de la Humedad en Verano\n",
    "media_og = temper.mean()\n",
    "media_og"
   ]
  },
  {
   "cell_type": "code",
   "execution_count": 49,
   "metadata": {},
   "outputs": [
    {
     "name": "stdout",
     "output_type": "stream",
     "text": [
      "Con una confianza de 0.95 la media estará en el intervalo t,\n",
      " (18.1777515107621, 18.369036464449835)     \n",
      "Con una confianza de 0.95 la media estará en el intervalo normal,\n",
      " (18.1777630881238, 18.369024887088134)\n",
      "Media calculada 18.273393987605967\n",
      "La prueba de hipótesis arroja como resultado\n",
      " Ttest_1sampResult(statistic=0.0, pvalue=1.0)\n",
      "Cálculo del estadístico de prueba teórico= 0.0\n",
      "Región de rechazo = (t<-0.6826013260235826) U (t>0.6826013260235826)\n",
      "Se acepta la hipótesis nula, la media es igual a 18.273393987605967 con un 0.95 % de confianza.\n"
     ]
    }
   ],
   "source": [
    "# Prueba de intervalo de confianza, Primera variable aleatoria generada\n",
    "intervalo_confianza(media_og,temper_aleatoria1,.95)"
   ]
  },
  {
   "cell_type": "code",
   "execution_count": 50,
   "metadata": {},
   "outputs": [
    {
     "name": "stdout",
     "output_type": "stream",
     "text": [
      "Con una confianza de 0.95 la media estará en el intervalo t,\n",
      " (18.090767244663326, 18.701542013034626)     \n",
      "Con una confianza de 0.95 la media estará en el intervalo normal,\n",
      " (18.09113723702816, 18.70117202066979)\n",
      "Media calculada 18.396154628848976\n",
      "La prueba de hipótesis arroja como resultado\n",
      " Ttest_1sampResult(statistic=0.0, pvalue=1.0)\n",
      "Cálculo del estadístico de prueba teórico= 0.0\n",
      "Región de rechazo = (t<-0.6825546003581691) U (t>0.6825546003581691)\n",
      "Se acepta la hipótesis nula, la media es igual a 18.396154628848976 con un 0.95 % de confianza.\n"
     ]
    }
   ],
   "source": [
    "# Prueba de intervalo de confianza, Segunda variable aleatoria generada\n",
    "intervalo_confianza(media_og,temper_aleatoria2,.95)"
   ]
  },
  {
   "cell_type": "markdown",
   "metadata": {},
   "source": [
    "## Conclusiones del Nodo: Temperatura"
   ]
  },
  {
   "cell_type": "markdown",
   "metadata": {},
   "source": [
    "El nodo 2 corresponde a temperatura, originalmente dado por grados Kelvin pero convertidos a Celsius y la media es de 18 grados Celsius siendo verano la temporada que presenta valores más altos con un máximo de 33.81 grados Celsius.\n",
    "\n",
    "Nos resulta más adecuado modelar la distribución con el método de la transformada a partir de la distribución creada con Scipy (genextreme) ya que gráficamente es muy parecida a los datos representados en el histograma y además la Prueba de Hipótesis que creamos desde la función de Scipy nos arrojó un P Value mayor al 80% por lo que no podemos rechazar la hipótesis nula."
   ]
  },
  {
   "cell_type": "markdown",
   "metadata": {},
   "source": [
    "## <font color='red'>  Nodo 3: Presión"
   ]
  },
  {
   "cell_type": "code",
   "execution_count": 51,
   "metadata": {},
   "outputs": [
    {
     "data": {
      "text/plain": [
       "Text(0.5, 1.0, 'Probabilidad de presión para Verano en Seattle')"
      ]
     },
     "execution_count": 51,
     "metadata": {},
     "output_type": "execute_result"
    },
    {
     "data": {
      "image/png": "[encoded data removed]",
      "text/plain": [
       "<Figure size 432x288 with 1 Axes>"
      ]
     },
     "metadata": {
      "needs_background": "light"
     },
     "output_type": "display_data"
    }
   ],
   "source": [
    "#Histograma de Presión\n",
    "y,x,_ = plt.hist(presion,bins=\"auto\",density=True);\n",
    "plt.title(\"Probabilidad de presión para Verano en Seattle\")"
   ]
  },
  {
   "cell_type": "markdown",
   "metadata": {},
   "source": [
    "* Con el puro histograma los datos de presión parecen tener una distribución leptocúrtica ya que es como una distribución normal pero con un pico más pronunciado y las colas más cortas de lo normal "
   ]
  },
  {
   "cell_type": "markdown",
   "metadata": {},
   "source": [
    "## Funciones de ajuste de distribución:"
   ]
  },
  {
   "cell_type": "markdown",
   "metadata": {},
   "source": [
    "### Ajuste de distribución por Scipy:"
   ]
  },
  {
   "cell_type": "markdown",
   "metadata": {},
   "source": [
    "Con esta función se intenta estimar cual es la distribución que mejor se ajusta a nuestros datos "
   ]
  },
  {
   "cell_type": "markdown",
   "metadata": {},
   "source": [
    "### Planteamiento de la hipótesis\n",
    "\n",
    "> $H_0$: Los datos tienen una distribución fisk\n",
    "\n",
    "> $H_a$: Los datos no tienen una distribución fisk"
   ]
  },
  {
   "cell_type": "code",
   "execution_count": 52,
   "metadata": {},
   "outputs": [
    {
     "data": {
      "text/plain": [
       "(227.06356359653734,\n",
       " 0.6272519098876174,\n",
       " -1.3992473280191442,\n",
       " 1018.0909627670696)"
      ]
     },
     "execution_count": 52,
     "metadata": {},
     "output_type": "execute_result"
    },
    {
     "data": {
      "image/png": "[encoded data removed]",
      "text/plain": [
       "<Figure size 432x288 with 1 Axes>"
      ]
     },
     "metadata": {
      "needs_background": "light"
     },
     "output_type": "display_data"
    }
   ],
   "source": [
    "dist, p = best_fit_params(presion)\n",
    "p"
   ]
  },
  {
   "cell_type": "markdown",
   "metadata": {},
   "source": [
    "* De acuerdo con la gráfica la distribución que mejor se ajusta es fisk"
   ]
  },
  {
   "cell_type": "markdown",
   "metadata": {},
   "source": [
    "### Comprobación de distribución fisk con prueba de Chi Cuadrada"
   ]
  },
  {
   "cell_type": "code",
   "execution_count": 53,
   "metadata": {},
   "outputs": [
    {
     "name": "stdout",
     "output_type": "stream",
     "text": [
      "Valor teórico de Chi2 = 1508.958964423977\n",
      "Valor por librería de Chi2 = Power_divergenceResult(statistic=1508.958964423977, pvalue=1.68153134021632e-241)\n",
      "Estadístico de Chi2 = 141.02970429440973\n"
     ]
    }
   ],
   "source": [
    "chi2(dist,p,y,x[:-1])"
   ]
  },
  {
   "cell_type": "markdown",
   "metadata": {},
   "source": [
    "* El p value es pequeño por lo tanto no podemos rechazar la hipótesis alternativa de que la distribución no se puede representar como una distribución fisk."
   ]
  },
  {
   "cell_type": "markdown",
   "metadata": {},
   "source": [
    "### Comprobación de distribución fisk con prueba Q-Q"
   ]
  },
  {
   "cell_type": "code",
   "execution_count": 54,
   "metadata": {},
   "outputs": [
    {
     "data": {
      "image/png": "[encoded data removed]",
      "text/plain": [
       "<Figure size 432x288 with 2 Axes>"
      ]
     },
     "metadata": {
      "needs_background": "light"
     },
     "output_type": "display_data"
    }
   ],
   "source": [
    "qq(presion,dist,p)"
   ]
  },
  {
   "cell_type": "markdown",
   "metadata": {},
   "source": [
    "- Conclusión prueba qq"
   ]
  },
  {
   "cell_type": "markdown",
   "metadata": {},
   "source": [
    "### Kernel density estimation:"
   ]
  },
  {
   "cell_type": "code",
   "execution_count": 55,
   "metadata": {
    "scrolled": true
   },
   "outputs": [
    {
     "data": {
      "image/png": "[encoded data removed]",
      "text/plain": [
       "<Figure size 432x288 with 1 Axes>"
      ]
     },
     "metadata": {
      "needs_background": "light"
     },
     "output_type": "display_data"
    }
   ],
   "source": [
    "dom = np.arange(980,1050) #Dominio de la variable\n",
    "plt.hist(presion,bins=\"auto\",density=True)\n",
    "f = kde_statsmodels_m(presion)\n",
    "plt.plot(dom, f(dom), label='Función de masa de prob. estimada', color='y', linewidth=5)\n",
    "plt.xlabel('Presión en Hectopascales')\n",
    "plt.ylabel('Probabilidad')\n",
    "plt.title(\"Histograma y KDE\")\n",
    "plt.legend()\n",
    "plt.show()"
   ]
  },
  {
   "cell_type": "markdown",
   "metadata": {},
   "source": [
    "* Se puede observar que efectivamente no es la mejor distribución porque salen muchos valores del KDE "
   ]
  },
  {
   "cell_type": "markdown",
   "metadata": {},
   "source": [
    "## Creación de Variables Aleatorias"
   ]
  },
  {
   "cell_type": "markdown",
   "metadata": {},
   "source": [
    "### Método de la transformada Inversa:"
   ]
  },
  {
   "cell_type": "code",
   "execution_count": 56,
   "metadata": {},
   "outputs": [
    {
     "data": {
      "image/png": "[encoded data removed]",
      "text/plain": [
       "<Figure size 432x288 with 1 Axes>"
      ]
     },
     "metadata": {
      "needs_background": "light"
     },
     "output_type": "display_data"
    }
   ],
   "source": [
    "# A partir de la distribución obtenida por Scipy\n",
    "presion_aleatoria1 = trans_inversa(dist,p,10000)\n",
    "plt.plot(dom,dist(*p).pdf(dom))\n",
    "plt.hist(presion_aleatoria1,bins = \"auto\",density=True);"
   ]
  },
  {
   "cell_type": "markdown",
   "metadata": {},
   "source": [
    "* El método de la transformada a partir de la dsitribución creada con Scipy se ve mucho más preciso a comparación del KDE."
   ]
  },
  {
   "cell_type": "markdown",
   "metadata": {},
   "source": [
    "### Método aceptación y rechazo a partir de estratificación:"
   ]
  },
  {
   "cell_type": "code",
   "execution_count": 57,
   "metadata": {},
   "outputs": [
    {
     "data": {
      "image/png": "[encoded data removed]",
      "text/plain": [
       "<Figure size 432x288 with 1 Axes>"
      ]
     },
     "metadata": {
      "needs_background": "light"
     },
     "output_type": "display_data"
    }
   ],
   "source": [
    "#Creación de uniformes estratificados\n",
    "#Método aceptación/rechazo a partir de la función generada por KDE\n",
    "# Máximo de la función\n",
    "maximo = 0.05\n",
    "presion_aleatoria2 = a_r(f,maximo,dom)\n",
    "plt.plot(dom,f(dom))\n",
    "plt.hist(presion_aleatoria2,bins=\"auto\",density=True);"
   ]
  },
  {
   "cell_type": "code",
   "execution_count": 58,
   "metadata": {},
   "outputs": [
    {
     "data": {
      "text/plain": [
       "0.05"
      ]
     },
     "execution_count": 58,
     "metadata": {},
     "output_type": "execute_result"
    }
   ],
   "source": [
    "maximo"
   ]
  },
  {
   "cell_type": "code",
   "execution_count": 59,
   "metadata": {},
   "outputs": [
    {
     "name": "stdout",
     "output_type": "stream",
     "text": [
      "Media estratificada: 1020.4916128325502\n",
      "Media datos originales:  1021.0012157382847\n",
      "Desviación estándar estratificada: 9.821541377790428\n",
      "Desviación estándar con datos originales:  9.737079599306096\n"
     ]
    }
   ],
   "source": [
    "media_estratificada=np.mean(presion_aleatoria2)\n",
    "media_real=np.mean(presion)\n",
    "print('Media estratificada:', media_estratificada)\n",
    "print('Media datos originales: ', media_real)\n",
    "de_estratificada=np.std(presion_aleatoria2)\n",
    "de_real=np.std(presion)\n",
    "print('Desviación estándar estratificada:', de_estratificada)\n",
    "print('Desviación estándar con datos originales: ', de_real)"
   ]
  },
  {
   "cell_type": "code",
   "execution_count": 60,
   "metadata": {},
   "outputs": [],
   "source": [
    "montecarlo_presion = np.array([a_r(f,maximo,dom).mean() for i in range(10)]).mean()"
   ]
  },
  {
   "cell_type": "code",
   "execution_count": 61,
   "metadata": {},
   "outputs": [
    {
     "data": {
      "text/plain": [
       "1020.9472446099226"
      ]
     },
     "execution_count": 61,
     "metadata": {},
     "output_type": "execute_result"
    }
   ],
   "source": [
    "montecarlo_presion"
   ]
  },
  {
   "cell_type": "markdown",
   "metadata": {},
   "source": [
    "* Los datos se adaptan mejor a partir de la transformada inversa por el método de Scipy."
   ]
  },
  {
   "cell_type": "markdown",
   "metadata": {},
   "source": [
    "## Pruebas de Bondad de Ajuste e Hipótesis"
   ]
  },
  {
   "cell_type": "markdown",
   "metadata": {},
   "source": [
    "### Prueba de Intervalo de Confianza de la Media"
   ]
  },
  {
   "cell_type": "code",
   "execution_count": 62,
   "metadata": {},
   "outputs": [
    {
     "data": {
      "text/plain": [
       "1021.0012157382847"
      ]
     },
     "execution_count": 62,
     "metadata": {},
     "output_type": "execute_result"
    }
   ],
   "source": [
    "# Verdadera Media de la Presión en Verano\n",
    "media_og = presion.mean()\n",
    "media_og"
   ]
  },
  {
   "cell_type": "code",
   "execution_count": 63,
   "metadata": {},
   "outputs": [
    {
     "name": "stdout",
     "output_type": "stream",
     "text": [
      "Con una confianza de 0.95 la media estará en el intervalo t,\n",
      " (1020.2945820072819, 1020.6858786476134)     \n",
      "Con una confianza de 0.95 la media estará en el intervalo normal,\n",
      " (1020.2946056901834, 1020.6858549647119)\n",
      "Media calculada 1020.4902303274476\n",
      "La prueba de hipótesis arroja como resultado\n",
      " Ttest_1sampResult(statistic=0.0, pvalue=1.0)\n",
      "Cálculo del estadístico de prueba teórico= 0.0\n",
      "Región de rechazo = (t<-0.6826013260235826) U (t>0.6826013260235826)\n",
      "Se acepta la hipótesis nula, la media es igual a 1020.4902303274476 con un 0.95 % de confianza.\n"
     ]
    }
   ],
   "source": [
    "# Prueba de intervalo de confianza, Primera variable aleatoria generada\n",
    "intervalo_confianza(media_og,presion_aleatoria1,.95)"
   ]
  },
  {
   "cell_type": "code",
   "execution_count": 64,
   "metadata": {},
   "outputs": [
    {
     "name": "stdout",
     "output_type": "stream",
     "text": [
      "Con una confianza de 0.95 la media estará en el intervalo t,\n",
      " (1019.8818352047608, 1021.1013904603396)     \n",
      "Con una confianza de 0.95 la media estará en el intervalo normal,\n",
      " (1019.8825739814039, 1021.1006516836966)\n",
      "Media calculada 1020.4916128325502\n",
      "La prueba de hipótesis arroja como resultado\n",
      " Ttest_1sampResult(statistic=0.0, pvalue=1.0)\n",
      "Cálculo del estadístico de prueba teórico= 0.0\n",
      "Región de rechazo = (t<-0.6825546003581691) U (t>0.6825546003581691)\n",
      "Se acepta la hipótesis nula, la media es igual a 1020.4916128325502 con un 0.95 % de confianza.\n"
     ]
    }
   ],
   "source": [
    "# Prueba de intervalo de confianza, Segunda variable aleatoria generada\n",
    "intervalo_confianza(media_og,presion_aleatoria2,.95)"
   ]
  },
  {
   "cell_type": "markdown",
   "metadata": {},
   "source": [
    "## Conclusiones del Nodo: Presión"
   ]
  },
  {
   "cell_type": "markdown",
   "metadata": {},
   "source": [
    "## <font color='red'>  Nodo 4: Dirección del viento"
   ]
  },
  {
   "cell_type": "code",
   "execution_count": 65,
   "metadata": {},
   "outputs": [
    {
     "data": {
      "text/plain": [
       "Text(0.5, 1.0, 'Dirección del viento para Verano en Seattle')"
      ]
     },
     "execution_count": 65,
     "metadata": {},
     "output_type": "execute_result"
    },
    {
     "data": {
      "image/png": "[encoded data removed]",
      "text/plain": [
       "<Figure size 432x288 with 1 Axes>"
      ]
     },
     "metadata": {
      "needs_background": "light"
     },
     "output_type": "display_data"
    }
   ],
   "source": [
    "#Histograma de la dirección del viento\n",
    "y,x,_ = plt.hist(wind_dir,bins=\"auto\",density=True);\n",
    "plt.title(\"Dirección del viento para Verano en Seattle\")"
   ]
  },
  {
   "cell_type": "markdown",
   "metadata": {},
   "source": [
    "## Funciones de ajuste de distribución:\n",
    "\n",
    "### Ajuste de distribución por Scipy:\n",
    "\n",
    "Con esta función se intenta estimar cual es la distribución que mejor se ajusta a nuestros datos\n",
    "Planteamiento de la hipótesis\n",
    "\n",
    "### Planteamiento de la hipótesis\n",
    "\n",
    "> $H_0$: Los datos tienen una distribución bradford\n",
    "\n",
    "> $H_a$: Los datos no tienen una distribución bradford"
   ]
  },
  {
   "cell_type": "code",
   "execution_count": 66,
   "metadata": {},
   "outputs": [
    {
     "data": {
      "text/plain": [
       "(0.9942298768884466, -5.943512630427796e-06, 360.00000647886077)"
      ]
     },
     "execution_count": 66,
     "metadata": {},
     "output_type": "execute_result"
    },
    {
     "data": {
      "image/png": "[encoded data removed]",
      "text/plain": [
       "<Figure size 432x288 with 1 Axes>"
      ]
     },
     "metadata": {
      "needs_background": "light"
     },
     "output_type": "display_data"
    }
   ],
   "source": [
    "dist, p = best_fit_params(wind_dir)\n",
    "p"
   ]
  },
  {
   "cell_type": "markdown",
   "metadata": {},
   "source": [
    "* De acuerdo con la función de best fit la distribución que mejor se ajusta es bradford en comparación a las demás, sin embargo no hay una que realmente se adapte a los datos"
   ]
  },
  {
   "cell_type": "markdown",
   "metadata": {},
   "source": [
    "### Comprobación de distribución beta con prueba de Chi Cuadrada"
   ]
  },
  {
   "cell_type": "code",
   "execution_count": 67,
   "metadata": {},
   "outputs": [
    {
     "name": "stdout",
     "output_type": "stream",
     "text": [
      "Valor teórico de Chi2 = inf\n",
      "Valor por librería de Chi2 = Power_divergenceResult(statistic=inf, pvalue=0.0)\n",
      "Estadístico de Chi2 = 59.30351202689981\n"
     ]
    }
   ],
   "source": [
    "chi2(dist,p,y,x[:-1])"
   ]
  },
  {
   "cell_type": "markdown",
   "metadata": {},
   "source": [
    "* El p value es pequeño por lo tanto no podemos rechazar la hipótesis alternativa de que la distribución no se puede representar como una distribución bradford."
   ]
  },
  {
   "cell_type": "markdown",
   "metadata": {},
   "source": [
    "### Comprobación distribución beta con prueba Q-Q"
   ]
  },
  {
   "cell_type": "code",
   "execution_count": 68,
   "metadata": {},
   "outputs": [
    {
     "data": {
      "image/png": "[encoded data removed]",
      "text/plain": [
       "<Figure size 432x288 with 2 Axes>"
      ]
     },
     "metadata": {
      "needs_background": "light"
     },
     "output_type": "display_data"
    }
   ],
   "source": [
    "qq(wind_dir,dist,p)"
   ]
  },
  {
   "cell_type": "markdown",
   "metadata": {},
   "source": [
    "- Conclusión prueba qq"
   ]
  },
  {
   "cell_type": "markdown",
   "metadata": {},
   "source": [
    "### Kernel density estimation:"
   ]
  },
  {
   "cell_type": "code",
   "execution_count": 69,
   "metadata": {},
   "outputs": [
    {
     "data": {
      "image/png": "[encoded data removed]",
      "text/plain": [
       "<Figure size 432x288 with 1 Axes>"
      ]
     },
     "metadata": {
      "needs_background": "light"
     },
     "output_type": "display_data"
    }
   ],
   "source": [
    "dom = np.arange(0,400) #Dominio de la variable\n",
    "plt.hist(wind_dir,bins=\"auto\",density=True)\n",
    "f = kde_statsmodels_m(wind_dir)\n",
    "plt.plot(dom, f(dom), label='Función de masa de prob. estimada', color='y', linewidth=5)\n",
    "plt.xlabel('Dirección del viento')\n",
    "plt.ylabel('Probabilidad')\n",
    "plt.title(\"Histograma y KDE\")\n",
    "plt.legend()\n",
    "plt.show()"
   ]
  },
  {
   "cell_type": "markdown",
   "metadata": {},
   "source": [
    "* El KDE se adapta mejor a los valores que la distribución obtenida directamente por Scipy "
   ]
  },
  {
   "cell_type": "markdown",
   "metadata": {},
   "source": [
    "## Creación de Variables Aleatorias\n",
    "### Método de la transformada Inversa:"
   ]
  },
  {
   "cell_type": "code",
   "execution_count": 70,
   "metadata": {},
   "outputs": [
    {
     "data": {
      "image/png": "[encoded data removed]",
      "text/plain": [
       "<Figure size 432x288 with 1 Axes>"
      ]
     },
     "metadata": {
      "needs_background": "light"
     },
     "output_type": "display_data"
    }
   ],
   "source": [
    "# A partir de la distribución obtenida por Scipy\n",
    "wind_dir_aleatoria1 = trans_inversa(dist,p,10000)\n",
    "plt.plot(dom,dist(*p).pdf(dom))\n",
    "plt.hist(wind_dir_aleatoria1,bins = \"auto\",density=True);"
   ]
  },
  {
   "cell_type": "markdown",
   "metadata": {},
   "source": [
    "* Análisis"
   ]
  },
  {
   "cell_type": "markdown",
   "metadata": {},
   "source": [
    "### Método aceptación y rechazo a partir de estratificación:"
   ]
  },
  {
   "cell_type": "code",
   "execution_count": 71,
   "metadata": {
    "scrolled": true
   },
   "outputs": [
    {
     "data": {
      "image/png": "[encoded data removed]",
      "text/plain": [
       "<Figure size 432x288 with 1 Axes>"
      ]
     },
     "metadata": {
      "needs_background": "light"
     },
     "output_type": "display_data"
    }
   ],
   "source": [
    "#Creación de uniformes estratificados\n",
    "#Método aceptación/rechazo a partir de la función generada por KDE\n",
    "# Máximo de la función\n",
    "maximo = max_func(f,dom)\n",
    "wind_dir_aleatoria2 = a_r(f,maximo,dom)\n",
    "plt.plot(dom,f(dom))\n",
    "plt.hist(wind_dir_aleatoria2,bins=\"auto\",density=True);"
   ]
  },
  {
   "cell_type": "markdown",
   "metadata": {},
   "source": [
    "### Estimación de la Media mediante montecarlo"
   ]
  },
  {
   "cell_type": "code",
   "execution_count": 72,
   "metadata": {},
   "outputs": [],
   "source": [
    "montecarlo_viento = np.array([a_r(f,maximo,dom).mean() for i in range(10)]).mean()"
   ]
  },
  {
   "cell_type": "code",
   "execution_count": 73,
   "metadata": {},
   "outputs": [
    {
     "data": {
      "text/plain": [
       "170.35206205142117"
      ]
     },
     "execution_count": 73,
     "metadata": {},
     "output_type": "execute_result"
    }
   ],
   "source": [
    "montecarlo_viento"
   ]
  },
  {
   "cell_type": "markdown",
   "metadata": {},
   "source": [
    "* Análisis"
   ]
  },
  {
   "cell_type": "code",
   "execution_count": 74,
   "metadata": {},
   "outputs": [
    {
     "name": "stdout",
     "output_type": "stream",
     "text": [
      "Media estratificada: 170.85142544114314\n",
      "Media datos originales:  161.38022628834085\n",
      "Desviación estándar estratificada: 98.29741337548178\n",
      "Desviación estándar con datos originales:  103.20567535505931\n"
     ]
    }
   ],
   "source": [
    "media_estratificada=np.mean(wind_dir_aleatoria2)\n",
    "media_real=np.mean(wind_dir)\n",
    "print('Media estratificada:', media_estratificada)\n",
    "print('Media datos originales: ', media_real)\n",
    "de_estratificada=np.std(wind_dir_aleatoria2)\n",
    "de_real=np.std(wind_dir)\n",
    "print('Desviación estándar estratificada:', de_estratificada)\n",
    "print('Desviación estándar con datos originales: ', de_real)"
   ]
  },
  {
   "cell_type": "markdown",
   "metadata": {},
   "source": [
    "* Análisis estratificación.\n",
    "\n",
    "## Pruebas de Bondad de Ajuste e Hipótesis\n",
    "### Prueba de Intervalo de Confianza de la Media\n",
    "\n"
   ]
  },
  {
   "cell_type": "code",
   "execution_count": 75,
   "metadata": {},
   "outputs": [
    {
     "data": {
      "text/plain": [
       "161.38022628834085"
      ]
     },
     "execution_count": 75,
     "metadata": {},
     "output_type": "execute_result"
    }
   ],
   "source": [
    "# Verdadera Media de la dirección del viento en Verano\n",
    "media_og = wind_dir.mean()\n",
    "media_og"
   ]
  },
  {
   "cell_type": "code",
   "execution_count": 76,
   "metadata": {},
   "outputs": [
    {
     "name": "stdout",
     "output_type": "stream",
     "text": [
      "Con una confianza de 0.95 la media estará en el intervalo t,\n",
      " (157.28429579822938, 161.34236852802007)     \n",
      "Con una confianza de 0.95 la media estará en el intervalo normal,\n",
      " (157.28454140968444, 161.34212291656502)\n",
      "Media calculada 159.31333216312473\n",
      "La prueba de hipótesis arroja como resultado\n",
      " Ttest_1sampResult(statistic=0.0, pvalue=1.0)\n",
      "Cálculo del estadístico de prueba teórico= 0.0\n",
      "Región de rechazo = (t<-0.6826013260235826) U (t>0.6826013260235826)\n",
      "Se acepta la hipótesis nula, la media es igual a 159.31333216312473 con un 0.95 % de confianza.\n"
     ]
    }
   ],
   "source": [
    "# Prueba de intervalo de confianza, Primera variable aleatoria generada\n",
    "intervalo_confianza(media_og,wind_dir_aleatoria1,.95)"
   ]
  },
  {
   "cell_type": "code",
   "execution_count": 77,
   "metadata": {},
   "outputs": [
    {
     "name": "stdout",
     "output_type": "stream",
     "text": [
      "Con una confianza de 0.95 la media estará en el intervalo t,\n",
      " (164.7485581578591, 176.95429272442718)     \n",
      "Con una confianza de 0.95 la media estará en el intervalo normal,\n",
      " (164.75595209230218, 176.9468987899841)\n",
      "Media calculada 170.85142544114314\n",
      "La prueba de hipótesis arroja como resultado\n",
      " Ttest_1sampResult(statistic=0.0, pvalue=1.0)\n",
      "Cálculo del estadístico de prueba teórico= 0.0\n",
      "Región de rechazo = (t<-0.6825546003581691) U (t>0.6825546003581691)\n",
      "Se acepta la hipótesis nula, la media es igual a 170.85142544114314 con un 0.95 % de confianza.\n"
     ]
    }
   ],
   "source": [
    "# Prueba de intervalo de confianza, Segunda variable aleatoria generada\n",
    "intervalo_confianza(media_og,wind_dir_aleatoria2,.95)"
   ]
  },
  {
   "cell_type": "markdown",
   "metadata": {},
   "source": [
    "## Conclusiones del Nodo: Dirección del viento"
   ]
  },
  {
   "cell_type": "markdown",
   "metadata": {},
   "source": [
    "## <font color='red'>  Nodo 5: Velocidad del viento"
   ]
  },
  {
   "cell_type": "code",
   "execution_count": 78,
   "metadata": {},
   "outputs": [
    {
     "data": {
      "text/plain": [
       "Text(0.5, 1.0, 'Velocidad del viento para Verano en Seattle')"
      ]
     },
     "execution_count": 78,
     "metadata": {},
     "output_type": "execute_result"
    },
    {
     "data": {
      "image/png": "[encoded data removed]",
      "text/plain": [
       "<Figure size 432x288 with 1 Axes>"
      ]
     },
     "metadata": {
      "needs_background": "light"
     },
     "output_type": "display_data"
    }
   ],
   "source": [
    "#Histograma de la velocidad del viento\n",
    "y,x,_ = plt.hist(wind_speed,bins=35,density=True);\n",
    "plt.title(\"Velocidad del viento para Verano en Seattle\")"
   ]
  },
  {
   "cell_type": "markdown",
   "metadata": {},
   "source": [
    "## Funciones de ajuste de distribución:\n",
    "\n",
    "### Ajuste de distribución por Scipy:\n",
    "\n",
    "Con esta función se intenta estimar cual es la distribución que mejor se ajusta a nuestros datos\n",
    "Planteamiento de la hipótesis\n",
    "\n",
    "### Planteamiento de la hipótesis\n",
    "\n",
    "> $H_0$: Los datos tienen una distribución frechet_l\n",
    "\n",
    "> $H_a$: Los datos no tienen una distribución frechet_l"
   ]
  },
  {
   "cell_type": "code",
   "execution_count": 79,
   "metadata": {
    "scrolled": true
   },
   "outputs": [
    {
     "data": {
      "text/plain": [
       "(1.6572036381220128, 1.6364931094797837, 0.7542989739880385)"
      ]
     },
     "execution_count": 79,
     "metadata": {},
     "output_type": "execute_result"
    },
    {
     "data": {
      "image/png": "[encoded data removed]",
      "text/plain": [
       "<Figure size 432x288 with 1 Axes>"
      ]
     },
     "metadata": {
      "needs_background": "light"
     },
     "output_type": "display_data"
    }
   ],
   "source": [
    "dist, p = best_fit_params(wind_speed)\n",
    "p"
   ]
  },
  {
   "cell_type": "markdown",
   "metadata": {},
   "source": [
    "* De acuerdo con la función de best fit la distribución que mejor se ajusta es frechet_l en comparación a las demás, sin embargo no hay una que realmente se adapte a los datos"
   ]
  },
  {
   "cell_type": "markdown",
   "metadata": {},
   "source": [
    "### Comprobación de distribución beta con prueba de Chi Cuadrada"
   ]
  },
  {
   "cell_type": "code",
   "execution_count": 80,
   "metadata": {},
   "outputs": [
    {
     "name": "stdout",
     "output_type": "stream",
     "text": [
      "Valor teórico de Chi2 = inf\n",
      "Valor por librería de Chi2 = Power_divergenceResult(statistic=inf, pvalue=0.0)\n",
      "Estadístico de Chi2 = 48.602367367294164\n"
     ]
    }
   ],
   "source": [
    "chi2(dist,p,y,x[:-1])"
   ]
  },
  {
   "cell_type": "markdown",
   "metadata": {},
   "source": [
    "* El p value es pequeño por lo tanto no podemos rechazar la hipótesis alternativa de que la distribución no se puede representar como una distribución frechet_l."
   ]
  },
  {
   "cell_type": "markdown",
   "metadata": {},
   "source": [
    "### Comprobación distribución beta con prueba QQ"
   ]
  },
  {
   "cell_type": "code",
   "execution_count": 81,
   "metadata": {},
   "outputs": [
    {
     "data": {
      "image/png": "[encoded data removed]",
      "text/plain": [
       "<Figure size 432x288 with 2 Axes>"
      ]
     },
     "metadata": {
      "needs_background": "light"
     },
     "output_type": "display_data"
    }
   ],
   "source": [
    "qq(wind_speed,dist,p)"
   ]
  },
  {
   "cell_type": "markdown",
   "metadata": {},
   "source": [
    "- Conclusión prueba qq"
   ]
  },
  {
   "cell_type": "markdown",
   "metadata": {},
   "source": [
    "### Kernel density estimation:"
   ]
  },
  {
   "cell_type": "code",
   "execution_count": 82,
   "metadata": {},
   "outputs": [
    {
     "data": {
      "image/png": "[encoded data removed]",
      "text/plain": [
       "<Figure size 432x288 with 1 Axes>"
      ]
     },
     "metadata": {
      "needs_background": "light"
     },
     "output_type": "display_data"
    }
   ],
   "source": [
    "dom = np.arange(-5,10) #Dominio de la variable\n",
    "plt.hist(wind_speed,bins=35,density=True)\n",
    "f = kde_statsmodels_m(wind_speed)\n",
    "plt.plot(dom, f(dom), label='Función de masa de prob. estimada', color='y', linewidth=5)\n",
    "plt.xlabel('Velocidad del viento')\n",
    "plt.ylabel('Probabilidad')\n",
    "plt.title(\"Histograma y KDE\")\n",
    "plt.legend()\n",
    "plt.show()"
   ]
  },
  {
   "cell_type": "markdown",
   "metadata": {},
   "source": [
    "* Al igual que la distribución obtenida por Scipy, el KDE tampoco se adapta a los datos"
   ]
  },
  {
   "cell_type": "markdown",
   "metadata": {},
   "source": [
    "## Creación de Variables Aleatorias"
   ]
  },
  {
   "cell_type": "markdown",
   "metadata": {},
   "source": [
    "### Método de la transformada Inversa:"
   ]
  },
  {
   "cell_type": "code",
   "execution_count": 83,
   "metadata": {},
   "outputs": [
    {
     "data": {
      "image/png": "[encoded data removed]",
      "text/plain": [
       "<Figure size 432x288 with 1 Axes>"
      ]
     },
     "metadata": {
      "needs_background": "light"
     },
     "output_type": "display_data"
    }
   ],
   "source": [
    "# A partir de la distribución obtenida por Scipy\n",
    "wind_speed_aleatoria1 = trans_inversa(dist,p,10000)\n",
    "plt.plot(dom,dist(*p).pdf(dom))\n",
    "plt.hist(wind_speed_aleatoria1,bins = 35,density=True);"
   ]
  },
  {
   "cell_type": "markdown",
   "metadata": {},
   "source": [
    "* El método de la transformada inversa funciona mucho mejor con los datos, a excepción de los pequeños picos que salen de la distribución"
   ]
  },
  {
   "cell_type": "markdown",
   "metadata": {},
   "source": [
    "### Método aceptación y rechazo a partir de estratificación:"
   ]
  },
  {
   "cell_type": "code",
   "execution_count": 84,
   "metadata": {},
   "outputs": [
    {
     "data": {
      "image/png": "[encoded data removed]",
      "text/plain": [
       "<Figure size 432x288 with 1 Axes>"
      ]
     },
     "metadata": {
      "needs_background": "light"
     },
     "output_type": "display_data"
    }
   ],
   "source": [
    "#Creación de uniformes estratificados\n",
    "#Método aceptación/rechazo a partir de la función generada por KDE\n",
    "# Máximo de la función\n",
    "maximo = 0.8\n",
    "wind_speed_aleatoria2 = a_r(f,maximo,dom)\n",
    "plt.plot(dom,f(dom))\n",
    "plt.hist(wind_speed_aleatoria2,bins=35,density=True);"
   ]
  },
  {
   "cell_type": "markdown",
   "metadata": {},
   "source": [
    "### Estimación de la Media mediante montecarlo"
   ]
  },
  {
   "cell_type": "code",
   "execution_count": 85,
   "metadata": {},
   "outputs": [],
   "source": [
    "montecarlo_viento_speed = np.array([a_r(f,maximo,dom).mean() for i in range(10)]).mean()"
   ]
  },
  {
   "cell_type": "code",
   "execution_count": 86,
   "metadata": {},
   "outputs": [
    {
     "data": {
      "text/plain": [
       "2.1166869794433336"
      ]
     },
     "execution_count": 86,
     "metadata": {},
     "output_type": "execute_result"
    }
   ],
   "source": [
    "montecarlo_viento_speed"
   ]
  },
  {
   "cell_type": "markdown",
   "metadata": {},
   "source": [
    "* Análisis"
   ]
  },
  {
   "cell_type": "code",
   "execution_count": 87,
   "metadata": {},
   "outputs": [
    {
     "name": "stdout",
     "output_type": "stream",
     "text": [
      "Media estratificada: 2.1389524500029258\n",
      "Media datos originales:  2.1181163263502167\n",
      "Desviación estándar estratificada: 1.6478131147804171\n",
      "Desviación estándar con datos originales:  1.6299703731087067\n"
     ]
    }
   ],
   "source": [
    "media_estratificada=np.mean(wind_speed_aleatoria2)\n",
    "media_real=np.mean(wind_speed)\n",
    "print('Media estratificada:', media_estratificada)\n",
    "print('Media datos originales: ', media_real)\n",
    "de_estratificada=np.std(wind_speed_aleatoria2)\n",
    "de_real=np.std(wind_speed)\n",
    "print('Desviación estándar estratificada:', de_estratificada)\n",
    "print('Desviación estándar con datos originales: ', de_real)"
   ]
  },
  {
   "cell_type": "markdown",
   "metadata": {},
   "source": [
    "* Análisis estratificación.\n",
    "\n",
    "## Pruebas de Bondad de Ajuste e Hipótesis\n",
    "### Prueba de Intervalo de Confianza de la Media\n",
    "\n",
    "\n"
   ]
  },
  {
   "cell_type": "code",
   "execution_count": 88,
   "metadata": {},
   "outputs": [
    {
     "data": {
      "text/plain": [
       "2.1181163263502167"
      ]
     },
     "execution_count": 88,
     "metadata": {},
     "output_type": "execute_result"
    }
   ],
   "source": [
    "# Verdadera Media de la dirección del viento en Verano\n",
    "media_og = wind_speed.mean()\n",
    "media_og"
   ]
  },
  {
   "cell_type": "code",
   "execution_count": 89,
   "metadata": {},
   "outputs": [
    {
     "name": "stdout",
     "output_type": "stream",
     "text": [
      "Con una confianza de 0.95 la media estará en el intervalo t,\n",
      " (1.596424293620409, 1.658871708206833)     \n",
      "Con una confianza de 0.95 la media estará en el intervalo normal,\n",
      " (1.596428073197904, 1.658867928629338)\n",
      "Media calculada 1.627648000913621\n",
      "La prueba de hipótesis arroja como resultado\n",
      " Ttest_1sampResult(statistic=0.0, pvalue=1.0)\n",
      "Cálculo del estadístico de prueba teórico= 0.0\n",
      "Región de rechazo = (t<-0.6826013260235826) U (t>0.6826013260235826)\n",
      "Se acepta la hipótesis nula, la media es igual a 1.627648000913621 con un 0.95 % de confianza.\n"
     ]
    }
   ],
   "source": [
    "# Prueba de intervalo de confianza, Primera variable aleatoria generada\n",
    "intervalo_confianza(media_og,wind_speed_aleatoria1,.95)"
   ]
  },
  {
   "cell_type": "code",
   "execution_count": 90,
   "metadata": {},
   "outputs": [
    {
     "name": "stdout",
     "output_type": "stream",
     "text": [
      "Con una confianza de 0.95 la media estará en el intervalo t,\n",
      " (2.036646759529201, 2.2412581404766505)     \n",
      "Con una confianza de 0.95 la media estará en el intervalo normal,\n",
      " (2.0367707080821362, 2.2411341919237153)\n",
      "Media calculada 2.1389524500029258\n",
      "La prueba de hipótesis arroja como resultado\n",
      " Ttest_1sampResult(statistic=0.0, pvalue=1.0)\n",
      "Cálculo del estadístico de prueba teórico= 0.0\n",
      "Región de rechazo = (t<-0.6825546003581691) U (t>0.6825546003581691)\n",
      "Se acepta la hipótesis nula, la media es igual a 2.1389524500029258 con un 0.95 % de confianza.\n"
     ]
    }
   ],
   "source": [
    "# Prueba de intervalo de confianza, Segunda variable aleatoria generada\n",
    "intervalo_confianza(media_og,wind_speed_aleatoria2,.95)"
   ]
  },
  {
   "cell_type": "markdown",
   "metadata": {},
   "source": [
    "## <font color='green'>  Resumen conclusiones de nodos:"
   ]
  },
  {
   "cell_type": "markdown",
   "metadata": {},
   "source": [
    "* **Nodo_1:**\n",
    "blakdhjd\n",
    "\n",
    "* **Nodo_2:**\n",
    "kdhwje\n",
    "\n",
    "* **Nodo_3:**\n",
    "wjhkjer\n",
    "\n",
    "* **Nodo_4:**\n",
    "ashdw\n"
   ]
  },
  {
   "cell_type": "markdown",
   "metadata": {},
   "source": [
    "### 1.7 Visualización de resultados de simulación.\n",
    "> Se deben simular al menos 4  \"nodos\" o \"escenarios\" en tu problema. Para la segunda entrega debes haber elaborado un programa que simule dos de ellos, los primeros dos de tu diagrama.\n",
    "> Para la entrega final deben de tener los 4 nodos con todas sus simulaciones.\n",
    "\n"
   ]
  },
  {
   "cell_type": "markdown",
   "metadata": {},
   "source": [
    "\n",
    "### 1.6 Conclusiones.\n",
    "> Mucho cuidado, las conclusiones no son cualquier cosa. Se debe concluir respecto a los objetivos planteados de acuerdo a los resultados obtenidos."
   ]
  },
  {
   "cell_type": "markdown",
   "metadata": {},
   "source": [
    "\n",
    "### 1.7 Referencias.\n",
    "> - \"USDA Plant Hardiness Zone Map\". United States Department of Agriculture. Archived from the original on February 27, 2014. \n",
    "> - Met, Duncan Clark y la oficina. «How will climate change affect rainfall?» The Guardian, 15 de Diciembre de 2011: 107.\n",
    "Clima y precipitaciones en Seattle"
   ]
  },
  {
   "cell_type": "markdown",
   "metadata": {},
   "source": [
    "<script>\n",
    "  $(document).ready(function(){\n",
    "    $('div.prompt').hide();\n",
    "    $('div.back-to-top').hide();\n",
    "    $('nav#menubar').hide();\n",
    "    $('.breadcrumb').hide();\n",
    "    $('.hidden-print').hide();\n",
    "  });\n",
    "</script>\n",
    "\n",
    "<footer id=\"attribution\" style=\"float:right; color:#808080; background:#fff;\">\n",
    "Created with Jupyter by Ivette Landaverde and Diego Pintor.\n",
    "</footer>"
   ]
  }
 ],
 "metadata": {
  "kernelspec": {
   "display_name": "Python 3",
   "language": "python",
   "name": "python3"
  },
  "language_info": {
   "codemirror_mode": {
    "name": "ipython",
    "version": 3
   },
   "file_extension": ".py",
   "mimetype": "text/x-python",
   "name": "python",
   "nbconvert_exporter": "python",
   "pygments_lexer": "ipython3",
   "version": "3.8.5"
  }
 },
 "nbformat": 4,
 "nbformat_minor": 2
}
