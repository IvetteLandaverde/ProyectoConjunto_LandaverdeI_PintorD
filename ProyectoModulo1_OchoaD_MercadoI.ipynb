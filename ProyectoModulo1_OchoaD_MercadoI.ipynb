{
 "cells": [
  {
   "cell_type": "markdown",
   "metadata": {},
   "source": [
    "<img style=\"float: left; margin: 30px 15px 15px 15px;\" src=\"https://pngimage.net/wp-content/uploads/2018/06/logo-iteso-png-5.png\" width=\"300\" height=\"500\" /> \n",
    "    \n",
    "    \n",
    "### <font color='navy'> Simulación de procesos financieros. \n",
    "\n",
    "**Nombres:** Ivette Landaverde Mercado, Diego Pintor Ochoa.\n",
    "\n",
    "**Fecha:** XX de marzo del 2021.\n",
    "\n",
    "**Expediente** : if722626, if726622.\n",
    "**Profesor:** Oscar David Jaramillo Zuluaga.\n",
    "    \n",
    "**Link Github**: https://github.com/PintorOD1997/ProyectoConjunto_LandaverdeI_PintorD\n",
    "\n",
    "# Proyecto TEMA-2"
   ]
  },
  {
   "cell_type": "markdown",
   "metadata": {},
   "source": [
    "### 1.1 Título del trabajo:\n",
    "\n",
    "\n",
    "\n",
    "<div style=\"text-align:center\"><span style=\"color:#154898; font-family: 'Bebas Neue'; font-size: 4em;\">  Febrero loco y marzo otro poco </span></div> </p>\n",
    "\n"
   ]
  },
  {
   "cell_type": "markdown",
   "metadata": {},
   "source": [
    "<img style=\"float: center; margin: 0px 0px 15px 230px;\" src=\"https://di-uploads-pod14.dealerinspire.com/toyotaoforlando/uploads/2019/08/driving-in-the-rain-1024x683.jpg\" width=\"500px\" height=\"300px\" />"
   ]
  },
  {
   "cell_type": "markdown",
   "metadata": {},
   "source": [
    "\n",
    "## <font color='navy'> 1.2 Objetivos.\n",
    "#### 1.1 Objetivo general:\n",
    "    \n",
    "- El objetivo de este proyecto es simular el comportamiento de los patrones climáticos de las cuatro estaciones del año a través de las siguientes variables: húmedad, presión, temperatura, presión del viento y velocidad del viento para posteriormente calcular la probabilidad de lluvia en Seattle.\n",
    "    \n",
    "#### 1.2 Objetivos específicos:\n",
    "- Definir estaciones del año, en las que se puedan encuadrar patrones climáticos para la ciudad de Seattle. \n",
    "- Correlacionar la lluvia con otros indicadores como la humedad, dirección del viento, velocidad del viento y temperatura.\n",
    "- Simular escenarios para cada una de las cuatro estaciones del año.\n",
    "- Enunciar la probabilidad de que llueva en una estación dada del año para Seattle.\n",
    "\n",
    "Referencia:\n",
    "- https://es.slideshare.net/rosbur/metodologia-objetivos-generales-y-especficos"
   ]
  },
  {
   "cell_type": "markdown",
   "metadata": {},
   "source": [
    "\n",
    "## <font color='navy'> 1.3 Definición del problema\n",
    "\n",
    "Queremos predecir la probabilidad de lluvia ya que se simularemos que tenemos un autolavado en la ciudad de Seattle que ofrece garantías en caso de lluvia. \n",
    "> La premisa es: **si acudes a lavar tu carro y al día siguiente llueve, tu siguiente lavada es gratis.**\n",
    "\n",
    "Sería sencillo simplemente no ofrecer la garantía en las temporadas de lluvía cuando la probabilidad de que llueva es especialmente alta por lo cual no nos convendría, sin embargo, las lluvias ya no son tan estables y no son exclusivas de una temporada y esto se debe al cambio climático que atribuye un factor estócastico; ahora puede llover en cualquier mes y época del año.\n",
    "\n",
    "Nosotros usaremos datos relativamente recientes para reducir la probabilidad de error y por lo tanto conocer en que meses no deberíamos ofrecer la garantía de lavado gratis post-lluvia.\n",
    "\n",
    "\n",
    "¿Cómo afecta el cambio climático a la lluvia?\n",
    "\n",
    "\n",
    "Uno de los factores más críticos a la hora de determinar el impacto del cambio climático es el cambio en la lluvia y otros tipos de precipitaciones. La lluvia se ha vuelto mucho más difícil de predecir que la temperatura, pero existen algunas declaraciones que los científicos pueden asegurar en el futuro cercano.\n",
    "\n",
    "\n",
    "Una atmósfera más cálida puede almacenar mayor cantidad de humedad, y la cantidad de vapor de agua global se incrementa aproximadamente en un 7% por cada grado centígrado de calentamiento extra. Cómo se traduce esto a cambios en las precipitaciones globales es poco claro, pero el volumen total de precipitaciones puede incrementarse aproximadamente de un 1% a un 2% por grado centígrado de calentamiento.\n",
    "\n",
    "\n",
    "Existe evidencia para mostrar que las regiones que son húmedas se van a volver más húmedas, pero los detalles de que tan más húmedo se van a volver son más difíciles de asegurar. Son estos cambios en los patrones climáticos que harán la predicción de lluvia particularmente difícil. (Met 2011)\n",
    "\n",
    "\n",
    "\n",
    "\n",
    "Con la mayor cantidad de días lluviosos que otra gran ciudad americana, Seattle tiene una reputación de precipitaciones frecuentes. En promedio, por año, llueven 150 días. Sin embargo, debido a que las precipitaciones en Seattle suelen ser lloviznas ligeras, Seattle recibe menos precipitaciones totales que otras ciudades. \n",
    "En noviembre, Seattle promedia más precipitaciones que otras ciudades grandes; también los inviernos son particularmente húmedos. Los meses más húmedos son noviembre, diciembre y enero. (NOAA 2014)\n",
    "\n",
    "\n",
    "\n",
    "\n",
    "## <font color='navy'>  1.4 Nodos y variables: \n",
    "Tenemos un conjunto de datos sobre distintos atributos climáticos de 36 ciudades de las cuales nos enfocaremos específicamente en Seattle.\n",
    "\n",
    "Las mediciones están hechas por hora e incluyen:\n",
    "\n",
    "- Húmedad\n",
    "\n",
    "- Presión\n",
    "\n",
    "- Temperatura\n",
    "\n",
    "- Presión del viento\n",
    "    \n",
    "- Velocidad del viento\n",
    "\n",
    "- Descripción del clima\n",
    "\n",
    "Además contamos con información general de las ciudades: en que país se encuentran, su latitud y longitud.\n",
    "\n",
    "\n",
    "## <font color='navy'> 1.5 Definición de hipótesis y supuestos\n",
    "    \n",
    "### Supuestos:\n",
    "\n",
    "- Todos los datos son correctos y con la misma precisión de medición \n",
    "- Los datos fueron medidos con la misma frecuencia\n",
    "\n",
    "\n",
    "### Hipótesis:\n",
    " \n",
    "- Podemos predecir la probabilidad de lluvía a través de la correlación de otras variables\n",
    "\n"
   ]
  },
  {
   "cell_type": "markdown",
   "metadata": {},
   "source": [
    "## <font color='navy'>  Conceptos y definiciones importantes:\n",
    "    \n",
    "**Distribución de probabilidad:** \n",
    "$$ \\textbf{Función de distribución de probabilidad}\\\\ F(x)= \\frac{1}{\\sigma\\sqrt(2\\pi)}\\int_{-\\infty}^{x}e^{\\frac{-(v-\\mu)^2}{2\\sigma^2}}dv$$\n",
    "    \n",
    "**Distribución normal:**\n",
    "\n",
    "<img style=\"float: center; margin: 0px 0px 10px 350px;\" src=\"https://upload.wikimedia.org/wikipedia/commons/thumb/1/1b/Normal_distribution_pdf.png/325px-Normal_distribution_pdf.png\" width=\"300px\" height=\"200px\" />    \n",
    "\n",
    "**Propiedades:**    \n",
    "\n",
    "<img style=\"float: center; margin: 0px 0px 10px 350px;\" src=\"https://upload.wikimedia.org/wikipedia/commons/thumb/8/8c/Standard_deviation_diagram.svg/1200px-Standard_deviation_diagram.svg.png\" width=\"300px\" height=\"200px\" />      \n",
    "\n",
    "**Histograma:**\n",
    "    \n",
    "**Chi cuadrada:**\n",
    "    \n",
    "**Histograma:**\n",
    "    \n",
    "**Boxplot:**\n",
    "    \n",
    "**Método de la transformada inversa:** \n",
    "    \n",
    "Se utiliza en observación aleatoria tomando x como la variable aleatoria involucrada lo cual se logra mediante la función acumulada \n",
    "    $$F(x)=P(X\\leq x),\\quad \\forall x$$\n",
    "y la generación de números pseudoaleatorios  \n",
    "    $$X = F^{-1}(U),\\quad U \\sim \\text{Uniforme[0,1]}$$ "
   ]
  },
  {
   "cell_type": "markdown",
   "metadata": {},
   "source": [
    "## <font color='navy'> Diagrama:\n",
    "    \n",
    "El siguiente diagrama muestra como vamos a manejar las variables para para calcular la probabilidad de lluvia."
   ]
  },
  {
   "cell_type": "markdown",
   "metadata": {},
   "source": [
    "![alt text](diagrama.png \"diagrama\")"
   ]
  },
  {
   "cell_type": "markdown",
   "metadata": {},
   "source": [
    "## <font color='navy'>  1.6 Obtención de bases de datos y visualización:\n",
    "La base de datos la obtuvimos de la comunidad Kaggle, la información ya está acomodada con el mismo eje común (tiempo) y la misma perioricidad (por hora).\n",
    "Cada atributo está en un archivo distinto en donde las filas contienen el eje del tiempo y las columnas son las diferentes ciudades para cada archivo.\n",
    " \n",
    "> Fuente: https://www.kaggle.com/selfishgene/historical-hourly-weather-data/code"
   ]
  },
  {
   "cell_type": "markdown",
   "metadata": {},
   "source": [
    "Estos son los datos a utilizar:"
   ]
  },
  {
   "cell_type": "code",
   "execution_count": 1,
   "metadata": {},
   "outputs": [],
   "source": [
    "#Librerías:\n",
    "import numpy as np\n",
    "import pandas as pd\n",
    "import matplotlib.pyplot as plt\n",
    "import scipy.stats as st\n",
    "%matplotlib inline\n",
    "from dateutil.parser import parse \n",
    "import matplotlib as mpl\n",
    "import seaborn as sns\n",
    "import numpy as np\n",
    "import pandas as pd\n",
    "from matplotlib import pyplot\n",
    "from sklearn.neighbors import KernelDensity\n",
    "from scipy.stats import gaussian_kde\n",
    "from statsmodels.nonparametric.kde import KDEUnivariate\n",
    "from statsmodels.nonparametric.kernel_density import KDEMultivariate\n",
    "from sklearn.datasets import load_digits as ld\n",
    "from sklearn.neighbors import KernelDensity\n",
    "from sklearn.decomposition import PCA\n",
    "from sklearn.model_selection import GridSearchCV\n",
    "from sklearn.mixture import GaussianMixture as GMM\n",
    "from sklearn.mixture import BayesianGaussianMixture\n",
    "import itertools"
   ]
  },
  {
   "cell_type": "code",
   "execution_count": 2,
   "metadata": {},
   "outputs": [
    {
     "data": {
      "text/html": [
       "<div>\n",
       "<style scoped>\n",
       "    .dataframe tbody tr th:only-of-type {\n",
       "        vertical-align: middle;\n",
       "    }\n",
       "\n",
       "    .dataframe tbody tr th {\n",
       "        vertical-align: top;\n",
       "    }\n",
       "\n",
       "    .dataframe thead th {\n",
       "        text-align: right;\n",
       "    }\n",
       "</style>\n",
       "<table border=\"1\" class=\"dataframe\">\n",
       "  <thead>\n",
       "    <tr style=\"text-align: right;\">\n",
       "      <th></th>\n",
       "      <th>datetime</th>\n",
       "      <th>Vancouver</th>\n",
       "      <th>Portland</th>\n",
       "      <th>San Francisco</th>\n",
       "      <th>Seattle</th>\n",
       "      <th>Los Angeles</th>\n",
       "      <th>San Diego</th>\n",
       "      <th>Las Vegas</th>\n",
       "      <th>Phoenix</th>\n",
       "      <th>Albuquerque</th>\n",
       "      <th>...</th>\n",
       "      <th>Philadelphia</th>\n",
       "      <th>New York</th>\n",
       "      <th>Montreal</th>\n",
       "      <th>Boston</th>\n",
       "      <th>Beersheba</th>\n",
       "      <th>Tel Aviv District</th>\n",
       "      <th>Eilat</th>\n",
       "      <th>Haifa</th>\n",
       "      <th>Nahariyya</th>\n",
       "      <th>Jerusalem</th>\n",
       "    </tr>\n",
       "  </thead>\n",
       "  <tbody>\n",
       "    <tr>\n",
       "      <th>1</th>\n",
       "      <td>2012-10-01 13:00:00</td>\n",
       "      <td>mist</td>\n",
       "      <td>scattered clouds</td>\n",
       "      <td>light rain</td>\n",
       "      <td>sky is clear</td>\n",
       "      <td>mist</td>\n",
       "      <td>sky is clear</td>\n",
       "      <td>sky is clear</td>\n",
       "      <td>sky is clear</td>\n",
       "      <td>sky is clear</td>\n",
       "      <td>...</td>\n",
       "      <td>broken clouds</td>\n",
       "      <td>few clouds</td>\n",
       "      <td>overcast clouds</td>\n",
       "      <td>sky is clear</td>\n",
       "      <td>sky is clear</td>\n",
       "      <td>sky is clear</td>\n",
       "      <td>haze</td>\n",
       "      <td>sky is clear</td>\n",
       "      <td>sky is clear</td>\n",
       "      <td>sky is clear</td>\n",
       "    </tr>\n",
       "    <tr>\n",
       "      <th>2</th>\n",
       "      <td>2012-10-01 14:00:00</td>\n",
       "      <td>broken clouds</td>\n",
       "      <td>scattered clouds</td>\n",
       "      <td>sky is clear</td>\n",
       "      <td>sky is clear</td>\n",
       "      <td>sky is clear</td>\n",
       "      <td>sky is clear</td>\n",
       "      <td>sky is clear</td>\n",
       "      <td>sky is clear</td>\n",
       "      <td>sky is clear</td>\n",
       "      <td>...</td>\n",
       "      <td>broken clouds</td>\n",
       "      <td>few clouds</td>\n",
       "      <td>sky is clear</td>\n",
       "      <td>few clouds</td>\n",
       "      <td>sky is clear</td>\n",
       "      <td>sky is clear</td>\n",
       "      <td>broken clouds</td>\n",
       "      <td>overcast clouds</td>\n",
       "      <td>sky is clear</td>\n",
       "      <td>overcast clouds</td>\n",
       "    </tr>\n",
       "  </tbody>\n",
       "</table>\n",
       "<p>2 rows × 37 columns</p>\n",
       "</div>"
      ],
      "text/plain": [
       "              datetime      Vancouver          Portland San Francisco  \\\n",
       "1  2012-10-01 13:00:00           mist  scattered clouds    light rain   \n",
       "2  2012-10-01 14:00:00  broken clouds  scattered clouds  sky is clear   \n",
       "\n",
       "        Seattle   Los Angeles     San Diego     Las Vegas       Phoenix  \\\n",
       "1  sky is clear          mist  sky is clear  sky is clear  sky is clear   \n",
       "2  sky is clear  sky is clear  sky is clear  sky is clear  sky is clear   \n",
       "\n",
       "    Albuquerque  ...   Philadelphia    New York         Montreal  \\\n",
       "1  sky is clear  ...  broken clouds  few clouds  overcast clouds   \n",
       "2  sky is clear  ...  broken clouds  few clouds     sky is clear   \n",
       "\n",
       "         Boston     Beersheba Tel Aviv District          Eilat  \\\n",
       "1  sky is clear  sky is clear      sky is clear           haze   \n",
       "2    few clouds  sky is clear      sky is clear  broken clouds   \n",
       "\n",
       "             Haifa     Nahariyya        Jerusalem  \n",
       "1     sky is clear  sky is clear     sky is clear  \n",
       "2  overcast clouds  sky is clear  overcast clouds  \n",
       "\n",
       "[2 rows x 37 columns]"
      ]
     },
     "execution_count": 2,
     "metadata": {},
     "output_type": "execute_result"
    }
   ],
   "source": [
    "data1 = pd.read_csv('weather_description.csv').dropna()\n",
    "data1.head(2)"
   ]
  },
  {
   "cell_type": "code",
   "execution_count": 3,
   "metadata": {},
   "outputs": [
    {
     "data": {
      "text/plain": [
       "City               Seattle\n",
       "Country      United States\n",
       "Latitude           47.6062\n",
       "Longitude         -122.332\n",
       "Name: 3, dtype: object"
      ]
     },
     "execution_count": 3,
     "metadata": {},
     "output_type": "execute_result"
    }
   ],
   "source": [
    "data=pd.read_csv(\"city_attributes.csv\")\n",
    "data.iloc[3]"
   ]
  },
  {
   "cell_type": "code",
   "execution_count": 4,
   "metadata": {},
   "outputs": [
    {
     "data": {
      "text/plain": [
       "43150    77.0\n",
       "15053    80.0\n",
       "Name: Seattle, dtype: float64"
      ]
     },
     "execution_count": 4,
     "metadata": {},
     "output_type": "execute_result"
    }
   ],
   "source": [
    "data2=pd.read_csv(\"humidity.csv\")\n",
    "humedad = data2[\"Seattle\"].dropna()\n",
    "humedad.sample(2)"
   ]
  },
  {
   "cell_type": "code",
   "execution_count": 5,
   "metadata": {},
   "outputs": [
    {
     "data": {
      "text/plain": [
       "count    44964.000000\n",
       "mean        77.159038\n",
       "std         18.147464\n",
       "min         13.000000\n",
       "25%         66.000000\n",
       "50%         81.000000\n",
       "75%         93.000000\n",
       "max        100.000000\n",
       "Name: Seattle, dtype: float64"
      ]
     },
     "execution_count": 5,
     "metadata": {},
     "output_type": "execute_result"
    }
   ],
   "source": [
    "humedad.describe()"
   ]
  },
  {
   "cell_type": "code",
   "execution_count": 6,
   "metadata": {},
   "outputs": [
    {
     "data": {
      "text/html": [
       "<div>\n",
       "<style scoped>\n",
       "    .dataframe tbody tr th:only-of-type {\n",
       "        vertical-align: middle;\n",
       "    }\n",
       "\n",
       "    .dataframe tbody tr th {\n",
       "        vertical-align: top;\n",
       "    }\n",
       "\n",
       "    .dataframe thead th {\n",
       "        text-align: right;\n",
       "    }\n",
       "</style>\n",
       "<table border=\"1\" class=\"dataframe\">\n",
       "  <thead>\n",
       "    <tr style=\"text-align: right;\">\n",
       "      <th></th>\n",
       "      <th>datetime</th>\n",
       "      <th>Vancouver</th>\n",
       "      <th>Portland</th>\n",
       "      <th>San Francisco</th>\n",
       "      <th>Seattle</th>\n",
       "      <th>Los Angeles</th>\n",
       "      <th>San Diego</th>\n",
       "      <th>Las Vegas</th>\n",
       "      <th>Phoenix</th>\n",
       "      <th>Albuquerque</th>\n",
       "      <th>...</th>\n",
       "      <th>Philadelphia</th>\n",
       "      <th>New York</th>\n",
       "      <th>Montreal</th>\n",
       "      <th>Boston</th>\n",
       "      <th>Beersheba</th>\n",
       "      <th>Tel Aviv District</th>\n",
       "      <th>Eilat</th>\n",
       "      <th>Haifa</th>\n",
       "      <th>Nahariyya</th>\n",
       "      <th>Jerusalem</th>\n",
       "    </tr>\n",
       "  </thead>\n",
       "  <tbody>\n",
       "    <tr>\n",
       "      <th>755</th>\n",
       "      <td>2012-11-01 23:00:00</td>\n",
       "      <td>1002.0</td>\n",
       "      <td>1007.0</td>\n",
       "      <td>1015.0</td>\n",
       "      <td>1004.0</td>\n",
       "      <td>1015.0</td>\n",
       "      <td>1016.0</td>\n",
       "      <td>1014.0</td>\n",
       "      <td>1013.0</td>\n",
       "      <td>1021.0</td>\n",
       "      <td>...</td>\n",
       "      <td>1003.0</td>\n",
       "      <td>1001.0</td>\n",
       "      <td>NaN</td>\n",
       "      <td>1005.0</td>\n",
       "      <td>967.0</td>\n",
       "      <td>1013.0</td>\n",
       "      <td>1016.0</td>\n",
       "      <td>1013.0</td>\n",
       "      <td>1013.0</td>\n",
       "      <td>990.0</td>\n",
       "    </tr>\n",
       "    <tr>\n",
       "      <th>10788</th>\n",
       "      <td>2013-12-25 00:00:00</td>\n",
       "      <td>1039.0</td>\n",
       "      <td>1032.0</td>\n",
       "      <td>1022.0</td>\n",
       "      <td>1035.0</td>\n",
       "      <td>1004.0</td>\n",
       "      <td>1023.0</td>\n",
       "      <td>1022.0</td>\n",
       "      <td>1019.0</td>\n",
       "      <td>1022.0</td>\n",
       "      <td>...</td>\n",
       "      <td>1027.0</td>\n",
       "      <td>1024.0</td>\n",
       "      <td>1027.0</td>\n",
       "      <td>1019.0</td>\n",
       "      <td>998.0</td>\n",
       "      <td>1023.0</td>\n",
       "      <td>951.0</td>\n",
       "      <td>1030.0</td>\n",
       "      <td>1024.0</td>\n",
       "      <td>1000.0</td>\n",
       "    </tr>\n",
       "  </tbody>\n",
       "</table>\n",
       "<p>2 rows × 37 columns</p>\n",
       "</div>"
      ],
      "text/plain": [
       "                  datetime  Vancouver  Portland  San Francisco  Seattle  \\\n",
       "755    2012-11-01 23:00:00     1002.0    1007.0         1015.0   1004.0   \n",
       "10788  2013-12-25 00:00:00     1039.0    1032.0         1022.0   1035.0   \n",
       "\n",
       "       Los Angeles  San Diego  Las Vegas  Phoenix  Albuquerque  ...  \\\n",
       "755         1015.0     1016.0     1014.0   1013.0       1021.0  ...   \n",
       "10788       1004.0     1023.0     1022.0   1019.0       1022.0  ...   \n",
       "\n",
       "       Philadelphia  New York  Montreal  Boston  Beersheba  Tel Aviv District  \\\n",
       "755          1003.0    1001.0       NaN  1005.0      967.0             1013.0   \n",
       "10788        1027.0    1024.0    1027.0  1019.0      998.0             1023.0   \n",
       "\n",
       "        Eilat   Haifa  Nahariyya  Jerusalem  \n",
       "755    1016.0  1013.0     1013.0      990.0  \n",
       "10788   951.0  1030.0     1024.0     1000.0  \n",
       "\n",
       "[2 rows x 37 columns]"
      ]
     },
     "execution_count": 6,
     "metadata": {},
     "output_type": "execute_result"
    }
   ],
   "source": [
    "#Presión:\n",
    "data3=pd.read_csv(\"pressure.csv\")\n",
    "presion = data3.Seattle.dropna()\n",
    "data3.sample(2)"
   ]
  },
  {
   "cell_type": "code",
   "execution_count": 7,
   "metadata": {},
   "outputs": [
    {
     "data": {
      "text/plain": [
       "count    45240.000000\n",
       "mean      1021.001216\n",
       "std          9.737187\n",
       "min        980.000000\n",
       "25%       1015.000000\n",
       "50%       1020.000000\n",
       "75%       1027.000000\n",
       "max       1058.000000\n",
       "Name: Seattle, dtype: float64"
      ]
     },
     "execution_count": 7,
     "metadata": {},
     "output_type": "execute_result"
    }
   ],
   "source": [
    "presion.describe()"
   ]
  },
  {
   "cell_type": "code",
   "execution_count": 8,
   "metadata": {},
   "outputs": [
    {
     "data": {
      "text/html": [
       "<div>\n",
       "<style scoped>\n",
       "    .dataframe tbody tr th:only-of-type {\n",
       "        vertical-align: middle;\n",
       "    }\n",
       "\n",
       "    .dataframe tbody tr th {\n",
       "        vertical-align: top;\n",
       "    }\n",
       "\n",
       "    .dataframe thead th {\n",
       "        text-align: right;\n",
       "    }\n",
       "</style>\n",
       "<table border=\"1\" class=\"dataframe\">\n",
       "  <thead>\n",
       "    <tr style=\"text-align: right;\">\n",
       "      <th></th>\n",
       "      <th>datetime</th>\n",
       "      <th>Vancouver</th>\n",
       "      <th>Portland</th>\n",
       "      <th>San Francisco</th>\n",
       "      <th>Seattle</th>\n",
       "      <th>Los Angeles</th>\n",
       "      <th>San Diego</th>\n",
       "      <th>Las Vegas</th>\n",
       "      <th>Phoenix</th>\n",
       "      <th>Albuquerque</th>\n",
       "      <th>...</th>\n",
       "      <th>Philadelphia</th>\n",
       "      <th>New York</th>\n",
       "      <th>Montreal</th>\n",
       "      <th>Boston</th>\n",
       "      <th>Beersheba</th>\n",
       "      <th>Tel Aviv District</th>\n",
       "      <th>Eilat</th>\n",
       "      <th>Haifa</th>\n",
       "      <th>Nahariyya</th>\n",
       "      <th>Jerusalem</th>\n",
       "    </tr>\n",
       "  </thead>\n",
       "  <tbody>\n",
       "    <tr>\n",
       "      <th>12429</th>\n",
       "      <td>2014-03-03 09:00:00</td>\n",
       "      <td>275.930000</td>\n",
       "      <td>283.9500</td>\n",
       "      <td>283.670</td>\n",
       "      <td>282.100</td>\n",
       "      <td>281.1400</td>\n",
       "      <td>284.0700</td>\n",
       "      <td>282.6200</td>\n",
       "      <td>285.2200</td>\n",
       "      <td>274.600</td>\n",
       "      <td>...</td>\n",
       "      <td>268.4400</td>\n",
       "      <td>268.530000</td>\n",
       "      <td>255.220000</td>\n",
       "      <td>269.450</td>\n",
       "      <td>290.774</td>\n",
       "      <td>294.17</td>\n",
       "      <td>292.324</td>\n",
       "      <td>290.899</td>\n",
       "      <td>290.899</td>\n",
       "      <td>295.150</td>\n",
       "    </tr>\n",
       "    <tr>\n",
       "      <th>18687</th>\n",
       "      <td>2014-11-19 03:00:00</td>\n",
       "      <td>278.258185</td>\n",
       "      <td>274.3065</td>\n",
       "      <td>287.669</td>\n",
       "      <td>276.444</td>\n",
       "      <td>285.0315</td>\n",
       "      <td>285.8815</td>\n",
       "      <td>276.8565</td>\n",
       "      <td>282.5815</td>\n",
       "      <td>269.819</td>\n",
       "      <td>...</td>\n",
       "      <td>266.6065</td>\n",
       "      <td>268.711803</td>\n",
       "      <td>269.025756</td>\n",
       "      <td>271.719</td>\n",
       "      <td>280.420</td>\n",
       "      <td>286.69</td>\n",
       "      <td>283.520</td>\n",
       "      <td>290.770</td>\n",
       "      <td>280.745</td>\n",
       "      <td>285.244</td>\n",
       "    </tr>\n",
       "  </tbody>\n",
       "</table>\n",
       "<p>2 rows × 37 columns</p>\n",
       "</div>"
      ],
      "text/plain": [
       "                  datetime   Vancouver  Portland  San Francisco  Seattle  \\\n",
       "12429  2014-03-03 09:00:00  275.930000  283.9500        283.670  282.100   \n",
       "18687  2014-11-19 03:00:00  278.258185  274.3065        287.669  276.444   \n",
       "\n",
       "       Los Angeles  San Diego  Las Vegas   Phoenix  Albuquerque  ...  \\\n",
       "12429     281.1400   284.0700   282.6200  285.2200      274.600  ...   \n",
       "18687     285.0315   285.8815   276.8565  282.5815      269.819  ...   \n",
       "\n",
       "       Philadelphia    New York    Montreal   Boston  Beersheba  \\\n",
       "12429      268.4400  268.530000  255.220000  269.450    290.774   \n",
       "18687      266.6065  268.711803  269.025756  271.719    280.420   \n",
       "\n",
       "       Tel Aviv District    Eilat    Haifa  Nahariyya  Jerusalem  \n",
       "12429             294.17  292.324  290.899    290.899    295.150  \n",
       "18687             286.69  283.520  290.770    280.745    285.244  \n",
       "\n",
       "[2 rows x 37 columns]"
      ]
     },
     "execution_count": 8,
     "metadata": {},
     "output_type": "execute_result"
    }
   ],
   "source": [
    "#Temperatura:\n",
    "data4=pd.read_csv(\"temperature.csv\")\n",
    "temper = data4.Seattle.dropna()-273.15 #de kelvin a cº\n",
    "data4.sample(2)"
   ]
  },
  {
   "cell_type": "code",
   "execution_count": 9,
   "metadata": {},
   "outputs": [
    {
     "data": {
      "text/plain": [
       "count    45250.000000\n",
       "mean        11.259626\n",
       "std          6.547986\n",
       "min         -9.370000\n",
       "25%          6.680000\n",
       "50%         10.790000\n",
       "75%         15.380000\n",
       "max         34.150000\n",
       "Name: Seattle, dtype: float64"
      ]
     },
     "execution_count": 9,
     "metadata": {},
     "output_type": "execute_result"
    }
   ],
   "source": [
    "temper.describe()"
   ]
  },
  {
   "cell_type": "code",
   "execution_count": 10,
   "metadata": {},
   "outputs": [
    {
     "data": {
      "text/html": [
       "<div>\n",
       "<style scoped>\n",
       "    .dataframe tbody tr th:only-of-type {\n",
       "        vertical-align: middle;\n",
       "    }\n",
       "\n",
       "    .dataframe tbody tr th {\n",
       "        vertical-align: top;\n",
       "    }\n",
       "\n",
       "    .dataframe thead th {\n",
       "        text-align: right;\n",
       "    }\n",
       "</style>\n",
       "<table border=\"1\" class=\"dataframe\">\n",
       "  <thead>\n",
       "    <tr style=\"text-align: right;\">\n",
       "      <th></th>\n",
       "      <th>datetime</th>\n",
       "      <th>Vancouver</th>\n",
       "      <th>Portland</th>\n",
       "      <th>San Francisco</th>\n",
       "      <th>Seattle</th>\n",
       "      <th>Los Angeles</th>\n",
       "      <th>San Diego</th>\n",
       "      <th>Las Vegas</th>\n",
       "      <th>Phoenix</th>\n",
       "      <th>Albuquerque</th>\n",
       "      <th>...</th>\n",
       "      <th>Philadelphia</th>\n",
       "      <th>New York</th>\n",
       "      <th>Montreal</th>\n",
       "      <th>Boston</th>\n",
       "      <th>Beersheba</th>\n",
       "      <th>Tel Aviv District</th>\n",
       "      <th>Eilat</th>\n",
       "      <th>Haifa</th>\n",
       "      <th>Nahariyya</th>\n",
       "      <th>Jerusalem</th>\n",
       "    </tr>\n",
       "  </thead>\n",
       "  <tbody>\n",
       "    <tr>\n",
       "      <th>2617</th>\n",
       "      <td>2013-01-18 13:00:00</td>\n",
       "      <td>0.0</td>\n",
       "      <td>0.0</td>\n",
       "      <td>170.0</td>\n",
       "      <td>0.0</td>\n",
       "      <td>0.0</td>\n",
       "      <td>0.0</td>\n",
       "      <td>280.0</td>\n",
       "      <td>0.0</td>\n",
       "      <td>10.0</td>\n",
       "      <td>...</td>\n",
       "      <td>340.0</td>\n",
       "      <td>310.0</td>\n",
       "      <td>290.0</td>\n",
       "      <td>250.0</td>\n",
       "      <td>157.0</td>\n",
       "      <td>320.0</td>\n",
       "      <td>20.0</td>\n",
       "      <td>324.0</td>\n",
       "      <td>324.0</td>\n",
       "      <td>324.0</td>\n",
       "    </tr>\n",
       "    <tr>\n",
       "      <th>34023</th>\n",
       "      <td>2016-08-19 03:00:00</td>\n",
       "      <td>320.0</td>\n",
       "      <td>356.0</td>\n",
       "      <td>248.0</td>\n",
       "      <td>43.0</td>\n",
       "      <td>208.0</td>\n",
       "      <td>264.0</td>\n",
       "      <td>168.0</td>\n",
       "      <td>52.0</td>\n",
       "      <td>277.0</td>\n",
       "      <td>...</td>\n",
       "      <td>273.0</td>\n",
       "      <td>210.0</td>\n",
       "      <td>327.0</td>\n",
       "      <td>267.0</td>\n",
       "      <td>243.0</td>\n",
       "      <td>145.0</td>\n",
       "      <td>354.0</td>\n",
       "      <td>239.0</td>\n",
       "      <td>239.0</td>\n",
       "      <td>314.0</td>\n",
       "    </tr>\n",
       "  </tbody>\n",
       "</table>\n",
       "<p>2 rows × 37 columns</p>\n",
       "</div>"
      ],
      "text/plain": [
       "                  datetime  Vancouver  Portland  San Francisco  Seattle  \\\n",
       "2617   2013-01-18 13:00:00        0.0       0.0          170.0      0.0   \n",
       "34023  2016-08-19 03:00:00      320.0     356.0          248.0     43.0   \n",
       "\n",
       "       Los Angeles  San Diego  Las Vegas  Phoenix  Albuquerque  ...  \\\n",
       "2617           0.0        0.0      280.0      0.0         10.0  ...   \n",
       "34023        208.0      264.0      168.0     52.0        277.0  ...   \n",
       "\n",
       "       Philadelphia  New York  Montreal  Boston  Beersheba  Tel Aviv District  \\\n",
       "2617          340.0     310.0     290.0   250.0      157.0              320.0   \n",
       "34023         273.0     210.0     327.0   267.0      243.0              145.0   \n",
       "\n",
       "       Eilat  Haifa  Nahariyya  Jerusalem  \n",
       "2617    20.0  324.0      324.0      324.0  \n",
       "34023  354.0  239.0      239.0      314.0  \n",
       "\n",
       "[2 rows x 37 columns]"
      ]
     },
     "execution_count": 10,
     "metadata": {},
     "output_type": "execute_result"
    }
   ],
   "source": [
    "#Dirección del viento\n",
    "data6=pd.read_csv(\"wind_direction.csv\")\n",
    "wind_dir = data6.Seattle.dropna()\n",
    "data6.sample(2)"
   ]
  },
  {
   "cell_type": "code",
   "execution_count": 11,
   "metadata": {},
   "outputs": [
    {
     "data": {
      "text/plain": [
       "count    45252.000000\n",
       "mean       161.380226\n",
       "std        103.206816\n",
       "min          0.000000\n",
       "25%         70.000000\n",
       "50%        175.000000\n",
       "75%        218.000000\n",
       "max        360.000000\n",
       "Name: Seattle, dtype: float64"
      ]
     },
     "execution_count": 11,
     "metadata": {},
     "output_type": "execute_result"
    }
   ],
   "source": [
    "wind_dir.describe()"
   ]
  },
  {
   "cell_type": "code",
   "execution_count": 12,
   "metadata": {
    "scrolled": true
   },
   "outputs": [
    {
     "data": {
      "text/html": [
       "<div>\n",
       "<style scoped>\n",
       "    .dataframe tbody tr th:only-of-type {\n",
       "        vertical-align: middle;\n",
       "    }\n",
       "\n",
       "    .dataframe tbody tr th {\n",
       "        vertical-align: top;\n",
       "    }\n",
       "\n",
       "    .dataframe thead th {\n",
       "        text-align: right;\n",
       "    }\n",
       "</style>\n",
       "<table border=\"1\" class=\"dataframe\">\n",
       "  <thead>\n",
       "    <tr style=\"text-align: right;\">\n",
       "      <th></th>\n",
       "      <th>datetime</th>\n",
       "      <th>Vancouver</th>\n",
       "      <th>Portland</th>\n",
       "      <th>San Francisco</th>\n",
       "      <th>Seattle</th>\n",
       "      <th>Los Angeles</th>\n",
       "      <th>San Diego</th>\n",
       "      <th>Las Vegas</th>\n",
       "      <th>Phoenix</th>\n",
       "      <th>Albuquerque</th>\n",
       "      <th>...</th>\n",
       "      <th>Philadelphia</th>\n",
       "      <th>New York</th>\n",
       "      <th>Montreal</th>\n",
       "      <th>Boston</th>\n",
       "      <th>Beersheba</th>\n",
       "      <th>Tel Aviv District</th>\n",
       "      <th>Eilat</th>\n",
       "      <th>Haifa</th>\n",
       "      <th>Nahariyya</th>\n",
       "      <th>Jerusalem</th>\n",
       "    </tr>\n",
       "  </thead>\n",
       "  <tbody>\n",
       "    <tr>\n",
       "      <th>15071</th>\n",
       "      <td>2014-06-21 11:00:00</td>\n",
       "      <td>1.0</td>\n",
       "      <td>1.0</td>\n",
       "      <td>2.0</td>\n",
       "      <td>2.0</td>\n",
       "      <td>0.0</td>\n",
       "      <td>0.0</td>\n",
       "      <td>1.0</td>\n",
       "      <td>1.0</td>\n",
       "      <td>1.0</td>\n",
       "      <td>...</td>\n",
       "      <td>2.0</td>\n",
       "      <td>3.0</td>\n",
       "      <td>2.0</td>\n",
       "      <td>2.0</td>\n",
       "      <td>4.0</td>\n",
       "      <td>1.0</td>\n",
       "      <td>8.0</td>\n",
       "      <td>4.0</td>\n",
       "      <td>2.0</td>\n",
       "      <td>1.0</td>\n",
       "    </tr>\n",
       "    <tr>\n",
       "      <th>36681</th>\n",
       "      <td>2016-12-07 21:00:00</td>\n",
       "      <td>1.0</td>\n",
       "      <td>5.0</td>\n",
       "      <td>3.0</td>\n",
       "      <td>5.0</td>\n",
       "      <td>0.0</td>\n",
       "      <td>4.0</td>\n",
       "      <td>5.0</td>\n",
       "      <td>2.0</td>\n",
       "      <td>5.0</td>\n",
       "      <td>...</td>\n",
       "      <td>2.0</td>\n",
       "      <td>1.0</td>\n",
       "      <td>1.0</td>\n",
       "      <td>2.0</td>\n",
       "      <td>1.0</td>\n",
       "      <td>1.0</td>\n",
       "      <td>4.0</td>\n",
       "      <td>5.0</td>\n",
       "      <td>5.0</td>\n",
       "      <td>2.0</td>\n",
       "    </tr>\n",
       "  </tbody>\n",
       "</table>\n",
       "<p>2 rows × 37 columns</p>\n",
       "</div>"
      ],
      "text/plain": [
       "                  datetime  Vancouver  Portland  San Francisco  Seattle  \\\n",
       "15071  2014-06-21 11:00:00        1.0       1.0            2.0      2.0   \n",
       "36681  2016-12-07 21:00:00        1.0       5.0            3.0      5.0   \n",
       "\n",
       "       Los Angeles  San Diego  Las Vegas  Phoenix  Albuquerque  ...  \\\n",
       "15071          0.0        0.0        1.0      1.0          1.0  ...   \n",
       "36681          0.0        4.0        5.0      2.0          5.0  ...   \n",
       "\n",
       "       Philadelphia  New York  Montreal  Boston  Beersheba  Tel Aviv District  \\\n",
       "15071           2.0       3.0       2.0     2.0        4.0                1.0   \n",
       "36681           2.0       1.0       1.0     2.0        1.0                1.0   \n",
       "\n",
       "       Eilat  Haifa  Nahariyya  Jerusalem  \n",
       "15071    8.0    4.0        2.0        1.0  \n",
       "36681    4.0    5.0        5.0        2.0  \n",
       "\n",
       "[2 rows x 37 columns]"
      ]
     },
     "execution_count": 12,
     "metadata": {},
     "output_type": "execute_result"
    }
   ],
   "source": [
    "#Velocidad del viento:\n",
    "data7=pd.read_csv(\"wind_speed.csv\")\n",
    "wind_speed = data7.Seattle.dropna()\n",
    "data7.sample(2)"
   ]
  },
  {
   "cell_type": "code",
   "execution_count": 13,
   "metadata": {},
   "outputs": [
    {
     "data": {
      "text/plain": [
       "count    45252.000000\n",
       "mean         2.118116\n",
       "std          1.629988\n",
       "min          0.000000\n",
       "25%          1.000000\n",
       "50%          2.000000\n",
       "75%          3.000000\n",
       "max         24.000000\n",
       "Name: Seattle, dtype: float64"
      ]
     },
     "execution_count": 13,
     "metadata": {},
     "output_type": "execute_result"
    }
   ],
   "source": [
    "wind_speed.describe()"
   ]
  },
  {
   "cell_type": "markdown",
   "metadata": {},
   "source": [
    "## <font color='navy'>  Funciones a utilizar:"
   ]
  },
  {
   "cell_type": "code",
   "execution_count": 177,
   "metadata": {},
   "outputs": [],
   "source": [
    "\n",
    "#Función histograma:\n",
    "def plot_histogram_discrete(distribucion:'distribución a graficar histograma',\n",
    "                            xlabel:'x label',\n",
    "                            ylabel: 'y label',\n",
    "                            title: 'title'):\n",
    "    '''Función para graficar el histograma de una distribución discreta'''\n",
    "    plt.figure(figsize=[8,4])\n",
    "    y,x = np.histogram(distribucion,bins = len(set(distribucion))) \n",
    "    plt.bar(list(set(distribucion)),y)\n",
    "    plt.xlabel(xlabel)\n",
    "    plt.ylabel(ylabel)\n",
    "    plt.title(title)\n",
    "    plt.show()\n",
    "    \n",
    "# Función que ajusta las mejores distribuciones\n",
    "\n",
    "# Observación gráfica, selección de distribución óptima\n",
    "def best_fit_params(variable: \"Variable aleatoria a ajustar\"):\n",
    "    \"\"\"\n",
    "    Función de ajuste para distribución óptima de variables aleatorias.\n",
    "    Esta función recibe sólo una variable, \"variable\", la cuál es una de las variables aleatorias\n",
    "    utilizadas en este proyecto.\n",
    "    Crea un sample de la variable aleatoria para evitar tener que trabajar con todos los datos,\n",
    "    esta sample se almacena en la variable datos. Luego, genera un histograma del sample para dar\n",
    "    una idea de como se ve la variable aleatoria. Se almacena en la variable x el eje x del\n",
    "    histograma. Se crea una variable llamada dist, que consiste en una lista de las primeras\n",
    "    50 distribuciones continuas en la librería stats de scipy, además de la variable de\n",
    "    referencia normal. Se crea un dataFrame de error para registrar el error cuadrático promedio.\n",
    "    Se itera sobre la lista de distribuciones, se encuentra el error y se almacena en el dataFrame.\n",
    "    Ordena el dataframe de menor a mayor, se almacena un slice de los primeros 5 valores y se \n",
    "    crea una lista de estas distribuciones. Por último, itera sobre el slice de los 5 valores,\n",
    "    y grafica las funciones de densidad de probabilidad sobre el histograma para mostrar el \n",
    "    resultado. Se almacenan los parámetros de estas funciones en una lista.\n",
    "    Esta función regresa la distribución con menor error y sus parámetros, en dos variables.\n",
    "    (distribucion, parametros = best_fit_params(variable))\n",
    "    \"\"\"\n",
    "    datos = variable.sample(1000)\n",
    "    y,x,_ = plt.hist(datos,bins=\"auto\",density=True)\n",
    "    x = x[1:]\n",
    "    dist = [d for d in dir(st) if isinstance(getattr(st,d),getattr(st,\"rv_continuous\"))]\n",
    "    dist = dist[0:50] + [\"norm\"]\n",
    "    error = pd.DataFrame(index = dist, columns=[\"error\"])\n",
    "    for d in dist:\n",
    "        params = getattr(st,d).fit(datos)\n",
    "        y_hat = getattr(st,d)(*params).pdf(x)\n",
    "        error.loc[d] = ((y - y_hat)**2).mean()\n",
    "    menor_error = error.sort_values(by=\"error\")\n",
    "    menor_error = menor_error[0:5]\n",
    "    dists_menor_error = menor_error.index\n",
    "    distribucion_menor_error = []\n",
    "    parametros = []\n",
    "    for d in dists_menor_error:\n",
    "        distribucion_menor_error.append(getattr(st,d))\n",
    "        params = getattr(st,d).fit(datos)\n",
    "        y_hat = getattr(st,d)(*params).pdf(x)\n",
    "        parametros.append(params)\n",
    "        plt.plot(x,y_hat,label=d)\n",
    "    plt.legend()\n",
    "    return distribucion_menor_error[0], parametros[0]\n",
    "\n",
    "    \n",
    "#Para KDE:\n",
    "def kde_statsmodels_m(x, x_grid, bandwidth=0.2, **kwargs):\n",
    "    \"\"\"Multivariate Kernel Density Estimation with Statsmodels\"\"\"\n",
    "    kde = KDEMultivariate(x, \n",
    "                          bw='cv_ml',  #bandwidth * np.ones_like(x),\n",
    "                          var_type='c', **kwargs)\n",
    "    return kde.pdf(x_grid)\n",
    "\n",
    "\n",
    "#Prueba de intervalos de confianza\n",
    "def intervalo_confianza(m:\"Media de la distribución original\",sim:\"Variable simulada\",c=\"Intervalo de confianza\"):\n",
    "    \"\"\"\n",
    "    Esta función crea una estimación del intervalo de confianza para la media de la variable simulada, y genera prueba de\n",
    "    hipótesis, además de aceptarla o rechazarla, para una variable aleatoria normal. Imprime el intervalo de confianza para\n",
    "    t-Student, normal, la media calculada de la variable simulada, una media rechazable, el estadístico de student, el valor\n",
    "    de p para la prueba, la región de rechazo y el cálculo del estadístico de prueba teórico (uf!)\n",
    "    \"\"\"\n",
    "    N = len(sim)\n",
    "    i_t = st.t.interval(c, len(sim)-1, loc=np.mean(sim), scale=st.sem(sim))\n",
    "    i_n = st.norm.interval(c, loc=np.mean(sim), scale=st.sem(sim))\n",
    "    media_calc = np.mean(sim)\n",
    "    # prueba de hipotesis para H0= mu=media2\n",
    "    ho = st.ttest_1samp(sim, media_calc)\n",
    "    # Calculamos el estadístico normalizado\n",
    "    t = (np.mean(sim) - media_calc)/(np.std(sim) / np.sqrt(N))\n",
    "    # Cálculo de la región de rechazo\n",
    "    cuantil = st.t(N-1).cdf(c/2)\n",
    "    print('Con una confianza de %2.2f la media estará en el intervalo t,\\n %s     ' %(c,i_t))\n",
    "    print('Con una confianza de %2.2f la media estará en el intervalo normal,\\n %s' %(c,i_n))\n",
    "    print('Media calculada' ,np.mean(sim))\n",
    "    print('La prueba de hipótesis arroja como resultado\\n',ho)\n",
    "    print('Cálculo del estadístico de prueba teórico=', t)\n",
    "    print(f'Región de rechazo = (t<{-cuantil}) U (t>{cuantil})')\n",
    "    if ho.pvalue > c:\n",
    "        print(\"Se acepta la hipótesis nula, la media es igual a\",media_calc,\"con un\",c,\"% de confianza.\")\n",
    "    else:\n",
    "        print(\"Se rechaza la hipótesis nula. La media es diferente de\",media_calc)\n",
    "        \n",
    "# Reducción de varianza, estratificación\n",
    "def estratificacion(B = 1000):\n",
    "    \"\"\"\n",
    "    Función estratificación: \n",
    "    Esta función crea B números aleatorios uniformes estratificados, con el propósito de reducir\n",
    "    la varianza en la función aleatoria creada.\n",
    "    Valor Default B es 1000. Esto quiere decir que se crearán 1000 aleatorios espaciados\n",
    "    uniformemente.\n",
    "    \"\"\"\n",
    "    i = np.arange(0,B)\n",
    "    U = np.random.rand(B)\n",
    "    return (U + i)/B\n",
    "# Generación de variables aleatorias\n",
    "# Transformada inversa\n",
    "def trans_inversa(dist, params, size):\n",
    "    y_hat = dist.rvs(*params,size)\n",
    "    return y_hat\n",
    "\n"
   ]
  },
  {
   "cell_type": "markdown",
   "metadata": {},
   "source": [
    "## <font color='navy'> Selección de Variables Aleatorias"
   ]
  },
  {
   "cell_type": "code",
   "execution_count": 15,
   "metadata": {},
   "outputs": [],
   "source": [
    "#Temperatura, medida en grados celsius\n",
    "#Humedad en porcentaje 0 - 100\n",
    "#Presión, dada en Hectopascales\n",
    "#Velocidad del viento en millas por hora\n",
    "#Dirección del viento en grados (0 - 360)\n",
    "#plt.hist(wind_speed)\n",
    "#Distribución normal para la temperatura, con características\n",
    "temp_mean = temper.mean()\n",
    "temp_sd = temper.std()\n",
    "temp_sim = np.random.normal(loc=temp_mean,scale=temp_sd,size=12000)\n",
    "#Distribución desconocida para la humedad(pedir ayuda), con características   (# está sesgada )\n",
    "hum_mean = humedad.mean()\n",
    "humedad_sim = st.expon(loc=0,scale=hum_mean).rvs(size=10000, random_state=123)\n",
    "#Distribución normal para la presión\n",
    "presion_mean = presion.mean()\n",
    "presion_sd = presion.std()\n",
    "presion_sim = st.norm(loc=presion_mean,scale=presion_sd).rvs(size=10000)\n",
    "#Distribución exponencial para la velocidad del viento, con características\n",
    "wS_mean = wind_speed.mean()\n",
    "wS_sd = wind_speed.std()\n",
    "wS_sim = st.expon(loc=0,scale=wS_mean).rvs(size=45000, random_state=69)"
   ]
  },
  {
   "cell_type": "code",
   "execution_count": 16,
   "metadata": {
    "scrolled": true
   },
   "outputs": [
    {
     "name": "stderr",
     "output_type": "stream",
     "text": [
      "C:\\Users\\dpint\\anaconda3\\lib\\site-packages\\seaborn\\distributions.py:2551: FutureWarning: `distplot` is a deprecated function and will be removed in a future version. Please adapt your code to use either `displot` (a figure-level function with similar flexibility) or `histplot` (an axes-level function for histograms).\n",
      "  warnings.warn(msg, FutureWarning)\n",
      "C:\\Users\\dpint\\anaconda3\\lib\\site-packages\\seaborn\\distributions.py:2551: FutureWarning: `distplot` is a deprecated function and will be removed in a future version. Please adapt your code to use either `displot` (a figure-level function with similar flexibility) or `histplot` (an axes-level function for histograms).\n",
      "  warnings.warn(msg, FutureWarning)\n",
      "C:\\Users\\dpint\\anaconda3\\lib\\site-packages\\seaborn\\distributions.py:2551: FutureWarning: `distplot` is a deprecated function and will be removed in a future version. Please adapt your code to use either `displot` (a figure-level function with similar flexibility) or `histplot` (an axes-level function for histograms).\n",
      "  warnings.warn(msg, FutureWarning)\n",
      "C:\\Users\\dpint\\anaconda3\\lib\\site-packages\\seaborn\\distributions.py:2551: FutureWarning: `distplot` is a deprecated function and will be removed in a future version. Please adapt your code to use either `displot` (a figure-level function with similar flexibility) or `histplot` (an axes-level function for histograms).\n",
      "  warnings.warn(msg, FutureWarning)\n",
      "C:\\Users\\dpint\\anaconda3\\lib\\site-packages\\seaborn\\distributions.py:2551: FutureWarning: `distplot` is a deprecated function and will be removed in a future version. Please adapt your code to use either `displot` (a figure-level function with similar flexibility) or `histplot` (an axes-level function for histograms).\n",
      "  warnings.warn(msg, FutureWarning)\n"
     ]
    },
    {
     "data": {
      "image/png": "[encoded data removed]",
      "text/plain": [
       "<Figure size 720x720 with 5 Axes>"
      ]
     },
     "metadata": {
      "needs_background": "light"
     },
     "output_type": "display_data"
    }
   ],
   "source": [
    "#Gráfica de distribución usando funciones de python:\n",
    "plt.figure(figsize=(10,10))\n",
    "plt.subplot(3,3,1)\n",
    "sns.distplot(presion,color='darkviolet')\n",
    "plt.title('Distribución de presión')\n",
    "plt.subplot(3,3,2)\n",
    "sns.distplot(temper,color='orange')\n",
    "plt.title('Distribución de temperatura')\n",
    "plt.subplot(3,3,3)\n",
    "sns.distplot(humedad,color='lightcoral')\n",
    "plt.title('Distribución de húmedad')\n",
    "plt.subplot(3,3,4)\n",
    "sns.distplot(wind_speed,color='limegreen')\n",
    "plt.title('Distribución de velocidad del viento')\n",
    "plt.subplot(3,3,5)\n",
    "sns.distplot(wind_dir,color='fuchsia')\n",
    "plt.title('Distribución de dirección del viento')\n",
    "plt.tight_layout()\n",
    "plt.show()\n",
    "\n",
    "\n",
    "import warnings\n",
    "warnings.filterwarnings(\"ignore\")\n",
    "warnings.simplefilter(action='ignore', category=FutureWarning)"
   ]
  },
  {
   "cell_type": "code",
   "execution_count": 17,
   "metadata": {},
   "outputs": [],
   "source": [
    "#Realizando pruebas de intervalo de confianza para la media de las distribuciones normales simuladas\n",
    "\n",
    "    "
   ]
  },
  {
   "cell_type": "code",
   "execution_count": 18,
   "metadata": {},
   "outputs": [
    {
     "name": "stdout",
     "output_type": "stream",
     "text": [
      "Con una confianza de 0.95 la media estará en el intervalo t,\n",
      " (11.105982515305902, 11.339163993714395)     \n",
      "Con una confianza de 0.95 la media estará en el intervalo normal,\n",
      " (11.105994276042075, 11.339152232978222)\n",
      "Media calculada 11.222573254510149\n",
      "La prueba de hipótesis arroja como resultado\n",
      " Ttest_1sampResult(statistic=0.0, pvalue=1.0)\n",
      "Cálculo del estadístico de prueba teórico= 0.0\n",
      "Región de rechazo = (t<-0.6826021906405915) U (t>0.6826021906405915)\n",
      "Se acepta la hipótesis nula, la media es igual a 11.222573254510149 con un 0.95 % de confianza.\n"
     ]
    }
   ],
   "source": [
    "intervalo_confianza(temp_mean,temp_sim,.95)"
   ]
  },
  {
   "cell_type": "markdown",
   "metadata": {},
   "source": [
    "## <font color='navy'> Data Frame de variables:"
   ]
  },
  {
   "cell_type": "markdown",
   "metadata": {},
   "source": [
    "Separamos los datos por estaciones de manera que primavera corresponde al número 1, verano al número 2, otoño al número 3 e invierno al número 4 ya que teniendo esos datos de manera cualitativa es más sencillo hacer el análisis y gráficado por estación y en consecuencia ayuda a tener un pronóstico más preciso."
   ]
  },
  {
   "cell_type": "code",
   "execution_count": 19,
   "metadata": {},
   "outputs": [
    {
     "data": {
      "text/html": [
       "<div>\n",
       "<style scoped>\n",
       "    .dataframe tbody tr th:only-of-type {\n",
       "        vertical-align: middle;\n",
       "    }\n",
       "\n",
       "    .dataframe tbody tr th {\n",
       "        vertical-align: top;\n",
       "    }\n",
       "\n",
       "    .dataframe thead th {\n",
       "        text-align: right;\n",
       "    }\n",
       "</style>\n",
       "<table border=\"1\" class=\"dataframe\">\n",
       "  <thead>\n",
       "    <tr style=\"text-align: right;\">\n",
       "      <th></th>\n",
       "      <th>Humidity</th>\n",
       "      <th>Temperature</th>\n",
       "      <th>Pressure</th>\n",
       "      <th>Wind_speed</th>\n",
       "      <th>date</th>\n",
       "      <th>season</th>\n",
       "    </tr>\n",
       "  </thead>\n",
       "  <tbody>\n",
       "    <tr>\n",
       "      <th>1784</th>\n",
       "      <td>70.0</td>\n",
       "      <td>6.160000</td>\n",
       "      <td>1015.0</td>\n",
       "      <td>4.0</td>\n",
       "      <td>2012-12-14</td>\n",
       "      <td>4</td>\n",
       "    </tr>\n",
       "    <tr>\n",
       "      <th>28875</th>\n",
       "      <td>95.0</td>\n",
       "      <td>6.476615</td>\n",
       "      <td>1007.0</td>\n",
       "      <td>2.0</td>\n",
       "      <td>2016-01-17</td>\n",
       "      <td>4</td>\n",
       "    </tr>\n",
       "    <tr>\n",
       "      <th>7287</th>\n",
       "      <td>44.0</td>\n",
       "      <td>22.310000</td>\n",
       "      <td>1041.0</td>\n",
       "      <td>0.0</td>\n",
       "      <td>2013-08-01</td>\n",
       "      <td>2</td>\n",
       "    </tr>\n",
       "  </tbody>\n",
       "</table>\n",
       "</div>"
      ],
      "text/plain": [
       "       Humidity  Temperature  Pressure  Wind_speed        date  season\n",
       "1784       70.0     6.160000    1015.0         4.0  2012-12-14       4\n",
       "28875      95.0     6.476615    1007.0         2.0  2016-01-17       4\n",
       "7287       44.0    22.310000    1041.0         0.0  2013-08-01       2"
      ]
     },
     "execution_count": 19,
     "metadata": {},
     "output_type": "execute_result"
    }
   ],
   "source": [
    "dataframe = pd.DataFrame(columns=[\"Datetime\",'Humidity','Temperature','Pressure',\"Wind_speed\"], dtype='float')\n",
    "dataframe[\"Datetime\"]= data2.datetime\n",
    "dataframe[\"Humidity\"]=humedad\n",
    "dataframe[\"Temperature\"]=temper\n",
    "dataframe[\"Pressure\"]=presion\n",
    "dataframe[\"Wind_speed\"]=wind_speed\n",
    "\n",
    "time=pd.DatetimeIndex(dataframe['Datetime'])\n",
    "dataframe['date']=time.date\n",
    "dataframe['year']=time.year\n",
    "dataframe['month']=time.month\n",
    "dataframe['day']=time.day\n",
    "dataframe['time']=time.time\n",
    "dataframe[\"season\"]=dataframe[\"month\"]\n",
    "    \n",
    "               \n",
    "                       \n",
    "#tabla2.sample(2)\n",
    "\n",
    "primavera = lambda x: True if (x == 3 or x == 4 or x == 5) else False\n",
    "verano = lambda x: True if (x == 6 or x == 7 or x == 8) else False\n",
    "otono = lambda x: True if (x == 9 or x == 10 or x == 11) else False\n",
    "invierno = lambda x: True if (x == 1 or x == 2 or x == 12) else False\n",
    "temp = 0\n",
    "for i in range(len(dataframe[\"month\"])):\n",
    "    temp = dataframe[\"month\"][i]\n",
    "    if primavera(temp):\n",
    "        dataframe[\"season\"][i] = 1\n",
    "    elif verano(temp):\n",
    "        dataframe[\"season\"][i] = 2\n",
    "    elif otono(temp):\n",
    "        dataframe[\"season\"][i] = 3\n",
    "    elif invierno(temp):\n",
    "        dataframe[\"season\"][i] = 4\n",
    "#dataframe.sample(8)\n",
    "dataframe.drop('Datetime', inplace=True,axis=1)\n",
    "dataframe.drop('year', inplace=True,axis=1)\n",
    "dataframe.drop('month', inplace=True,axis=1)\n",
    "dataframe.drop('day', inplace=True,axis=1)\n",
    "dataframe.drop('time', inplace=True,axis=1)\n",
    "dataframe.sample(3)"
   ]
  },
  {
   "cell_type": "code",
   "execution_count": 20,
   "metadata": {},
   "outputs": [
    {
     "data": {
      "text/html": [
       "<div>\n",
       "<style scoped>\n",
       "    .dataframe tbody tr th:only-of-type {\n",
       "        vertical-align: middle;\n",
       "    }\n",
       "\n",
       "    .dataframe tbody tr th {\n",
       "        vertical-align: top;\n",
       "    }\n",
       "\n",
       "    .dataframe thead th {\n",
       "        text-align: right;\n",
       "    }\n",
       "</style>\n",
       "<table border=\"1\" class=\"dataframe\">\n",
       "  <thead>\n",
       "    <tr style=\"text-align: right;\">\n",
       "      <th></th>\n",
       "      <th>Humidity</th>\n",
       "      <th>Temperature</th>\n",
       "      <th>Pressure</th>\n",
       "      <th>Wind_speed</th>\n",
       "      <th>season</th>\n",
       "    </tr>\n",
       "  </thead>\n",
       "  <tbody>\n",
       "    <tr>\n",
       "      <th>count</th>\n",
       "      <td>44964.000000</td>\n",
       "      <td>45250.000000</td>\n",
       "      <td>45240.000000</td>\n",
       "      <td>45252.000000</td>\n",
       "      <td>45253.000000</td>\n",
       "    </tr>\n",
       "    <tr>\n",
       "      <th>mean</th>\n",
       "      <td>77.159038</td>\n",
       "      <td>11.259626</td>\n",
       "      <td>1021.001216</td>\n",
       "      <td>2.118116</td>\n",
       "      <td>2.507303</td>\n",
       "    </tr>\n",
       "    <tr>\n",
       "      <th>std</th>\n",
       "      <td>18.147464</td>\n",
       "      <td>6.547986</td>\n",
       "      <td>9.737187</td>\n",
       "      <td>1.629988</td>\n",
       "      <td>1.102848</td>\n",
       "    </tr>\n",
       "    <tr>\n",
       "      <th>min</th>\n",
       "      <td>13.000000</td>\n",
       "      <td>-9.370000</td>\n",
       "      <td>980.000000</td>\n",
       "      <td>0.000000</td>\n",
       "      <td>1.000000</td>\n",
       "    </tr>\n",
       "    <tr>\n",
       "      <th>25%</th>\n",
       "      <td>66.000000</td>\n",
       "      <td>6.680000</td>\n",
       "      <td>1015.000000</td>\n",
       "      <td>1.000000</td>\n",
       "      <td>2.000000</td>\n",
       "    </tr>\n",
       "    <tr>\n",
       "      <th>50%</th>\n",
       "      <td>81.000000</td>\n",
       "      <td>10.790000</td>\n",
       "      <td>1020.000000</td>\n",
       "      <td>2.000000</td>\n",
       "      <td>3.000000</td>\n",
       "    </tr>\n",
       "    <tr>\n",
       "      <th>75%</th>\n",
       "      <td>93.000000</td>\n",
       "      <td>15.380000</td>\n",
       "      <td>1027.000000</td>\n",
       "      <td>3.000000</td>\n",
       "      <td>3.000000</td>\n",
       "    </tr>\n",
       "    <tr>\n",
       "      <th>max</th>\n",
       "      <td>100.000000</td>\n",
       "      <td>34.150000</td>\n",
       "      <td>1058.000000</td>\n",
       "      <td>24.000000</td>\n",
       "      <td>4.000000</td>\n",
       "    </tr>\n",
       "  </tbody>\n",
       "</table>\n",
       "</div>"
      ],
      "text/plain": [
       "           Humidity   Temperature      Pressure    Wind_speed        season\n",
       "count  44964.000000  45250.000000  45240.000000  45252.000000  45253.000000\n",
       "mean      77.159038     11.259626   1021.001216      2.118116      2.507303\n",
       "std       18.147464      6.547986      9.737187      1.629988      1.102848\n",
       "min       13.000000     -9.370000    980.000000      0.000000      1.000000\n",
       "25%       66.000000      6.680000   1015.000000      1.000000      2.000000\n",
       "50%       81.000000     10.790000   1020.000000      2.000000      3.000000\n",
       "75%       93.000000     15.380000   1027.000000      3.000000      3.000000\n",
       "max      100.000000     34.150000   1058.000000     24.000000      4.000000"
      ]
     },
     "execution_count": 20,
     "metadata": {},
     "output_type": "execute_result"
    }
   ],
   "source": [
    "dataframe.describe()"
   ]
  },
  {
   "cell_type": "markdown",
   "metadata": {},
   "source": [
    "## <font color='navy'> Correlación de variables:"
   ]
  },
  {
   "cell_type": "code",
   "execution_count": 21,
   "metadata": {},
   "outputs": [
    {
     "data": {
      "text/html": [
       "<div>\n",
       "<style scoped>\n",
       "    .dataframe tbody tr th:only-of-type {\n",
       "        vertical-align: middle;\n",
       "    }\n",
       "\n",
       "    .dataframe tbody tr th {\n",
       "        vertical-align: top;\n",
       "    }\n",
       "\n",
       "    .dataframe thead th {\n",
       "        text-align: right;\n",
       "    }\n",
       "</style>\n",
       "<table border=\"1\" class=\"dataframe\">\n",
       "  <thead>\n",
       "    <tr style=\"text-align: right;\">\n",
       "      <th></th>\n",
       "      <th>Humidity</th>\n",
       "      <th>Temperature</th>\n",
       "      <th>Pressure</th>\n",
       "      <th>Wind_speed</th>\n",
       "      <th>season</th>\n",
       "    </tr>\n",
       "  </thead>\n",
       "  <tbody>\n",
       "    <tr>\n",
       "      <th>Humidity</th>\n",
       "      <td>1.000000</td>\n",
       "      <td>-0.566657</td>\n",
       "      <td>-0.068157</td>\n",
       "      <td>-0.033302</td>\n",
       "      <td>0.286764</td>\n",
       "    </tr>\n",
       "    <tr>\n",
       "      <th>Temperature</th>\n",
       "      <td>-0.566657</td>\n",
       "      <td>1.000000</td>\n",
       "      <td>-0.077830</td>\n",
       "      <td>0.063496</td>\n",
       "      <td>-0.407793</td>\n",
       "    </tr>\n",
       "    <tr>\n",
       "      <th>Pressure</th>\n",
       "      <td>-0.068157</td>\n",
       "      <td>-0.077830</td>\n",
       "      <td>1.000000</td>\n",
       "      <td>-0.285729</td>\n",
       "      <td>0.011887</td>\n",
       "    </tr>\n",
       "    <tr>\n",
       "      <th>Wind_speed</th>\n",
       "      <td>-0.033302</td>\n",
       "      <td>0.063496</td>\n",
       "      <td>-0.285729</td>\n",
       "      <td>1.000000</td>\n",
       "      <td>0.006337</td>\n",
       "    </tr>\n",
       "    <tr>\n",
       "      <th>season</th>\n",
       "      <td>0.286764</td>\n",
       "      <td>-0.407793</td>\n",
       "      <td>0.011887</td>\n",
       "      <td>0.006337</td>\n",
       "      <td>1.000000</td>\n",
       "    </tr>\n",
       "  </tbody>\n",
       "</table>\n",
       "</div>"
      ],
      "text/plain": [
       "             Humidity  Temperature  Pressure  Wind_speed    season\n",
       "Humidity     1.000000    -0.566657 -0.068157   -0.033302  0.286764\n",
       "Temperature -0.566657     1.000000 -0.077830    0.063496 -0.407793\n",
       "Pressure    -0.068157    -0.077830  1.000000   -0.285729  0.011887\n",
       "Wind_speed  -0.033302     0.063496 -0.285729    1.000000  0.006337\n",
       "season       0.286764    -0.407793  0.011887    0.006337  1.000000"
      ]
     },
     "execution_count": 21,
     "metadata": {},
     "output_type": "execute_result"
    }
   ],
   "source": [
    "#Crear data frame de variables cuantitativas para Seattle:\n",
    "tabla = pd.DataFrame(columns=['Humidity','Temperature','Pressure',\"Wind_speed\"], dtype='float')\n",
    "tabla[\"Humidity\"]=humedad\n",
    "tabla[\"Temperature\"]=temper\n",
    "tabla[\"Pressure\"]=presion\n",
    "tabla[\"Wind_speed\"]=wind_speed\n",
    "#tabla.sample(3)\n",
    "#Método de correlación de Pearson:\n",
    "dataframe.corr(method=\"pearson\")"
   ]
  },
  {
   "cell_type": "markdown",
   "metadata": {},
   "source": [
    "Escribir conclusión sobre las correlaciones y la lógica a usar en el diagrama:\n",
    "    \n",
    "    .f\n",
    "    \n",
    "    .f\n",
    "    \n",
    "    .f\n",
    "    \n",
    "    .f\n",
    "    \n",
    "    .f"
   ]
  },
  {
   "cell_type": "markdown",
   "metadata": {},
   "source": [
    "## <font color='navy'> Boxplot:"
   ]
  },
  {
   "cell_type": "code",
   "execution_count": 22,
   "metadata": {},
   "outputs": [
    {
     "data": {
      "image/png": "[encoded data removed]",
      "text/plain": [
       "<Figure size 720x720 with 4 Axes>"
      ]
     },
     "metadata": {
      "needs_background": "light"
     },
     "output_type": "display_data"
    }
   ],
   "source": [
    "#Boxplot de todos los datos:\n",
    "#Boxplot por estación:\n",
    "plt.figure(figsize=(10,10))\n",
    "plt.subplot(3,3,1)\n",
    "sns.boxplot(y='Temperature',data=dataframe)\n",
    "plt.title('Temperatura por estación del año')\n",
    "plt.subplot(3,3,2)\n",
    "sns.boxplot(y='Pressure',data=dataframe)\n",
    "plt.title('Presión por estación del año')\n",
    "plt.subplot(3,3,3)\n",
    "sns.boxplot(y='Humidity',data=dataframe)\n",
    "plt.title('Húmedad por estación del año')\n",
    "plt.subplot(3,3,4)\n",
    "sns.boxplot(y='Wind_speed',data=dataframe)\n",
    "plt.title('Velocidad por estación del año')\n",
    "plt.tight_layout()\n",
    "plt.show()"
   ]
  },
  {
   "cell_type": "code",
   "execution_count": 23,
   "metadata": {},
   "outputs": [
    {
     "data": {
      "image/png": "[encoded data removed]",
      "text/plain": [
       "<Figure size 720x720 with 4 Axes>"
      ]
     },
     "metadata": {
      "needs_background": "light"
     },
     "output_type": "display_data"
    }
   ],
   "source": [
    "#Boxplot por estación:\n",
    "plt.figure(figsize=(10,10))\n",
    "plt.subplot(3,3,1)\n",
    "sns.boxplot(x=\"season\",y='Temperature',data=dataframe)\n",
    "plt.title('Temperatura por estación del año')\n",
    "plt.subplot(3,3,2)\n",
    "sns.boxplot(x='season',y='Pressure',data=dataframe)\n",
    "plt.title('Presión por estación del año')\n",
    "plt.subplot(3,3,3)\n",
    "sns.boxplot(x='season',y='Humidity',data=dataframe)\n",
    "plt.title('Húmedad por estación del año')\n",
    "plt.subplot(3,3,4)\n",
    "sns.boxplot(x='season',y='Wind_speed',data=dataframe)\n",
    "plt.title('Velocidad por estación del año')\n",
    "plt.tight_layout()\n",
    "plt.show()"
   ]
  },
  {
   "cell_type": "markdown",
   "metadata": {},
   "source": [
    "Escribir conclusión sobre las gráficas:\n",
    "    \n",
    "    .f\n",
    "    \n",
    "    .f\n",
    "    \n",
    "    .f\n",
    "    \n",
    "    .f\n",
    "    \n",
    "    .f"
   ]
  },
  {
   "cell_type": "markdown",
   "metadata": {},
   "source": [
    "## <font color='red'>  Nodo 1: Humedad"
   ]
  },
  {
   "cell_type": "code",
   "execution_count": 24,
   "metadata": {},
   "outputs": [],
   "source": [
    "#Data frame con los datos de Humedad, el número de veces que existe cada uno, su probabilidad de ocurrencia y la probabilidad acumulada:\n",
    "df_humedad = pd.DataFrame(columns=[\"Humedad\",\"Número_veces\",\"Probabilidad\",\"Prob_acumulada\"], dtype='float')\n",
    "df_humedad[\"Humedad\"]= np.unique(humedad, return_counts=True)[0]\n",
    "df_humedad[\"Número_veces\"]=np.unique(humedad, return_counts=True)[1]\n",
    "df_humedad[\"Probabilidad\"]=df_humedad['Número_veces']/len(humedad)\n",
    "df_humedad[\"Prob_acumulada\"]=df_humedad.Probabilidad.cumsum()\n",
    "#df_humedad.sample(10)"
   ]
  },
  {
   "cell_type": "code",
   "execution_count": 25,
   "metadata": {},
   "outputs": [
    {
     "data": {
      "image/png": "[encoded data removed]",
      "text/plain": [
       "<Figure size 432x288 with 1 Axes>"
      ]
     },
     "metadata": {
      "needs_background": "light"
     },
     "output_type": "display_data"
    }
   ],
   "source": [
    "#Histograma de probabilidades:\n",
    "plt.bar(df_humedad.Humedad, df_humedad.Probabilidad, label='Histograma de probabilidad')\n",
    "plt.xlabel('Humedad medida en pascales')\n",
    "plt.ylabel('Probabilidad')\n",
    "plt.title('Histograma de probabilidades humedad para Seattle')\n",
    "plt.legend()\n",
    "plt.show()"
   ]
  },
  {
   "cell_type": "markdown",
   "metadata": {},
   "source": [
    "- No parece adaptarse a una distribución normal, aunque podría ser asimétrica hacia la izquierda."
   ]
  },
  {
   "cell_type": "markdown",
   "metadata": {},
   "source": [
    "### Funciones de ajuste de distribución:"
   ]
  },
  {
   "cell_type": "markdown",
   "metadata": {},
   "source": [
    "### Kernel density estimation:"
   ]
  },
  {
   "cell_type": "code",
   "execution_count": 27,
   "metadata": {
    "scrolled": true
   },
   "outputs": [
    {
     "data": {
      "image/png": "[encoded data removed]",
      "text/plain": [
       "<Figure size 432x288 with 1 Axes>"
      ]
     },
     "metadata": {
      "needs_background": "light"
     },
     "output_type": "display_data"
    }
   ],
   "source": [
    "space1=np.arange(10,100)\n",
    "kde1 = kde_statsmodels_m(humedad.sample(100),space1,bandwidth=0.5)\n",
    "plt.plot(space1, kde1, label='Función de masa de prob. estimada', color='y', linewidth=5)\n",
    "plt.bar(df_humedad.Humedad, df_humedad.Probabilidad, label='Histograma de probabilidad')\n",
    "plt.xlabel('Humedad en porcentaje')\n",
    "plt.ylabel('Probabilidad')\n",
    "plt.title(\"Histograma y KDE\")\n",
    "plt.legend()\n",
    "plt.show()"
   ]
  },
  {
   "cell_type": "markdown",
   "metadata": {},
   "source": [
    "### KDE con paquete seaborn:"
   ]
  },
  {
   "cell_type": "code",
   "execution_count": 28,
   "metadata": {
    "scrolled": true
   },
   "outputs": [
    {
     "data": {
      "text/plain": [
       "<AxesSubplot:xlabel='Seattle', ylabel='Density'>"
      ]
     },
     "execution_count": 28,
     "metadata": {},
     "output_type": "execute_result"
    },
    {
     "data": {
      "image/png": "[encoded data removed]",
      "text/plain": [
       "<Figure size 432x288 with 1 Axes>"
      ]
     },
     "metadata": {
      "needs_background": "light"
     },
     "output_type": "display_data"
    }
   ],
   "source": [
    "sns.histplot(data=humedad, stat='density', kde=True, kde_kws={'bw_method': .2}, color='r', bins=30)"
   ]
  },
  {
   "cell_type": "markdown",
   "metadata": {},
   "source": [
    "### Método de la transformada inversa:"
   ]
  },
  {
   "cell_type": "code",
   "execution_count": 29,
   "metadata": {},
   "outputs": [],
   "source": [
    "#Generar números pseaudoaleatorios:\n",
    "#n_a = np.random.rand()"
   ]
  },
  {
   "cell_type": "markdown",
   "metadata": {},
   "source": [
    "## <font color='red'>  Nodo 2: Presión"
   ]
  },
  {
   "cell_type": "code",
   "execution_count": 30,
   "metadata": {},
   "outputs": [],
   "source": [
    "#Data frame con los datos de presión, el número de veces que existe cada uno y su probabilidad de ocurrencia:\n",
    "df_presion = pd.DataFrame(columns=[\"Presion\",\"Número_veces\",\"Probabilidad\",\"Prob_acumulada\"], dtype='float')\n",
    "df_presion[\"Presion\"]= np.unique(presion, return_counts=True)[0]\n",
    "df_presion[\"Número_veces\"]=np.unique(presion, return_counts=True)[1]\n",
    "df_presion[\"Probabilidad\"]=df_presion['Número_veces']/len(presion)\n",
    "df_presion[\"Prob_acumulada\"]=df_presion.Probabilidad.cumsum()\n",
    "#df_presion.sample(10)"
   ]
  },
  {
   "cell_type": "code",
   "execution_count": 31,
   "metadata": {
    "scrolled": true
   },
   "outputs": [
    {
     "data": {
      "image/png": "[encoded data removed]",
      "text/plain": [
       "<Figure size 432x288 with 1 Axes>"
      ]
     },
     "metadata": {
      "needs_background": "light"
     },
     "output_type": "display_data"
    }
   ],
   "source": [
    "#Histograma de probabilidades:\n",
    "plt.bar(df_presion.Presion, df_presion.Probabilidad, label='Histograma de probabilidad')\n",
    "plt.xlabel('Presion en Hectopascales')\n",
    "plt.ylabel('Probabilidad')\n",
    "plt.title('Histograma de probabilidades Presión Seattle')\n",
    "plt.legend()\n",
    "plt.show()"
   ]
  },
  {
   "cell_type": "markdown",
   "metadata": {},
   "source": [
    "- De la misma manera que el caso anterior, el histograma de probabilidad se asemeja a una distribución normal con curtosis porque tiene un pico muy pronunciado."
   ]
  },
  {
   "cell_type": "markdown",
   "metadata": {},
   "source": [
    "### Funciones de ajuste de distribución:"
   ]
  },
  {
   "cell_type": "markdown",
   "metadata": {},
   "source": [
    "### Kernel density estimation:"
   ]
  },
  {
   "cell_type": "code",
   "execution_count": 33,
   "metadata": {
    "scrolled": true
   },
   "outputs": [
    {
     "data": {
      "image/png": "[encoded data removed]",
      "text/plain": [
       "<Figure size 432x288 with 1 Axes>"
      ]
     },
     "metadata": {
      "needs_background": "light"
     },
     "output_type": "display_data"
    }
   ],
   "source": [
    "space2=np.arange(950,1100)\n",
    "kde2 = kde_statsmodels_m(presion.sample(1000),space2,bandwidth=0.5)\n",
    "plt.plot(space2, kde2, label='Función de masa de prob. estimada', color='y', linewidth=5)\n",
    "plt.bar(df_presion.Presion, df_presion.Probabilidad, label='Histograma de probabilidad')\n",
    "plt.xlabel('Presión en Hectopascales')\n",
    "plt.ylabel('Probabilidad')\n",
    "plt.title(\"Histograma y KDE\")\n",
    "plt.legend()\n",
    "plt.show()"
   ]
  },
  {
   "cell_type": "markdown",
   "metadata": {},
   "source": [
    "- En esta gráfica podemos asociar la distribución de probabilidad con el tipo leptocurtica ya que existe una gran concentración de los valores en torno a su media"
   ]
  },
  {
   "cell_type": "markdown",
   "metadata": {},
   "source": [
    "### KDE con paquete seaborn:"
   ]
  },
  {
   "cell_type": "code",
   "execution_count": 34,
   "metadata": {},
   "outputs": [
    {
     "data": {
      "text/plain": [
       "<AxesSubplot:xlabel='Seattle', ylabel='Density'>"
      ]
     },
     "execution_count": 34,
     "metadata": {},
     "output_type": "execute_result"
    },
    {
     "data": {
      "image/png": "[encoded data removed]",
      "text/plain": [
       "<Figure size 432x288 with 1 Axes>"
      ]
     },
     "metadata": {
      "needs_background": "light"
     },
     "output_type": "display_data"
    }
   ],
   "source": [
    "sns.histplot(data=presion, stat='density', kde=True, kde_kws={'bw_method': .2}, color='r', bins=30)"
   ]
  },
  {
   "cell_type": "markdown",
   "metadata": {},
   "source": [
    "## <font color='red'>  Nodo 3: Temperatura"
   ]
  },
  {
   "cell_type": "code",
   "execution_count": 35,
   "metadata": {},
   "outputs": [],
   "source": [
    "#Data frame con los datos de Temperatura, el número de veces que existe cada uno y su probabilidad de ocurrencia:\n",
    "df_temper = pd.DataFrame(columns=[\"Temperaturas\",\"Número_veces\",\"Probabilidad\",\"Prob_acumulada\"], dtype='float')\n",
    "df_temper[\"Temperaturas\"]= np.unique(temper, return_counts=True)[0]\n",
    "df_temper[\"Número_veces\"]=np.unique(temper, return_counts=True)[1]\n",
    "df_temper[\"Probabilidad\"]=df_temper['Número_veces']/len(temper)\n",
    "df_temper[\"Prob_acumulada\"]=df_temper.Probabilidad.cumsum()\n",
    "#df_temper.sample(100)"
   ]
  },
  {
   "cell_type": "code",
   "execution_count": 36,
   "metadata": {},
   "outputs": [
    {
     "data": {
      "image/png": "[encoded data removed]",
      "text/plain": [
       "<Figure size 432x288 with 1 Axes>"
      ]
     },
     "metadata": {
      "needs_background": "light"
     },
     "output_type": "display_data"
    }
   ],
   "source": [
    "#Histograma de probabilidades:\n",
    "plt.bar(df_temper.Temperaturas, df_temper.Probabilidad, label='Histograma de probabilidad')\n",
    "plt.xlabel('Temperatura en Celsius')\n",
    "plt.ylabel('Probabilidad')\n",
    "plt.title('Histograma de probabilidades Temperatura Seattle')\n",
    "plt.legend()\n",
    "plt.show()"
   ]
  },
  {
   "cell_type": "markdown",
   "metadata": {},
   "source": [
    "- Parece poder adaptarse a una distribución con curtosis mesocúrtica. "
   ]
  },
  {
   "cell_type": "markdown",
   "metadata": {},
   "source": [
    "### Funciones de ajuste de distribución:"
   ]
  },
  {
   "cell_type": "markdown",
   "metadata": {},
   "source": [
    "### Kernel density estimation:"
   ]
  },
  {
   "cell_type": "code",
   "execution_count": 38,
   "metadata": {
    "scrolled": true
   },
   "outputs": [
    {
     "data": {
      "image/png": "[encoded data removed]",
      "text/plain": [
       "<Figure size 432x288 with 1 Axes>"
      ]
     },
     "metadata": {
      "needs_background": "light"
     },
     "output_type": "display_data"
    }
   ],
   "source": [
    "space3=np.arange(-10,30)\n",
    "kde3 = kde_statsmodels_m(temper.sample(100),space3,bandwidth=0.5)\n",
    "plt.plot(space3, kde3, label='Función de masa de prob. estimada', color='y', linewidth=5)\n",
    "plt.bar(df_temper.Temperaturas, df_temper.Probabilidad, label='Histograma de probabilidad')\n",
    "plt.xlabel('Temperatura en Celsius')\n",
    "plt.ylabel('Probabilidad')\n",
    "plt.title(\"Histograma y KDE\")\n",
    "plt.legend()\n",
    "plt.show()"
   ]
  },
  {
   "cell_type": "markdown",
   "metadata": {},
   "source": [
    "### KDE con paquete seaborn:"
   ]
  },
  {
   "cell_type": "code",
   "execution_count": 39,
   "metadata": {
    "scrolled": false
   },
   "outputs": [
    {
     "data": {
      "text/plain": [
       "<AxesSubplot:xlabel='Seattle', ylabel='Density'>"
      ]
     },
     "execution_count": 39,
     "metadata": {},
     "output_type": "execute_result"
    },
    {
     "data": {
      "image/png": "[encoded data removed]",
      "text/plain": [
       "<Figure size 432x288 with 1 Axes>"
      ]
     },
     "metadata": {
      "needs_background": "light"
     },
     "output_type": "display_data"
    }
   ],
   "source": [
    "sns.histplot(data=temper, stat='density', kde=True, kde_kws={'bw_method': .2}, color='r', bins=30)"
   ]
  },
  {
   "cell_type": "markdown",
   "metadata": {},
   "source": [
    "### 1.7 Visualización de resultados de simulación.\n",
    "> Se deben simular al menos 4  \"nodos\" o \"escenarios\" en tu problema. Para la segunda entrega debes haber elaborado un programa que simule dos de ellos, los primeros dos de tu diagrama.\n",
    "> Para la entrega final deben de tener los 4 nodos con todas sus simulaciones.\n",
    "\n"
   ]
  },
  {
   "cell_type": "markdown",
   "metadata": {},
   "source": [
    "\n",
    "### 1.6 Conclusiones.\n",
    "> Mucho cuidado, las conclusiones no son cualquier cosa. Se debe concluir respecto a los objetivos planteados de acuerdo a los resultados obtenidos."
   ]
  },
  {
   "cell_type": "markdown",
   "metadata": {},
   "source": [
    "\n",
    "### 1.7 Referencias.\n",
    "> - \"USDA Plant Hardiness Zone Map\". United States Department of Agriculture. Archived from the original on February 27, 2014. \n",
    "> - Met, Duncan Clark y la oficina. «How will climate change affect rainfall?» The Guardian, 15 de Diciembre de 2011: 107.\n",
    "Clima y precipitaciones en Seattle"
   ]
  },
  {
   "cell_type": "markdown",
   "metadata": {},
   "source": [
    "<script>\n",
    "  $(document).ready(function(){\n",
    "    $('div.prompt').hide();\n",
    "    $('div.back-to-top').hide();\n",
    "    $('nav#menubar').hide();\n",
    "    $('.breadcrumb').hide();\n",
    "    $('.hidden-print').hide();\n",
    "  });\n",
    "</script>\n",
    "\n",
    "<footer id=\"attribution\" style=\"float:right; color:#808080; background:#fff;\">\n",
    "Created with Jupyter by Ivette Landaverde and Diego Pintor.\n",
    "</footer>"
   ]
  }
 ],
 "metadata": {
  "kernelspec": {
   "display_name": "Python 3",
   "language": "python",
   "name": "python3"
  },
  "language_info": {
   "codemirror_mode": {
    "name": "ipython",
    "version": 3
   },
   "file_extension": ".py",
   "mimetype": "text/x-python",
   "name": "python",
   "nbconvert_exporter": "python",
   "pygments_lexer": "ipython3",
   "version": "3.8.5"
  }
 },
 "nbformat": 4,
 "nbformat_minor": 2
}
