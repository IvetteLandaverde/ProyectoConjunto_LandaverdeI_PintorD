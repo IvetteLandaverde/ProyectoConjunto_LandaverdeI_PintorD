{
 "cells": [
  {
   "cell_type": "markdown",
   "metadata": {},
   "source": [
    "<img style=\"float: left; margin: 30px 15px 15px 15px;\" src=\"https://pngimage.net/wp-content/uploads/2018/06/logo-iteso-png-5.png\" width=\"300\" height=\"500\" /> \n",
    "    \n",
    "    \n",
    "### <font color='navy'> Simulación de procesos financieros. \n",
    "\n",
    "**Nombres:** Ivette Landaverde Mercado, Diego Pintor Ochoa.\n",
    "\n",
    "**Fecha:** XX de marzo del 2021.\n",
    "\n",
    "**Expediente** : if722626, if726622.\n",
    "**Profesor:** Oscar David Jaramillo Zuluaga.\n",
    "    \n",
    "**Link Github**: https://github.com/PintorOD1997/ProyectoConjunto_LandaverdeI_PintorD\n",
    "\n",
    "# Proyecto TEMA-2"
   ]
  },
  {
   "cell_type": "markdown",
   "metadata": {},
   "source": [
    "### 1.1 Título del trabajo:\n",
    "\n",
    "\n",
    "\n",
    "<div style=\"text-align:center\"><span style=\"color:#154898; font-family: 'Bebas Neue'; font-size: 4em;\">  Febrero loco y marzo otro poco </span></div> </p>\n",
    "\n"
   ]
  },
  {
   "cell_type": "markdown",
   "metadata": {},
   "source": [
    "<img style=\"float: center; margin: 0px 0px 15px 230px;\" src=\"https://di-uploads-pod14.dealerinspire.com/toyotaoforlando/uploads/2019/08/driving-in-the-rain-1024x683.jpg\" width=\"500px\" height=\"300px\" />"
   ]
  },
  {
   "cell_type": "markdown",
   "metadata": {},
   "source": [
    "\n",
    "## <font color='navy'> 1.2 Objetivos.\n",
    "#### 1.1 Objetivo general:\n",
    "    \n",
    "- El objetivo de este proyecto es simular el comportamiento de los patrones climáticos de las cuatro estaciones del año a través de las siguientes variables: húmedad, presión, temperatura, presión del viento y velocidad del viento para posteriormente calcular la probabilidad de lluvia en Seattle.\n",
    "    \n",
    "#### 1.2 Objetivos específicos:\n",
    "- Definir estaciones del año, en las que se puedan encuadrar patrones climáticos para la ciudad de Seattle. \n",
    "- Correlacionar la lluvia con otros indicadores como la humedad, dirección del viento, velocidad del viento y temperatura.\n",
    "- Simular escenarios para cada una de las cuatro estaciones del año.\n",
    "- Enunciar la probabilidad de que llueva en una estación dada del año para Seattle.\n",
    "\n",
    "Referencia:\n",
    "- https://es.slideshare.net/rosbur/metodologia-objetivos-generales-y-especficos"
   ]
  },
  {
   "cell_type": "markdown",
   "metadata": {},
   "source": [
    "\n",
    "## <font color='navy'> 1.3 Definición del problema\n",
    "\n",
    "Queremos predecir la probabilidad de lluvia ya que se simularemos que tenemos un autolavado en la ciudad de Seattle que ofrece garantías en caso de lluvia. \n",
    "> La premisa es: **si acudes a lavar tu carro y al día siguiente llueve, tu siguiente lavada es gratis.**\n",
    "\n",
    "Sería sencillo simplemente no ofrecer la garantía en las temporadas de lluvía cuando la probabilidad de que llueva es especialmente alta por lo cual no nos convendría, sin embargo, las lluvias ya no son tan estables y no son exclusivas de una temporada y esto se debe al cambio climático que atribuye un factor estócastico; ahora puede llover en cualquier mes y época del año.\n",
    "\n",
    "Nosotros usaremos datos relativamente recientes para reducir la probabilidad de error y por lo tanto conocer en que meses no deberíamos ofrecer la garantía de lavado gratis post-lluvia.\n",
    "\n",
    "\n",
    "¿Cómo afecta el cambio climático a la lluvia?\n",
    "\n",
    "\n",
    "Uno de los factores más críticos a la hora de determinar el impacto del cambio climático es el cambio en la lluvia y otros tipos de precipitaciones. La lluvia se ha vuelto mucho más difícil de predecir que la temperatura, pero existen algunas declaraciones que los científicos pueden asegurar en el futuro cercano.\n",
    "\n",
    "\n",
    "Una atmósfera más cálida puede almacenar mayor cantidad de humedad, y la cantidad de vapor de agua global se incrementa aproximadamente en un 7% por cada grado centígrado de calentamiento extra. Cómo se traduce esto a cambios en las precipitaciones globales es poco claro, pero el volumen total de precipitaciones puede incrementarse aproximadamente de un 1% a un 2% por grado centígrado de calentamiento.\n",
    "\n",
    "\n",
    "Existe evidencia para mostrar que las regiones que son húmedas se van a volver más húmedas, pero los detalles de que tan más húmedo se van a volver son más difíciles de asegurar. Son estos cambios en los patrones climáticos que harán la predicción de lluvia particularmente difícil. (Met 2011)\n",
    "\n",
    "\n",
    "\n",
    "\n",
    "Con la mayor cantidad de días lluviosos que otra gran ciudad americana, Seattle tiene una reputación de precipitaciones frecuentes. En promedio, por año, llueven 150 días. Sin embargo, debido a que las precipitaciones en Seattle suelen ser lloviznas ligeras, Seattle recibe menos precipitaciones totales que otras ciudades. \n",
    "En noviembre, Seattle promedia más precipitaciones que otras ciudades grandes; también los inviernos son particularmente húmedos. Los meses más húmedos son noviembre, diciembre y enero. (NOAA 2014)\n",
    "\n",
    "\n",
    "\n",
    "\n",
    "## <font color='navy'>  1.4 Nodos y variables: \n",
    "Tenemos un conjunto de datos sobre distintos atributos climáticos de 36 ciudades de las cuales nos enfocaremos específicamente en Seattle.\n",
    "\n",
    "Las mediciones están hechas por hora e incluyen:\n",
    "\n",
    "- Húmedad\n",
    "\n",
    "- Presión\n",
    "\n",
    "- Temperatura\n",
    "\n",
    "- Presión del viento\n",
    "    \n",
    "- Velocidad del viento\n",
    "\n",
    "- Descripción del clima\n",
    "\n",
    "Además contamos con información general de las ciudades: en que país se encuentran, su latitud y longitud.\n",
    "\n",
    "\n",
    "## <font color='navy'> 1.5 Definición de hipótesis y supuestos\n",
    "    \n",
    "### Supuestos:\n",
    "\n",
    "- Todos los datos son correctos y con la misma precisión de medición \n",
    "- Los datos fueron medidos con la misma frecuencia\n",
    "\n",
    "\n",
    "### Hipótesis:\n",
    " \n",
    "- Podemos predecir la probabilidad de lluvía a través de la correlación de otras variables\n",
    "\n"
   ]
  },
  {
   "cell_type": "markdown",
   "metadata": {},
   "source": [
    "## <font color='navy'> Diagrama:\n",
    "    \n",
    "El siguiente diagrama muestra como vamos a manejar las variables para para calcular la probabilidad de lluvia."
   ]
  },
  {
   "cell_type": "markdown",
   "metadata": {},
   "source": [
    "![alt text](diagrama.png \"diagrama\")"
   ]
  },
  {
   "cell_type": "markdown",
   "metadata": {},
   "source": [
    "## <font color='navy'>  1.6 Obtención de bases de datos y visualización\n",
    "La base de datos la obtuvimos de la comunidad Kaggle, la información ya está acomodada con el mismo eje común (tiempo) y la misma perioricidad (por hora).\n",
    "Cada atributo está en un archivo distinto en donde las filas contienen el eje del tiempo y las columnas son las diferentes ciudades para cada archivo.\n",
    " \n",
    "> Fuente: https://www.kaggle.com/selfishgene/historical-hourly-weather-data/code"
   ]
  },
  {
   "cell_type": "markdown",
   "metadata": {},
   "source": [
    "Estos son los datos a utilizar:"
   ]
  },
  {
   "cell_type": "code",
   "execution_count": 1,
   "metadata": {},
   "outputs": [
    {
     "name": "stderr",
     "output_type": "stream",
     "text": [
      "C:\\Users\\dplag\\Anaconda3\\lib\\site-packages\\statsmodels\\tools\\_testing.py:19: FutureWarning: pandas.util.testing is deprecated. Use the functions in the public API at pandas.testing instead.\n",
      "  import pandas.util.testing as tm\n"
     ]
    }
   ],
   "source": [
    "#Librerías:\n",
    "import numpy as np\n",
    "import pandas as pd\n",
    "import matplotlib.pyplot as plt\n",
    "import scipy.stats as st\n",
    "%matplotlib inline\n",
    "from dateutil.parser import parse \n",
    "import matplotlib as mpl\n",
    "import seaborn as sns\n",
    "import numpy as np\n",
    "import pandas as pd\n",
    "from matplotlib import pyplot\n",
    "\n",
    "#Función histograma:\n",
    "def plot_histogram_discrete(distribucion:'distribución a graficar histograma',\n",
    "                            xlabel:'x label',\n",
    "                            ylabel: 'y label',\n",
    "                            title: 'title'):\n",
    "    '''Función para graficar el histograma de una distribución discreta'''\n",
    "    plt.figure(figsize=[8,4])\n",
    "    y,x = np.histogram(distribucion,bins = len(set(distribucion))) \n",
    "    plt.bar(list(set(distribucion)),y)\n",
    "    plt.xlabel(xlabel)\n",
    "    plt.ylabel(ylabel)\n",
    "    plt.title(title)\n",
    "    plt.show()"
   ]
  },
  {
   "cell_type": "code",
   "execution_count": 2,
   "metadata": {},
   "outputs": [
    {
     "data": {
      "text/html": [
       "<div>\n",
       "<style scoped>\n",
       "    .dataframe tbody tr th:only-of-type {\n",
       "        vertical-align: middle;\n",
       "    }\n",
       "\n",
       "    .dataframe tbody tr th {\n",
       "        vertical-align: top;\n",
       "    }\n",
       "\n",
       "    .dataframe thead th {\n",
       "        text-align: right;\n",
       "    }\n",
       "</style>\n",
       "<table border=\"1\" class=\"dataframe\">\n",
       "  <thead>\n",
       "    <tr style=\"text-align: right;\">\n",
       "      <th></th>\n",
       "      <th>datetime</th>\n",
       "      <th>Vancouver</th>\n",
       "      <th>Portland</th>\n",
       "      <th>San Francisco</th>\n",
       "      <th>Seattle</th>\n",
       "      <th>Los Angeles</th>\n",
       "      <th>San Diego</th>\n",
       "      <th>Las Vegas</th>\n",
       "      <th>Phoenix</th>\n",
       "      <th>Albuquerque</th>\n",
       "      <th>...</th>\n",
       "      <th>Philadelphia</th>\n",
       "      <th>New York</th>\n",
       "      <th>Montreal</th>\n",
       "      <th>Boston</th>\n",
       "      <th>Beersheba</th>\n",
       "      <th>Tel Aviv District</th>\n",
       "      <th>Eilat</th>\n",
       "      <th>Haifa</th>\n",
       "      <th>Nahariyya</th>\n",
       "      <th>Jerusalem</th>\n",
       "    </tr>\n",
       "  </thead>\n",
       "  <tbody>\n",
       "    <tr>\n",
       "      <th>1</th>\n",
       "      <td>2012-10-01 13:00:00</td>\n",
       "      <td>mist</td>\n",
       "      <td>scattered clouds</td>\n",
       "      <td>light rain</td>\n",
       "      <td>sky is clear</td>\n",
       "      <td>mist</td>\n",
       "      <td>sky is clear</td>\n",
       "      <td>sky is clear</td>\n",
       "      <td>sky is clear</td>\n",
       "      <td>sky is clear</td>\n",
       "      <td>...</td>\n",
       "      <td>broken clouds</td>\n",
       "      <td>few clouds</td>\n",
       "      <td>overcast clouds</td>\n",
       "      <td>sky is clear</td>\n",
       "      <td>sky is clear</td>\n",
       "      <td>sky is clear</td>\n",
       "      <td>haze</td>\n",
       "      <td>sky is clear</td>\n",
       "      <td>sky is clear</td>\n",
       "      <td>sky is clear</td>\n",
       "    </tr>\n",
       "    <tr>\n",
       "      <th>2</th>\n",
       "      <td>2012-10-01 14:00:00</td>\n",
       "      <td>broken clouds</td>\n",
       "      <td>scattered clouds</td>\n",
       "      <td>sky is clear</td>\n",
       "      <td>sky is clear</td>\n",
       "      <td>sky is clear</td>\n",
       "      <td>sky is clear</td>\n",
       "      <td>sky is clear</td>\n",
       "      <td>sky is clear</td>\n",
       "      <td>sky is clear</td>\n",
       "      <td>...</td>\n",
       "      <td>broken clouds</td>\n",
       "      <td>few clouds</td>\n",
       "      <td>sky is clear</td>\n",
       "      <td>few clouds</td>\n",
       "      <td>sky is clear</td>\n",
       "      <td>sky is clear</td>\n",
       "      <td>broken clouds</td>\n",
       "      <td>overcast clouds</td>\n",
       "      <td>sky is clear</td>\n",
       "      <td>overcast clouds</td>\n",
       "    </tr>\n",
       "  </tbody>\n",
       "</table>\n",
       "<p>2 rows × 37 columns</p>\n",
       "</div>"
      ],
      "text/plain": [
       "              datetime      Vancouver          Portland San Francisco  \\\n",
       "1  2012-10-01 13:00:00           mist  scattered clouds    light rain   \n",
       "2  2012-10-01 14:00:00  broken clouds  scattered clouds  sky is clear   \n",
       "\n",
       "        Seattle   Los Angeles     San Diego     Las Vegas       Phoenix  \\\n",
       "1  sky is clear          mist  sky is clear  sky is clear  sky is clear   \n",
       "2  sky is clear  sky is clear  sky is clear  sky is clear  sky is clear   \n",
       "\n",
       "    Albuquerque  ...   Philadelphia    New York         Montreal  \\\n",
       "1  sky is clear  ...  broken clouds  few clouds  overcast clouds   \n",
       "2  sky is clear  ...  broken clouds  few clouds     sky is clear   \n",
       "\n",
       "         Boston     Beersheba Tel Aviv District          Eilat  \\\n",
       "1  sky is clear  sky is clear      sky is clear           haze   \n",
       "2    few clouds  sky is clear      sky is clear  broken clouds   \n",
       "\n",
       "             Haifa     Nahariyya        Jerusalem  \n",
       "1     sky is clear  sky is clear     sky is clear  \n",
       "2  overcast clouds  sky is clear  overcast clouds  \n",
       "\n",
       "[2 rows x 37 columns]"
      ]
     },
     "execution_count": 2,
     "metadata": {},
     "output_type": "execute_result"
    }
   ],
   "source": [
    "data1 = pd.read_csv('weather_description.csv').dropna()\n",
    "data1.head(2)"
   ]
  },
  {
   "cell_type": "code",
   "execution_count": 3,
   "metadata": {},
   "outputs": [
    {
     "data": {
      "text/plain": [
       "City               Seattle\n",
       "Country      United States\n",
       "Latitude         47.606209\n",
       "Longitude      -122.332069\n",
       "Name: 3, dtype: object"
      ]
     },
     "execution_count": 3,
     "metadata": {},
     "output_type": "execute_result"
    }
   ],
   "source": [
    "data=pd.read_csv(\"city_attributes.csv\")\n",
    "data.iloc[3]"
   ]
  },
  {
   "cell_type": "code",
   "execution_count": 4,
   "metadata": {},
   "outputs": [
    {
     "data": {
      "text/html": [
       "<div>\n",
       "<style scoped>\n",
       "    .dataframe tbody tr th:only-of-type {\n",
       "        vertical-align: middle;\n",
       "    }\n",
       "\n",
       "    .dataframe tbody tr th {\n",
       "        vertical-align: top;\n",
       "    }\n",
       "\n",
       "    .dataframe thead th {\n",
       "        text-align: right;\n",
       "    }\n",
       "</style>\n",
       "<table border=\"1\" class=\"dataframe\">\n",
       "  <thead>\n",
       "    <tr style=\"text-align: right;\">\n",
       "      <th></th>\n",
       "      <th>datetime</th>\n",
       "      <th>Vancouver</th>\n",
       "      <th>Portland</th>\n",
       "      <th>San Francisco</th>\n",
       "      <th>Seattle</th>\n",
       "      <th>Los Angeles</th>\n",
       "      <th>San Diego</th>\n",
       "      <th>Las Vegas</th>\n",
       "      <th>Phoenix</th>\n",
       "      <th>Albuquerque</th>\n",
       "      <th>...</th>\n",
       "      <th>Philadelphia</th>\n",
       "      <th>New York</th>\n",
       "      <th>Montreal</th>\n",
       "      <th>Boston</th>\n",
       "      <th>Beersheba</th>\n",
       "      <th>Tel Aviv District</th>\n",
       "      <th>Eilat</th>\n",
       "      <th>Haifa</th>\n",
       "      <th>Nahariyya</th>\n",
       "      <th>Jerusalem</th>\n",
       "    </tr>\n",
       "  </thead>\n",
       "  <tbody>\n",
       "    <tr>\n",
       "      <th>23132</th>\n",
       "      <td>2015-05-23 08:00:00</td>\n",
       "      <td>96.0</td>\n",
       "      <td>72.0</td>\n",
       "      <td>97.0</td>\n",
       "      <td>66.0</td>\n",
       "      <td>90.0</td>\n",
       "      <td>95.0</td>\n",
       "      <td>50.0</td>\n",
       "      <td>30.0</td>\n",
       "      <td>44.0</td>\n",
       "      <td>...</td>\n",
       "      <td>51.0</td>\n",
       "      <td>54.0</td>\n",
       "      <td>65.0</td>\n",
       "      <td>84.0</td>\n",
       "      <td>55.0</td>\n",
       "      <td>89.0</td>\n",
       "      <td>50.0</td>\n",
       "      <td>87.0</td>\n",
       "      <td>66.0</td>\n",
       "      <td>61.0</td>\n",
       "    </tr>\n",
       "    <tr>\n",
       "      <th>30029</th>\n",
       "      <td>2016-03-05 17:00:00</td>\n",
       "      <td>81.0</td>\n",
       "      <td>87.0</td>\n",
       "      <td>93.0</td>\n",
       "      <td>93.0</td>\n",
       "      <td>77.0</td>\n",
       "      <td>59.0</td>\n",
       "      <td>28.0</td>\n",
       "      <td>20.0</td>\n",
       "      <td>19.0</td>\n",
       "      <td>...</td>\n",
       "      <td>34.0</td>\n",
       "      <td>56.0</td>\n",
       "      <td>57.0</td>\n",
       "      <td>52.0</td>\n",
       "      <td>78.0</td>\n",
       "      <td>63.0</td>\n",
       "      <td>38.0</td>\n",
       "      <td>63.0</td>\n",
       "      <td>63.0</td>\n",
       "      <td>63.0</td>\n",
       "    </tr>\n",
       "  </tbody>\n",
       "</table>\n",
       "<p>2 rows × 37 columns</p>\n",
       "</div>"
      ],
      "text/plain": [
       "                  datetime  Vancouver  Portland  San Francisco  Seattle  \\\n",
       "23132  2015-05-23 08:00:00       96.0      72.0           97.0     66.0   \n",
       "30029  2016-03-05 17:00:00       81.0      87.0           93.0     93.0   \n",
       "\n",
       "       Los Angeles  San Diego  Las Vegas  Phoenix  Albuquerque  ...  \\\n",
       "23132         90.0       95.0       50.0     30.0         44.0  ...   \n",
       "30029         77.0       59.0       28.0     20.0         19.0  ...   \n",
       "\n",
       "       Philadelphia  New York  Montreal  Boston  Beersheba  Tel Aviv District  \\\n",
       "23132          51.0      54.0      65.0    84.0       55.0               89.0   \n",
       "30029          34.0      56.0      57.0    52.0       78.0               63.0   \n",
       "\n",
       "       Eilat  Haifa  Nahariyya  Jerusalem  \n",
       "23132   50.0   87.0       66.0       61.0  \n",
       "30029   38.0   63.0       63.0       63.0  \n",
       "\n",
       "[2 rows x 37 columns]"
      ]
     },
     "execution_count": 4,
     "metadata": {},
     "output_type": "execute_result"
    }
   ],
   "source": [
    "data2=pd.read_csv(\"humidity.csv\")\n",
    "humedad = data2[\"Seattle\"].dropna()\n",
    "data2.sample(2)"
   ]
  },
  {
   "cell_type": "code",
   "execution_count": 5,
   "metadata": {
    "scrolled": false
   },
   "outputs": [
    {
     "data": {
      "image/png": "[encoded data removed]",
      "text/plain": [
       "<Figure size 432x288 with 1 Axes>"
      ]
     },
     "metadata": {
      "needs_background": "light"
     },
     "output_type": "display_data"
    }
   ],
   "source": [
    "#Gráfica húmedad\n",
    "plt.plot(data2[\"Seattle\"].dropna())\n",
    "plt.title('Humedad en Seattle')\n",
    "plt.xlabel('day')\n",
    "plt.ylabel('Humedad')\n",
    "plt.show()"
   ]
  },
  {
   "cell_type": "code",
   "execution_count": 6,
   "metadata": {},
   "outputs": [
    {
     "data": {
      "text/plain": [
       "count    44964.000000\n",
       "mean        77.159038\n",
       "std         18.147464\n",
       "min         13.000000\n",
       "25%         66.000000\n",
       "50%         81.000000\n",
       "75%         93.000000\n",
       "max        100.000000\n",
       "Name: Seattle, dtype: float64"
      ]
     },
     "execution_count": 6,
     "metadata": {},
     "output_type": "execute_result"
    }
   ],
   "source": [
    "humedad.describe()"
   ]
  },
  {
   "cell_type": "code",
   "execution_count": 7,
   "metadata": {},
   "outputs": [
    {
     "data": {
      "text/html": [
       "<div>\n",
       "<style scoped>\n",
       "    .dataframe tbody tr th:only-of-type {\n",
       "        vertical-align: middle;\n",
       "    }\n",
       "\n",
       "    .dataframe tbody tr th {\n",
       "        vertical-align: top;\n",
       "    }\n",
       "\n",
       "    .dataframe thead th {\n",
       "        text-align: right;\n",
       "    }\n",
       "</style>\n",
       "<table border=\"1\" class=\"dataframe\">\n",
       "  <thead>\n",
       "    <tr style=\"text-align: right;\">\n",
       "      <th></th>\n",
       "      <th>datetime</th>\n",
       "      <th>Vancouver</th>\n",
       "      <th>Portland</th>\n",
       "      <th>San Francisco</th>\n",
       "      <th>Seattle</th>\n",
       "      <th>Los Angeles</th>\n",
       "      <th>San Diego</th>\n",
       "      <th>Las Vegas</th>\n",
       "      <th>Phoenix</th>\n",
       "      <th>Albuquerque</th>\n",
       "      <th>...</th>\n",
       "      <th>Philadelphia</th>\n",
       "      <th>New York</th>\n",
       "      <th>Montreal</th>\n",
       "      <th>Boston</th>\n",
       "      <th>Beersheba</th>\n",
       "      <th>Tel Aviv District</th>\n",
       "      <th>Eilat</th>\n",
       "      <th>Haifa</th>\n",
       "      <th>Nahariyya</th>\n",
       "      <th>Jerusalem</th>\n",
       "    </tr>\n",
       "  </thead>\n",
       "  <tbody>\n",
       "    <tr>\n",
       "      <th>37692</th>\n",
       "      <td>2017-01-19 00:00:00</td>\n",
       "      <td>991.0</td>\n",
       "      <td>994.0</td>\n",
       "      <td>1008.0</td>\n",
       "      <td>992.0</td>\n",
       "      <td>1020.0</td>\n",
       "      <td>1020.0</td>\n",
       "      <td>1016.0</td>\n",
       "      <td>1016.0</td>\n",
       "      <td>1016.0</td>\n",
       "      <td>...</td>\n",
       "      <td>1017.0</td>\n",
       "      <td>1017.0</td>\n",
       "      <td>1015.0</td>\n",
       "      <td>1016.0</td>\n",
       "      <td>993.0</td>\n",
       "      <td>1021.0</td>\n",
       "      <td>976.0</td>\n",
       "      <td>1033.0</td>\n",
       "      <td>1033.0</td>\n",
       "      <td>1021.0</td>\n",
       "    </tr>\n",
       "    <tr>\n",
       "      <th>21207</th>\n",
       "      <td>2015-03-04 03:00:00</td>\n",
       "      <td>1025.0</td>\n",
       "      <td>1035.0</td>\n",
       "      <td>1029.0</td>\n",
       "      <td>1036.0</td>\n",
       "      <td>1026.0</td>\n",
       "      <td>1026.0</td>\n",
       "      <td>1027.0</td>\n",
       "      <td>1025.0</td>\n",
       "      <td>1022.0</td>\n",
       "      <td>...</td>\n",
       "      <td>1028.0</td>\n",
       "      <td>1013.0</td>\n",
       "      <td>1001.0</td>\n",
       "      <td>1027.0</td>\n",
       "      <td>997.0</td>\n",
       "      <td>1021.0</td>\n",
       "      <td>963.0</td>\n",
       "      <td>1024.0</td>\n",
       "      <td>997.0</td>\n",
       "      <td>1034.0</td>\n",
       "    </tr>\n",
       "  </tbody>\n",
       "</table>\n",
       "<p>2 rows × 37 columns</p>\n",
       "</div>"
      ],
      "text/plain": [
       "                  datetime  Vancouver  Portland  San Francisco  Seattle  \\\n",
       "37692  2017-01-19 00:00:00      991.0     994.0         1008.0    992.0   \n",
       "21207  2015-03-04 03:00:00     1025.0    1035.0         1029.0   1036.0   \n",
       "\n",
       "       Los Angeles  San Diego  Las Vegas  Phoenix  Albuquerque  ...  \\\n",
       "37692       1020.0     1020.0     1016.0   1016.0       1016.0  ...   \n",
       "21207       1026.0     1026.0     1027.0   1025.0       1022.0  ...   \n",
       "\n",
       "       Philadelphia  New York  Montreal  Boston  Beersheba  Tel Aviv District  \\\n",
       "37692        1017.0    1017.0    1015.0  1016.0      993.0             1021.0   \n",
       "21207        1028.0    1013.0    1001.0  1027.0      997.0             1021.0   \n",
       "\n",
       "       Eilat   Haifa  Nahariyya  Jerusalem  \n",
       "37692  976.0  1033.0     1033.0     1021.0  \n",
       "21207  963.0  1024.0      997.0     1034.0  \n",
       "\n",
       "[2 rows x 37 columns]"
      ]
     },
     "execution_count": 7,
     "metadata": {},
     "output_type": "execute_result"
    }
   ],
   "source": [
    "#Presión:\n",
    "data3=pd.read_csv(\"pressure.csv\")\n",
    "presion = data3.Seattle.dropna()\n",
    "data3.sample(2)"
   ]
  },
  {
   "cell_type": "code",
   "execution_count": 8,
   "metadata": {},
   "outputs": [
    {
     "data": {
      "text/plain": [
       "count    45240.000000\n",
       "mean      1021.001216\n",
       "std          9.737187\n",
       "min        980.000000\n",
       "25%       1015.000000\n",
       "50%       1020.000000\n",
       "75%       1027.000000\n",
       "max       1058.000000\n",
       "Name: Seattle, dtype: float64"
      ]
     },
     "execution_count": 8,
     "metadata": {},
     "output_type": "execute_result"
    }
   ],
   "source": [
    "presion.describe()"
   ]
  },
  {
   "cell_type": "code",
   "execution_count": 9,
   "metadata": {},
   "outputs": [
    {
     "data": {
      "text/html": [
       "<div>\n",
       "<style scoped>\n",
       "    .dataframe tbody tr th:only-of-type {\n",
       "        vertical-align: middle;\n",
       "    }\n",
       "\n",
       "    .dataframe tbody tr th {\n",
       "        vertical-align: top;\n",
       "    }\n",
       "\n",
       "    .dataframe thead th {\n",
       "        text-align: right;\n",
       "    }\n",
       "</style>\n",
       "<table border=\"1\" class=\"dataframe\">\n",
       "  <thead>\n",
       "    <tr style=\"text-align: right;\">\n",
       "      <th></th>\n",
       "      <th>datetime</th>\n",
       "      <th>Vancouver</th>\n",
       "      <th>Portland</th>\n",
       "      <th>San Francisco</th>\n",
       "      <th>Seattle</th>\n",
       "      <th>Los Angeles</th>\n",
       "      <th>San Diego</th>\n",
       "      <th>Las Vegas</th>\n",
       "      <th>Phoenix</th>\n",
       "      <th>Albuquerque</th>\n",
       "      <th>...</th>\n",
       "      <th>Philadelphia</th>\n",
       "      <th>New York</th>\n",
       "      <th>Montreal</th>\n",
       "      <th>Boston</th>\n",
       "      <th>Beersheba</th>\n",
       "      <th>Tel Aviv District</th>\n",
       "      <th>Eilat</th>\n",
       "      <th>Haifa</th>\n",
       "      <th>Nahariyya</th>\n",
       "      <th>Jerusalem</th>\n",
       "    </tr>\n",
       "  </thead>\n",
       "  <tbody>\n",
       "    <tr>\n",
       "      <th>3018</th>\n",
       "      <td>2013-02-04 06:00:00</td>\n",
       "      <td>277.210</td>\n",
       "      <td>276.820</td>\n",
       "      <td>282.230</td>\n",
       "      <td>276.5600</td>\n",
       "      <td>289.9800</td>\n",
       "      <td>288.8500</td>\n",
       "      <td>285.5400</td>\n",
       "      <td>287.650</td>\n",
       "      <td>277.100</td>\n",
       "      <td>...</td>\n",
       "      <td>269.360</td>\n",
       "      <td>268.99</td>\n",
       "      <td>259.53</td>\n",
       "      <td>268.700</td>\n",
       "      <td>288.350</td>\n",
       "      <td>284.83</td>\n",
       "      <td>286.680</td>\n",
       "      <td>289.080</td>\n",
       "      <td>289.080</td>\n",
       "      <td>289.3700</td>\n",
       "    </tr>\n",
       "    <tr>\n",
       "      <th>19815</th>\n",
       "      <td>2015-01-05 03:00:00</td>\n",
       "      <td>277.128</td>\n",
       "      <td>280.947</td>\n",
       "      <td>281.822</td>\n",
       "      <td>282.2095</td>\n",
       "      <td>281.2345</td>\n",
       "      <td>281.4595</td>\n",
       "      <td>272.9095</td>\n",
       "      <td>279.547</td>\n",
       "      <td>268.047</td>\n",
       "      <td>...</td>\n",
       "      <td>283.447</td>\n",
       "      <td>283.35</td>\n",
       "      <td>271.45</td>\n",
       "      <td>284.097</td>\n",
       "      <td>282.378</td>\n",
       "      <td>282.28</td>\n",
       "      <td>278.178</td>\n",
       "      <td>289.353</td>\n",
       "      <td>282.803</td>\n",
       "      <td>282.6595</td>\n",
       "    </tr>\n",
       "  </tbody>\n",
       "</table>\n",
       "<p>2 rows × 37 columns</p>\n",
       "</div>"
      ],
      "text/plain": [
       "                  datetime  Vancouver  Portland  San Francisco   Seattle  \\\n",
       "3018   2013-02-04 06:00:00    277.210   276.820        282.230  276.5600   \n",
       "19815  2015-01-05 03:00:00    277.128   280.947        281.822  282.2095   \n",
       "\n",
       "       Los Angeles  San Diego  Las Vegas  Phoenix  Albuquerque  ...  \\\n",
       "3018      289.9800   288.8500   285.5400  287.650      277.100  ...   \n",
       "19815     281.2345   281.4595   272.9095  279.547      268.047  ...   \n",
       "\n",
       "       Philadelphia  New York  Montreal   Boston  Beersheba  \\\n",
       "3018        269.360    268.99    259.53  268.700    288.350   \n",
       "19815       283.447    283.35    271.45  284.097    282.378   \n",
       "\n",
       "       Tel Aviv District    Eilat    Haifa  Nahariyya  Jerusalem  \n",
       "3018              284.83  286.680  289.080    289.080   289.3700  \n",
       "19815             282.28  278.178  289.353    282.803   282.6595  \n",
       "\n",
       "[2 rows x 37 columns]"
      ]
     },
     "execution_count": 9,
     "metadata": {},
     "output_type": "execute_result"
    }
   ],
   "source": [
    "#Temperatura:\n",
    "data4=pd.read_csv(\"temperature.csv\")\n",
    "temp = data4.Seattle.dropna()-273.15 #de kelvin a cº\n",
    "data4.sample(2)"
   ]
  },
  {
   "cell_type": "code",
   "execution_count": 10,
   "metadata": {
    "scrolled": true
   },
   "outputs": [
    {
     "data": {
      "image/png": "[encoded data removed]",
      "text/plain": [
       "<Figure size 432x288 with 1 Axes>"
      ]
     },
     "metadata": {
      "needs_background": "light"
     },
     "output_type": "display_data"
    }
   ],
   "source": [
    "#Gráfica temperatura en C:\n",
    "temp2 = pd.read_csv(\"temperature.csv\", header=0, index_col=0).Seattle.dropna()-273.15\n",
    "temp2.plot()\n",
    "\n",
    "plt.title('Temperatura en Seattle')\n",
    "plt.xlabel('day')\n",
    "plt.ylabel('Temperatura')\n",
    "pyplot.show()\n",
    "\n"
   ]
  },
  {
   "cell_type": "code",
   "execution_count": 11,
   "metadata": {},
   "outputs": [
    {
     "data": {
      "text/plain": [
       "count    45250.000000\n",
       "mean        11.259626\n",
       "std          6.547986\n",
       "min         -9.370000\n",
       "25%          6.680000\n",
       "50%         10.790000\n",
       "75%         15.380000\n",
       "max         34.150000\n",
       "Name: Seattle, dtype: float64"
      ]
     },
     "execution_count": 11,
     "metadata": {},
     "output_type": "execute_result"
    }
   ],
   "source": [
    "temp.describe()"
   ]
  },
  {
   "cell_type": "code",
   "execution_count": 12,
   "metadata": {},
   "outputs": [
    {
     "data": {
      "text/html": [
       "<div>\n",
       "<style scoped>\n",
       "    .dataframe tbody tr th:only-of-type {\n",
       "        vertical-align: middle;\n",
       "    }\n",
       "\n",
       "    .dataframe tbody tr th {\n",
       "        vertical-align: top;\n",
       "    }\n",
       "\n",
       "    .dataframe thead th {\n",
       "        text-align: right;\n",
       "    }\n",
       "</style>\n",
       "<table border=\"1\" class=\"dataframe\">\n",
       "  <thead>\n",
       "    <tr style=\"text-align: right;\">\n",
       "      <th></th>\n",
       "      <th>datetime</th>\n",
       "      <th>Vancouver</th>\n",
       "      <th>Portland</th>\n",
       "      <th>San Francisco</th>\n",
       "      <th>Seattle</th>\n",
       "      <th>Los Angeles</th>\n",
       "      <th>San Diego</th>\n",
       "      <th>Las Vegas</th>\n",
       "      <th>Phoenix</th>\n",
       "      <th>Albuquerque</th>\n",
       "      <th>...</th>\n",
       "      <th>Philadelphia</th>\n",
       "      <th>New York</th>\n",
       "      <th>Montreal</th>\n",
       "      <th>Boston</th>\n",
       "      <th>Beersheba</th>\n",
       "      <th>Tel Aviv District</th>\n",
       "      <th>Eilat</th>\n",
       "      <th>Haifa</th>\n",
       "      <th>Nahariyya</th>\n",
       "      <th>Jerusalem</th>\n",
       "    </tr>\n",
       "  </thead>\n",
       "  <tbody>\n",
       "    <tr>\n",
       "      <th>38617</th>\n",
       "      <td>2017-02-26 13:00:00</td>\n",
       "      <td>80.0</td>\n",
       "      <td>191.0</td>\n",
       "      <td>260.0</td>\n",
       "      <td>160.0</td>\n",
       "      <td>117.0</td>\n",
       "      <td>127.0</td>\n",
       "      <td>310.0</td>\n",
       "      <td>340.0</td>\n",
       "      <td>260.0</td>\n",
       "      <td>...</td>\n",
       "      <td>300.0</td>\n",
       "      <td>330.0</td>\n",
       "      <td>250.0</td>\n",
       "      <td>280.0</td>\n",
       "      <td>94.0</td>\n",
       "      <td>300.0</td>\n",
       "      <td>360.0</td>\n",
       "      <td>310.0</td>\n",
       "      <td>310.0</td>\n",
       "      <td>300.0</td>\n",
       "    </tr>\n",
       "    <tr>\n",
       "      <th>37091</th>\n",
       "      <td>2016-12-24 23:00:00</td>\n",
       "      <td>10.0</td>\n",
       "      <td>280.0</td>\n",
       "      <td>290.0</td>\n",
       "      <td>230.0</td>\n",
       "      <td>310.0</td>\n",
       "      <td>290.0</td>\n",
       "      <td>260.0</td>\n",
       "      <td>220.0</td>\n",
       "      <td>170.0</td>\n",
       "      <td>...</td>\n",
       "      <td>281.0</td>\n",
       "      <td>280.0</td>\n",
       "      <td>250.0</td>\n",
       "      <td>272.0</td>\n",
       "      <td>228.0</td>\n",
       "      <td>160.0</td>\n",
       "      <td>312.0</td>\n",
       "      <td>277.0</td>\n",
       "      <td>277.0</td>\n",
       "      <td>160.0</td>\n",
       "    </tr>\n",
       "  </tbody>\n",
       "</table>\n",
       "<p>2 rows × 37 columns</p>\n",
       "</div>"
      ],
      "text/plain": [
       "                  datetime  Vancouver  Portland  San Francisco  Seattle  \\\n",
       "38617  2017-02-26 13:00:00       80.0     191.0          260.0    160.0   \n",
       "37091  2016-12-24 23:00:00       10.0     280.0          290.0    230.0   \n",
       "\n",
       "       Los Angeles  San Diego  Las Vegas  Phoenix  Albuquerque  ...  \\\n",
       "38617        117.0      127.0      310.0    340.0        260.0  ...   \n",
       "37091        310.0      290.0      260.0    220.0        170.0  ...   \n",
       "\n",
       "       Philadelphia  New York  Montreal  Boston  Beersheba  Tel Aviv District  \\\n",
       "38617         300.0     330.0     250.0   280.0       94.0              300.0   \n",
       "37091         281.0     280.0     250.0   272.0      228.0              160.0   \n",
       "\n",
       "       Eilat  Haifa  Nahariyya  Jerusalem  \n",
       "38617  360.0  310.0      310.0      300.0  \n",
       "37091  312.0  277.0      277.0      160.0  \n",
       "\n",
       "[2 rows x 37 columns]"
      ]
     },
     "execution_count": 12,
     "metadata": {},
     "output_type": "execute_result"
    }
   ],
   "source": [
    "#Dirección del viento\n",
    "data6=pd.read_csv(\"wind_direction.csv\")\n",
    "wind_dir = data6.Seattle.dropna()\n",
    "data6.sample(2)"
   ]
  },
  {
   "cell_type": "code",
   "execution_count": 13,
   "metadata": {},
   "outputs": [
    {
     "data": {
      "text/plain": [
       "count    45252.000000\n",
       "mean       161.380226\n",
       "std        103.206816\n",
       "min          0.000000\n",
       "25%         70.000000\n",
       "50%        175.000000\n",
       "75%        218.000000\n",
       "max        360.000000\n",
       "Name: Seattle, dtype: float64"
      ]
     },
     "execution_count": 13,
     "metadata": {},
     "output_type": "execute_result"
    }
   ],
   "source": [
    "wind_dir.describe()"
   ]
  },
  {
   "cell_type": "code",
   "execution_count": 14,
   "metadata": {
    "scrolled": true
   },
   "outputs": [
    {
     "data": {
      "text/html": [
       "<div>\n",
       "<style scoped>\n",
       "    .dataframe tbody tr th:only-of-type {\n",
       "        vertical-align: middle;\n",
       "    }\n",
       "\n",
       "    .dataframe tbody tr th {\n",
       "        vertical-align: top;\n",
       "    }\n",
       "\n",
       "    .dataframe thead th {\n",
       "        text-align: right;\n",
       "    }\n",
       "</style>\n",
       "<table border=\"1\" class=\"dataframe\">\n",
       "  <thead>\n",
       "    <tr style=\"text-align: right;\">\n",
       "      <th></th>\n",
       "      <th>datetime</th>\n",
       "      <th>Vancouver</th>\n",
       "      <th>Portland</th>\n",
       "      <th>San Francisco</th>\n",
       "      <th>Seattle</th>\n",
       "      <th>Los Angeles</th>\n",
       "      <th>San Diego</th>\n",
       "      <th>Las Vegas</th>\n",
       "      <th>Phoenix</th>\n",
       "      <th>Albuquerque</th>\n",
       "      <th>...</th>\n",
       "      <th>Philadelphia</th>\n",
       "      <th>New York</th>\n",
       "      <th>Montreal</th>\n",
       "      <th>Boston</th>\n",
       "      <th>Beersheba</th>\n",
       "      <th>Tel Aviv District</th>\n",
       "      <th>Eilat</th>\n",
       "      <th>Haifa</th>\n",
       "      <th>Nahariyya</th>\n",
       "      <th>Jerusalem</th>\n",
       "    </tr>\n",
       "  </thead>\n",
       "  <tbody>\n",
       "    <tr>\n",
       "      <th>2969</th>\n",
       "      <td>2013-02-02 05:00:00</td>\n",
       "      <td>0.0</td>\n",
       "      <td>2.0</td>\n",
       "      <td>0.0</td>\n",
       "      <td>1.0</td>\n",
       "      <td>0.0</td>\n",
       "      <td>0.0</td>\n",
       "      <td>2.0</td>\n",
       "      <td>0.0</td>\n",
       "      <td>2.0</td>\n",
       "      <td>...</td>\n",
       "      <td>7.0</td>\n",
       "      <td>8.0</td>\n",
       "      <td>9.0</td>\n",
       "      <td>4.0</td>\n",
       "      <td>6.0</td>\n",
       "      <td>5.0</td>\n",
       "      <td>2.0</td>\n",
       "      <td>4.0</td>\n",
       "      <td>4.0</td>\n",
       "      <td>6.0</td>\n",
       "    </tr>\n",
       "    <tr>\n",
       "      <th>457</th>\n",
       "      <td>2012-10-20 13:00:00</td>\n",
       "      <td>6.0</td>\n",
       "      <td>2.0</td>\n",
       "      <td>2.0</td>\n",
       "      <td>5.0</td>\n",
       "      <td>0.0</td>\n",
       "      <td>0.0</td>\n",
       "      <td>2.0</td>\n",
       "      <td>1.0</td>\n",
       "      <td>2.0</td>\n",
       "      <td>...</td>\n",
       "      <td>3.0</td>\n",
       "      <td>5.0</td>\n",
       "      <td>4.0</td>\n",
       "      <td>3.0</td>\n",
       "      <td>5.0</td>\n",
       "      <td>3.0</td>\n",
       "      <td>3.0</td>\n",
       "      <td>4.0</td>\n",
       "      <td>4.0</td>\n",
       "      <td>3.0</td>\n",
       "    </tr>\n",
       "  </tbody>\n",
       "</table>\n",
       "<p>2 rows × 37 columns</p>\n",
       "</div>"
      ],
      "text/plain": [
       "                 datetime  Vancouver  Portland  San Francisco  Seattle  \\\n",
       "2969  2013-02-02 05:00:00        0.0       2.0            0.0      1.0   \n",
       "457   2012-10-20 13:00:00        6.0       2.0            2.0      5.0   \n",
       "\n",
       "      Los Angeles  San Diego  Las Vegas  Phoenix  Albuquerque  ...  \\\n",
       "2969          0.0        0.0        2.0      0.0          2.0  ...   \n",
       "457           0.0        0.0        2.0      1.0          2.0  ...   \n",
       "\n",
       "      Philadelphia  New York  Montreal  Boston  Beersheba  Tel Aviv District  \\\n",
       "2969           7.0       8.0       9.0     4.0        6.0                5.0   \n",
       "457            3.0       5.0       4.0     3.0        5.0                3.0   \n",
       "\n",
       "      Eilat  Haifa  Nahariyya  Jerusalem  \n",
       "2969    2.0    4.0        4.0        6.0  \n",
       "457     3.0    4.0        4.0        3.0  \n",
       "\n",
       "[2 rows x 37 columns]"
      ]
     },
     "execution_count": 14,
     "metadata": {},
     "output_type": "execute_result"
    }
   ],
   "source": [
    "#Velocidad del viento:\n",
    "data7=pd.read_csv(\"wind_speed.csv\")\n",
    "wind_speed = data7.Seattle.dropna()\n",
    "data7.sample(2)"
   ]
  },
  {
   "cell_type": "code",
   "execution_count": 15,
   "metadata": {},
   "outputs": [
    {
     "data": {
      "text/plain": [
       "count    45252.000000\n",
       "mean         2.118116\n",
       "std          1.629988\n",
       "min          0.000000\n",
       "25%          1.000000\n",
       "50%          2.000000\n",
       "75%          3.000000\n",
       "max         24.000000\n",
       "Name: Seattle, dtype: float64"
      ]
     },
     "execution_count": 15,
     "metadata": {},
     "output_type": "execute_result"
    }
   ],
   "source": [
    "wind_speed.describe()"
   ]
  },
  {
   "cell_type": "markdown",
   "metadata": {},
   "source": [
    "## <font color='navy'>  Conceptos importantes:"
   ]
  },
  {
   "cell_type": "code",
   "execution_count": 16,
   "metadata": {},
   "outputs": [],
   "source": [
    "#.\n",
    "#.\n",
    "#.\n",
    "#.\n",
    "#."
   ]
  },
  {
   "cell_type": "markdown",
   "metadata": {},
   "source": [
    "## <font color='navy'>  Histogramas:"
   ]
  },
  {
   "cell_type": "code",
   "execution_count": 17,
   "metadata": {},
   "outputs": [
    {
     "data": {
      "image/png": "[encoded data removed]",
      "text/plain": [
       "<Figure size 576x288 with 1 Axes>"
      ]
     },
     "metadata": {
      "needs_background": "light"
     },
     "output_type": "display_data"
    }
   ],
   "source": [
    "#Húmedad:\n",
    "plot_histogram_discrete(humedad, 'Húmedad en porcentaje', 'Frecuencia', 'Histograma')"
   ]
  },
  {
   "cell_type": "code",
   "execution_count": 18,
   "metadata": {},
   "outputs": [
    {
     "data": {
      "image/png": "[encoded data removed]",
      "text/plain": [
       "<Figure size 576x288 with 1 Axes>"
      ]
     },
     "metadata": {
      "needs_background": "light"
     },
     "output_type": "display_data"
    }
   ],
   "source": [
    "#Presión:\n",
    "plot_histogram_discrete(presion, 'Presión en Hectopascales', 'Frecuencia', 'Histograma')"
   ]
  },
  {
   "cell_type": "code",
   "execution_count": 19,
   "metadata": {},
   "outputs": [
    {
     "data": {
      "image/png": "[encoded data removed]",
      "text/plain": [
       "<Figure size 576x288 with 1 Axes>"
      ]
     },
     "metadata": {
      "needs_background": "light"
     },
     "output_type": "display_data"
    }
   ],
   "source": [
    "#Temperatura\n",
    "plot_histogram_discrete(temp, 'Temperaura en Celsius', 'Frecuencia', 'Histograma')"
   ]
  },
  {
   "cell_type": "code",
   "execution_count": 20,
   "metadata": {},
   "outputs": [
    {
     "data": {
      "image/png": "[encoded data removed]",
      "text/plain": [
       "<Figure size 576x288 with 1 Axes>"
      ]
     },
     "metadata": {
      "needs_background": "light"
     },
     "output_type": "display_data"
    }
   ],
   "source": [
    "#Dirección del viento:\n",
    "plot_histogram_discrete(wind_dir, 'Dirección del viento', 'Frecuencia', 'Histograma')"
   ]
  },
  {
   "cell_type": "code",
   "execution_count": 21,
   "metadata": {},
   "outputs": [
    {
     "data": {
      "image/png": "[encoded data removed]",
      "text/plain": [
       "<Figure size 576x288 with 1 Axes>"
      ]
     },
     "metadata": {
      "needs_background": "light"
     },
     "output_type": "display_data"
    }
   ],
   "source": [
    "#Velocidad del viento:\n",
    "plot_histogram_discrete(wind_speed, 'Velocidad del viento en millas por hora', 'Frecuencia', 'Histograma')"
   ]
  },
  {
   "cell_type": "markdown",
   "metadata": {},
   "source": [
    "## <font color='navy'> Selección de Variables Aleatorias"
   ]
  },
  {
   "cell_type": "code",
   "execution_count": 22,
   "metadata": {},
   "outputs": [],
   "source": [
    "#Temperatura, medida en grados celsius\n",
    "#Humedad en porcentaje 0 - 100\n",
    "#Presión, dada en Hectopascales\n",
    "#Velocidad del viento en millas por hora\n",
    "#Dirección del viento en grados (0 - 360)\n",
    "#plt.hist(wind_speed)\n",
    "#Distribución normal para la temperatura, con características\n",
    "temp_mean = temp.mean()\n",
    "temp_sd = temp.std()\n",
    "temp_sim = np.random.normal(loc=temp_mean,scale=temp_sd,size=12000)\n",
    "#Distribución desconocida para la humedad(pedir ayuda), con características   (# está sesgada )\n",
    "hum_mean = humedad.mean()\n",
    "humedad_sim = st.expon(loc=0,scale=hum_mean).rvs(size=10000, random_state=123)\n",
    "#Distribución normal para la presión\n",
    "presion_mean = presion.mean()\n",
    "presion_sd = presion.std()\n",
    "presion_sim = st.norm(loc=presion_mean,scale=presion_sd).rvs(size=10000)\n",
    "#Distribución exponencial para la velocidad del viento, con características\n",
    "wS_mean = wind_speed.mean()\n",
    "wS_sd = wind_speed.std()\n",
    "wS_sim = st.expon(loc=0,scale=wS_mean).rvs(size=45000, random_state=69)"
   ]
  },
  {
   "cell_type": "code",
   "execution_count": 23,
   "metadata": {},
   "outputs": [
    {
     "data": {
      "image/png": "[encoded data removed]",
      "text/plain": [
       "<Figure size 720x720 with 5 Axes>"
      ]
     },
     "metadata": {
      "needs_background": "light"
     },
     "output_type": "display_data"
    }
   ],
   "source": [
    "#Para comprobar la distribución:\n",
    "plt.figure(figsize=(10,10))\n",
    "plt.subplot(3,3,1)\n",
    "sns.distplot(presion,color='darkviolet')\n",
    "plt.title('Distribución de presión')\n",
    "plt.subplot(3,3,2)\n",
    "sns.distplot(temp,color='orange')\n",
    "plt.title('Distribución de temperatura')\n",
    "plt.subplot(3,3,3)\n",
    "sns.distplot(humedad,color='lightcoral')\n",
    "plt.title('Distribución de húmedad')\n",
    "plt.subplot(3,3,4)\n",
    "sns.distplot(wind_speed,color='limegreen')\n",
    "plt.title('Distribución de velocidad del viento')\n",
    "plt.subplot(3,3,5)\n",
    "sns.distplot(wind_dir,color='fuchsia')\n",
    "plt.title('Distribución de dirección del viento')\n",
    "plt.tight_layout()\n",
    "plt.show()\n",
    "\n",
    "\n",
    "import warnings\n",
    "warnings.filterwarnings(\"ignore\")\n",
    "warnings.simplefilter(action='ignore', category=FutureWarning)"
   ]
  },
  {
   "cell_type": "markdown",
   "metadata": {},
   "source": [
    "Escribir conclusión sobre las gráficas:\n",
    "    \n",
    "    .f\n",
    "    \n",
    "    .f\n",
    "    \n",
    "    .f\n",
    "    \n",
    "    .f\n",
    "    \n",
    "    .f"
   ]
  },
  {
   "cell_type": "code",
   "execution_count": 24,
   "metadata": {},
   "outputs": [],
   "source": [
    "#Realizando pruebas de intervalo de confianza para la media de las distribuciones normales simuladas\n",
    "def intervalo_confianza(m:\"Media de la distribución original\",sim:\"Variable simulada\",c=\"Intervalo de confianza\"):\n",
    "    \"\"\"\n",
    "    Esta función crea una estimación del intervalo de confianza para la media de la variable simulada, y genera prueba de\n",
    "    hipótesis, además de aceptarla o rechazarla, para una variable aleatoria normal. Imprime el intervalo de confianza para\n",
    "    t-Student, normal, la media calculada de la variable simulada, una media rechazable, el estadístico de student, el valor\n",
    "    de p para la prueba, la región de rechazo y el cálculo del estadístico de prueba teórico (uf!)\n",
    "    \"\"\"\n",
    "    N = len(sim)\n",
    "    i_t = st.t.interval(c, len(sim)-1, loc=np.mean(sim), scale=st.sem(sim))\n",
    "    i_n = st.norm.interval(c, loc=np.mean(sim), scale=st.sem(sim))\n",
    "    media_calc = np.mean(sim)\n",
    "    # prueba de hipotesis para H0= mu=media2\n",
    "    ho = st.ttest_1samp(sim, media_calc)\n",
    "    # Calculamos el estadístico normalizado\n",
    "    t = (np.mean(sim) - media_calc)/(np.std(sim) / np.sqrt(N))\n",
    "    # Cálculo de la región de rechazo\n",
    "    cuantil = st.t(N-1).cdf(c/2)\n",
    "    print('Con una confianza de %2.2f la media estará en el intervalo t,\\n %s     ' %(c,i_t))\n",
    "    print('Con una confianza de %2.2f la media estará en el intervalo normal,\\n %s' %(c,i_n))\n",
    "    print('Media calculada' ,np.mean(sim))\n",
    "    print('La prueba de hipótesis arroja como resultado\\n',ho)\n",
    "    print('Cálculo del estadístico de prueba teórico=', t)\n",
    "    print(f'Región de rechazo = (t<{-cuantil}) U (t>{cuantil})')\n",
    "    if ho.pvalue > c:\n",
    "        print(\"Se acepta la hipótesis nula, la media es igual a\",media_calc,\"con un\",c,\"% de confianza.\")\n",
    "    else:\n",
    "        print(\"Se rechaza la hipótesis nula. La media es diferente de\",media_calc)\n",
    "    "
   ]
  },
  {
   "cell_type": "code",
   "execution_count": 25,
   "metadata": {},
   "outputs": [
    {
     "name": "stdout",
     "output_type": "stream",
     "text": [
      "Con una confianza de 0.95 la media estará en el intervalo t,\n",
      " (11.176482945114087, 11.41013734383713)     \n",
      "Con una confianza de 0.95 la media estará en el intervalo normal,\n",
      " (11.17649472970246, 11.410125559248756)\n",
      "Media calculada 11.293310144475608\n",
      "La prueba de hipótesis arroja como resultado\n",
      " Ttest_1sampResult(statistic=0.0, pvalue=1.0)\n",
      "Cálculo del estadístico de prueba teórico= 0.0\n",
      "Región de rechazo = (t<-0.6826021906405915) U (t>0.6826021906405915)\n",
      "Se acepta la hipótesis nula, la media es igual a 11.293310144475608 con un 0.95 % de confianza.\n"
     ]
    }
   ],
   "source": [
    "intervalo_confianza(temp_mean,temp_sim,.95)"
   ]
  },
  {
   "cell_type": "markdown",
   "metadata": {},
   "source": [
    "## <font color='navy'> Kernel density estimation:"
   ]
  },
  {
   "cell_type": "code",
   "execution_count": 26,
   "metadata": {},
   "outputs": [
    {
     "name": "stderr",
     "output_type": "stream",
     "text": [
      "C:\\Users\\dplag\\Anaconda3\\lib\\site-packages\\sklearn\\linear_model\\least_angle.py:30: DeprecationWarning: `np.float` is a deprecated alias for the builtin `float`. To silence this warning, use `float` by itself. Doing this will not modify any behavior and is safe. If you specifically wanted the numpy scalar type, use `np.float64` here.\n",
      "Deprecated in NumPy 1.20; for more details and guidance: https://numpy.org/devdocs/release/1.20.0-notes.html#deprecations\n",
      "  method='lar', copy_X=True, eps=np.finfo(np.float).eps,\n",
      "C:\\Users\\dplag\\Anaconda3\\lib\\site-packages\\sklearn\\linear_model\\least_angle.py:167: DeprecationWarning: `np.float` is a deprecated alias for the builtin `float`. To silence this warning, use `float` by itself. Doing this will not modify any behavior and is safe. If you specifically wanted the numpy scalar type, use `np.float64` here.\n",
      "Deprecated in NumPy 1.20; for more details and guidance: https://numpy.org/devdocs/release/1.20.0-notes.html#deprecations\n",
      "  method='lar', copy_X=True, eps=np.finfo(np.float).eps,\n",
      "C:\\Users\\dplag\\Anaconda3\\lib\\site-packages\\sklearn\\linear_model\\least_angle.py:284: DeprecationWarning: `np.float` is a deprecated alias for the builtin `float`. To silence this warning, use `float` by itself. Doing this will not modify any behavior and is safe. If you specifically wanted the numpy scalar type, use `np.float64` here.\n",
      "Deprecated in NumPy 1.20; for more details and guidance: https://numpy.org/devdocs/release/1.20.0-notes.html#deprecations\n",
      "  eps=np.finfo(np.float).eps, copy_Gram=True, verbose=0,\n",
      "C:\\Users\\dplag\\Anaconda3\\lib\\site-packages\\sklearn\\linear_model\\least_angle.py:862: DeprecationWarning: `np.float` is a deprecated alias for the builtin `float`. To silence this warning, use `float` by itself. Doing this will not modify any behavior and is safe. If you specifically wanted the numpy scalar type, use `np.float64` here.\n",
      "Deprecated in NumPy 1.20; for more details and guidance: https://numpy.org/devdocs/release/1.20.0-notes.html#deprecations\n",
      "  eps=np.finfo(np.float).eps, copy_X=True, fit_path=True,\n",
      "C:\\Users\\dplag\\Anaconda3\\lib\\site-packages\\sklearn\\linear_model\\least_angle.py:1101: DeprecationWarning: `np.float` is a deprecated alias for the builtin `float`. To silence this warning, use `float` by itself. Doing this will not modify any behavior and is safe. If you specifically wanted the numpy scalar type, use `np.float64` here.\n",
      "Deprecated in NumPy 1.20; for more details and guidance: https://numpy.org/devdocs/release/1.20.0-notes.html#deprecations\n",
      "  eps=np.finfo(np.float).eps, copy_X=True, fit_path=True,\n",
      "C:\\Users\\dplag\\Anaconda3\\lib\\site-packages\\sklearn\\linear_model\\least_angle.py:1127: DeprecationWarning: `np.float` is a deprecated alias for the builtin `float`. To silence this warning, use `float` by itself. Doing this will not modify any behavior and is safe. If you specifically wanted the numpy scalar type, use `np.float64` here.\n",
      "Deprecated in NumPy 1.20; for more details and guidance: https://numpy.org/devdocs/release/1.20.0-notes.html#deprecations\n",
      "  eps=np.finfo(np.float).eps, positive=False):\n",
      "C:\\Users\\dplag\\Anaconda3\\lib\\site-packages\\sklearn\\linear_model\\least_angle.py:1362: DeprecationWarning: `np.float` is a deprecated alias for the builtin `float`. To silence this warning, use `float` by itself. Doing this will not modify any behavior and is safe. If you specifically wanted the numpy scalar type, use `np.float64` here.\n",
      "Deprecated in NumPy 1.20; for more details and guidance: https://numpy.org/devdocs/release/1.20.0-notes.html#deprecations\n",
      "  max_n_alphas=1000, n_jobs=None, eps=np.finfo(np.float).eps,\n",
      "C:\\Users\\dplag\\Anaconda3\\lib\\site-packages\\sklearn\\linear_model\\least_angle.py:1602: DeprecationWarning: `np.float` is a deprecated alias for the builtin `float`. To silence this warning, use `float` by itself. Doing this will not modify any behavior and is safe. If you specifically wanted the numpy scalar type, use `np.float64` here.\n",
      "Deprecated in NumPy 1.20; for more details and guidance: https://numpy.org/devdocs/release/1.20.0-notes.html#deprecations\n",
      "  max_n_alphas=1000, n_jobs=None, eps=np.finfo(np.float).eps,\n",
      "C:\\Users\\dplag\\Anaconda3\\lib\\site-packages\\sklearn\\linear_model\\least_angle.py:1738: DeprecationWarning: `np.float` is a deprecated alias for the builtin `float`. To silence this warning, use `float` by itself. Doing this will not modify any behavior and is safe. If you specifically wanted the numpy scalar type, use `np.float64` here.\n",
      "Deprecated in NumPy 1.20; for more details and guidance: https://numpy.org/devdocs/release/1.20.0-notes.html#deprecations\n",
      "  eps=np.finfo(np.float).eps, copy_X=True, positive=False):\n",
      "C:\\Users\\dplag\\Anaconda3\\lib\\site-packages\\sklearn\\decomposition\\online_lda.py:29: DeprecationWarning: `np.float` is a deprecated alias for the builtin `float`. To silence this warning, use `float` by itself. Doing this will not modify any behavior and is safe. If you specifically wanted the numpy scalar type, use `np.float64` here.\n",
      "Deprecated in NumPy 1.20; for more details and guidance: https://numpy.org/devdocs/release/1.20.0-notes.html#deprecations\n",
      "  EPS = np.finfo(np.float).eps\n"
     ]
    }
   ],
   "source": [
    "from sklearn.neighbors import KernelDensity\n",
    "from scipy.stats import gaussian_kde\n",
    "from statsmodels.nonparametric.kde import KDEUnivariate\n",
    "from statsmodels.nonparametric.kernel_density import KDEMultivariate\n",
    "\n",
    "def Gen_distr_discreta(U:'vector de números aleatorios',\n",
    "                       p_acum: 'P.Acumulada de la distribución a generar'):\n",
    "    '''Función que aplica el método de la transformada inversa para calcular números que distribuyan como una distribución\n",
    "    discreta dada'''\n",
    "    v = np.array(list(map(lambda j:sum(1 for i in p_acum if i<U[j]),range(N))))\n",
    "    return v\n",
    "\n",
    "def kde_statsmodels_func(x, bandwidth=0.2):\n",
    "    \"\"\"Multivariate Kernel Density Estimation with Statsmodels\"\"\"\n",
    "    kde = KDEMultivariate(x, \n",
    "                          bw='cv_ml', \n",
    "                          var_type='u')\n",
    "    return lambda u: kde.pdf(u)\n",
    "\n",
    "def kde_statsmodels_m(x, x_grid, bandwidth=0.2, **kwargs):\n",
    "    \"\"\"Multivariate Kernel Density Estimation with Statsmodels\"\"\"\n",
    "    kde = KDEMultivariate(x, \n",
    "                          bw='cv_ml', \n",
    "                          var_type='u', **kwargs)\n",
    "    return kde.pdf(x_grid)"
   ]
  },
  {
   "cell_type": "code",
   "execution_count": null,
   "metadata": {},
   "outputs": [],
   "source": []
  },
  {
   "cell_type": "code",
   "execution_count": 27,
   "metadata": {},
   "outputs": [],
   "source": [
    "#Húmedad:"
   ]
  },
  {
   "cell_type": "code",
   "execution_count": 28,
   "metadata": {},
   "outputs": [],
   "source": [
    "#Presión:"
   ]
  },
  {
   "cell_type": "code",
   "execution_count": 29,
   "metadata": {},
   "outputs": [],
   "source": [
    "#Temperatura:"
   ]
  },
  {
   "cell_type": "code",
   "execution_count": 30,
   "metadata": {},
   "outputs": [],
   "source": [
    "#Velocidad del viento:"
   ]
  },
  {
   "cell_type": "code",
   "execution_count": 31,
   "metadata": {},
   "outputs": [],
   "source": [
    "#Dirección del viento:"
   ]
  },
  {
   "cell_type": "markdown",
   "metadata": {},
   "source": [
    "## <font color='navy'> Correlación de variables:"
   ]
  },
  {
   "cell_type": "code",
   "execution_count": 32,
   "metadata": {},
   "outputs": [
    {
     "data": {
      "text/html": [
       "<div>\n",
       "<style scoped>\n",
       "    .dataframe tbody tr th:only-of-type {\n",
       "        vertical-align: middle;\n",
       "    }\n",
       "\n",
       "    .dataframe tbody tr th {\n",
       "        vertical-align: top;\n",
       "    }\n",
       "\n",
       "    .dataframe thead th {\n",
       "        text-align: right;\n",
       "    }\n",
       "</style>\n",
       "<table border=\"1\" class=\"dataframe\">\n",
       "  <thead>\n",
       "    <tr style=\"text-align: right;\">\n",
       "      <th></th>\n",
       "      <th>Humidity</th>\n",
       "      <th>Temperature</th>\n",
       "      <th>Pressure</th>\n",
       "      <th>Wind_speed</th>\n",
       "      <th>Wind_direction</th>\n",
       "    </tr>\n",
       "  </thead>\n",
       "  <tbody>\n",
       "    <tr>\n",
       "      <th>44016</th>\n",
       "      <td>87.0</td>\n",
       "      <td>4.49</td>\n",
       "      <td>1027.0</td>\n",
       "      <td>1.0</td>\n",
       "      <td>80.0</td>\n",
       "    </tr>\n",
       "    <tr>\n",
       "      <th>2661</th>\n",
       "      <td>86.0</td>\n",
       "      <td>0.31</td>\n",
       "      <td>1028.0</td>\n",
       "      <td>0.0</td>\n",
       "      <td>0.0</td>\n",
       "    </tr>\n",
       "    <tr>\n",
       "      <th>35854</th>\n",
       "      <td>100.0</td>\n",
       "      <td>9.89</td>\n",
       "      <td>1024.0</td>\n",
       "      <td>3.0</td>\n",
       "      <td>220.0</td>\n",
       "    </tr>\n",
       "  </tbody>\n",
       "</table>\n",
       "</div>"
      ],
      "text/plain": [
       "       Humidity  Temperature  Pressure  Wind_speed  Wind_direction\n",
       "44016      87.0         4.49    1027.0         1.0            80.0\n",
       "2661       86.0         0.31    1028.0         0.0             0.0\n",
       "35854     100.0         9.89    1024.0         3.0           220.0"
      ]
     },
     "execution_count": 32,
     "metadata": {},
     "output_type": "execute_result"
    }
   ],
   "source": [
    "#Crear data frame de variables cuantitativas para Seattle:\n",
    "tabla = pd.DataFrame(columns=['Humidity','Temperature','Pressure',\"Wind_speed\",\"Wind_direction\"], dtype='float')\n",
    "tabla[\"Humidity\"]=humedad\n",
    "tabla[\"Temperature\"]=temp\n",
    "tabla[\"Pressure\"]=presion\n",
    "tabla[\"Wind_speed\"]=wind_speed\n",
    "tabla[\"Wind_direction\"]=wind_dir\n",
    "\n",
    "tabla.sample(3)"
   ]
  },
  {
   "cell_type": "code",
   "execution_count": 33,
   "metadata": {},
   "outputs": [
    {
     "data": {
      "text/html": [
       "<div>\n",
       "<style scoped>\n",
       "    .dataframe tbody tr th:only-of-type {\n",
       "        vertical-align: middle;\n",
       "    }\n",
       "\n",
       "    .dataframe tbody tr th {\n",
       "        vertical-align: top;\n",
       "    }\n",
       "\n",
       "    .dataframe thead th {\n",
       "        text-align: right;\n",
       "    }\n",
       "</style>\n",
       "<table border=\"1\" class=\"dataframe\">\n",
       "  <thead>\n",
       "    <tr style=\"text-align: right;\">\n",
       "      <th></th>\n",
       "      <th>Humidity</th>\n",
       "      <th>Temperature</th>\n",
       "      <th>Pressure</th>\n",
       "      <th>Wind_speed</th>\n",
       "      <th>Wind_direction</th>\n",
       "    </tr>\n",
       "  </thead>\n",
       "  <tbody>\n",
       "    <tr>\n",
       "      <th>count</th>\n",
       "      <td>44964.000000</td>\n",
       "      <td>44962.000000</td>\n",
       "      <td>44961.000000</td>\n",
       "      <td>44964.000000</td>\n",
       "      <td>44964.000000</td>\n",
       "    </tr>\n",
       "    <tr>\n",
       "      <th>mean</th>\n",
       "      <td>77.159038</td>\n",
       "      <td>11.308553</td>\n",
       "      <td>1020.996953</td>\n",
       "      <td>2.120608</td>\n",
       "      <td>161.698336</td>\n",
       "    </tr>\n",
       "    <tr>\n",
       "      <th>std</th>\n",
       "      <td>18.147464</td>\n",
       "      <td>6.530236</td>\n",
       "      <td>9.747753</td>\n",
       "      <td>1.626522</td>\n",
       "      <td>103.068061</td>\n",
       "    </tr>\n",
       "    <tr>\n",
       "      <th>min</th>\n",
       "      <td>13.000000</td>\n",
       "      <td>-9.370000</td>\n",
       "      <td>980.000000</td>\n",
       "      <td>0.000000</td>\n",
       "      <td>0.000000</td>\n",
       "    </tr>\n",
       "    <tr>\n",
       "      <th>25%</th>\n",
       "      <td>66.000000</td>\n",
       "      <td>6.748938</td>\n",
       "      <td>1015.000000</td>\n",
       "      <td>1.000000</td>\n",
       "      <td>71.000000</td>\n",
       "    </tr>\n",
       "    <tr>\n",
       "      <th>50%</th>\n",
       "      <td>81.000000</td>\n",
       "      <td>10.840500</td>\n",
       "      <td>1020.000000</td>\n",
       "      <td>2.000000</td>\n",
       "      <td>175.000000</td>\n",
       "    </tr>\n",
       "    <tr>\n",
       "      <th>75%</th>\n",
       "      <td>93.000000</td>\n",
       "      <td>15.410000</td>\n",
       "      <td>1027.000000</td>\n",
       "      <td>3.000000</td>\n",
       "      <td>218.000000</td>\n",
       "    </tr>\n",
       "    <tr>\n",
       "      <th>max</th>\n",
       "      <td>100.000000</td>\n",
       "      <td>34.150000</td>\n",
       "      <td>1058.000000</td>\n",
       "      <td>24.000000</td>\n",
       "      <td>360.000000</td>\n",
       "    </tr>\n",
       "  </tbody>\n",
       "</table>\n",
       "</div>"
      ],
      "text/plain": [
       "           Humidity   Temperature      Pressure    Wind_speed  Wind_direction\n",
       "count  44964.000000  44962.000000  44961.000000  44964.000000    44964.000000\n",
       "mean      77.159038     11.308553   1020.996953      2.120608      161.698336\n",
       "std       18.147464      6.530236      9.747753      1.626522      103.068061\n",
       "min       13.000000     -9.370000    980.000000      0.000000        0.000000\n",
       "25%       66.000000      6.748938   1015.000000      1.000000       71.000000\n",
       "50%       81.000000     10.840500   1020.000000      2.000000      175.000000\n",
       "75%       93.000000     15.410000   1027.000000      3.000000      218.000000\n",
       "max      100.000000     34.150000   1058.000000     24.000000      360.000000"
      ]
     },
     "execution_count": 33,
     "metadata": {},
     "output_type": "execute_result"
    }
   ],
   "source": [
    "tabla.describe()"
   ]
  },
  {
   "cell_type": "code",
   "execution_count": 34,
   "metadata": {},
   "outputs": [
    {
     "data": {
      "text/html": [
       "<div>\n",
       "<style scoped>\n",
       "    .dataframe tbody tr th:only-of-type {\n",
       "        vertical-align: middle;\n",
       "    }\n",
       "\n",
       "    .dataframe tbody tr th {\n",
       "        vertical-align: top;\n",
       "    }\n",
       "\n",
       "    .dataframe thead th {\n",
       "        text-align: right;\n",
       "    }\n",
       "</style>\n",
       "<table border=\"1\" class=\"dataframe\">\n",
       "  <thead>\n",
       "    <tr style=\"text-align: right;\">\n",
       "      <th></th>\n",
       "      <th>Humidity</th>\n",
       "      <th>Temperature</th>\n",
       "      <th>Pressure</th>\n",
       "      <th>Wind_speed</th>\n",
       "      <th>Wind_direction</th>\n",
       "    </tr>\n",
       "  </thead>\n",
       "  <tbody>\n",
       "    <tr>\n",
       "      <th>Humidity</th>\n",
       "      <td>1.000000</td>\n",
       "      <td>-0.566657</td>\n",
       "      <td>-0.068157</td>\n",
       "      <td>-0.033302</td>\n",
       "      <td>-0.098761</td>\n",
       "    </tr>\n",
       "    <tr>\n",
       "      <th>Temperature</th>\n",
       "      <td>-0.566657</td>\n",
       "      <td>1.000000</td>\n",
       "      <td>-0.077620</td>\n",
       "      <td>0.061115</td>\n",
       "      <td>0.177735</td>\n",
       "    </tr>\n",
       "    <tr>\n",
       "      <th>Pressure</th>\n",
       "      <td>-0.068157</td>\n",
       "      <td>-0.077620</td>\n",
       "      <td>1.000000</td>\n",
       "      <td>-0.285979</td>\n",
       "      <td>0.040503</td>\n",
       "    </tr>\n",
       "    <tr>\n",
       "      <th>Wind_speed</th>\n",
       "      <td>-0.033302</td>\n",
       "      <td>0.061115</td>\n",
       "      <td>-0.285979</td>\n",
       "      <td>1.000000</td>\n",
       "      <td>0.081718</td>\n",
       "    </tr>\n",
       "    <tr>\n",
       "      <th>Wind_direction</th>\n",
       "      <td>-0.098761</td>\n",
       "      <td>0.177735</td>\n",
       "      <td>0.040503</td>\n",
       "      <td>0.081718</td>\n",
       "      <td>1.000000</td>\n",
       "    </tr>\n",
       "  </tbody>\n",
       "</table>\n",
       "</div>"
      ],
      "text/plain": [
       "                Humidity  Temperature  Pressure  Wind_speed  Wind_direction\n",
       "Humidity        1.000000    -0.566657 -0.068157   -0.033302       -0.098761\n",
       "Temperature    -0.566657     1.000000 -0.077620    0.061115        0.177735\n",
       "Pressure       -0.068157    -0.077620  1.000000   -0.285979        0.040503\n",
       "Wind_speed     -0.033302     0.061115 -0.285979    1.000000        0.081718\n",
       "Wind_direction -0.098761     0.177735  0.040503    0.081718        1.000000"
      ]
     },
     "execution_count": 34,
     "metadata": {},
     "output_type": "execute_result"
    }
   ],
   "source": [
    "#Método de correlación de Pearson:\n",
    "tabla.corr(method=\"pearson\")"
   ]
  },
  {
   "cell_type": "markdown",
   "metadata": {},
   "source": [
    "Escribir conclusión sobre las correlaciones y la lógica a usar en el diagrama:\n",
    "    \n",
    "    .f\n",
    "    \n",
    "    .f\n",
    "    \n",
    "    .f\n",
    "    \n",
    "    .f\n",
    "    \n",
    "    .f"
   ]
  },
  {
   "cell_type": "markdown",
   "metadata": {},
   "source": [
    "## <font color='navy'> Definición de estaciones:"
   ]
  },
  {
   "cell_type": "markdown",
   "metadata": {},
   "source": [
    "Para obtener resultados más precisos realizaremos nuestro análisis por estaciones del año, las cuales son: primavera, verano otoño e invierno."
   ]
  },
  {
   "cell_type": "markdown",
   "metadata": {},
   "source": [
    "#### <font color='green'> Temporada 1: Primavera \n",
    "> La temporada de ptimavera comienza el 20 de marzo y termina el 21 de junio."
   ]
  },
  {
   "cell_type": "markdown",
   "metadata": {},
   "source": [
    "#### <font color='green'> Temporada 2: Verano \n",
    "> La temporada de verano comienza el 21 de junio y termina el 22 de septiembre."
   ]
  },
  {
   "cell_type": "markdown",
   "metadata": {},
   "source": [
    "#### <font color='green'> Temporada 3: Otoño \n",
    "> La temporada de otoño comienza el 22 de septiembre y termina el 21 de diciembre."
   ]
  },
  {
   "cell_type": "markdown",
   "metadata": {},
   "source": [
    "#### <font color='green'> Temporada 4: Invierno \n",
    "> La temporada de otoño comienza el 21 de diciembre y termina el 20 de marzo."
   ]
  },
  {
   "cell_type": "markdown",
   "metadata": {},
   "source": [
    "## <font color='navy'> Boxplot:"
   ]
  },
  {
   "cell_type": "code",
   "execution_count": 35,
   "metadata": {},
   "outputs": [
    {
     "data": {
      "image/png": "[encoded data removed]",
      "text/plain": [
       "<Figure size 720x720 with 5 Axes>"
      ]
     },
     "metadata": {
      "needs_background": "light"
     },
     "output_type": "display_data"
    }
   ],
   "source": [
    "#Gráficas con todos los datos:\n",
    "plt.figure(figsize=(10,10))\n",
    "plt.subplot(3,3,1)\n",
    "sns.boxplot(presion,color=\"orange\")\n",
    "plt.title('Presión a través del tiempo')\n",
    "plt.subplot(3,3,2)\n",
    "sns.boxplot(temp,color=\"magenta\")\n",
    "plt.title('Temperatura a través del tiempo')\n",
    "plt.subplot(3,3,3)\n",
    "sns.boxplot(humedad,color=\"aqua\")\n",
    "plt.title('Húmedad a través del tiempo')\n",
    "plt.subplot(3,3,4)\n",
    "sns.boxplot(wind_speed,color=\"slateblue\")\n",
    "plt.title('Velocidad del viento a través del tiempo')\n",
    "plt.subplot(3,3,5)\n",
    "sns.boxplot(wind_dir,color=\"indianred\")\n",
    "plt.title('Dirección del viento a través del tiempo')\n",
    "plt.tight_layout()\n",
    "plt.show()\n",
    "\n",
    "warnings.simplefilter(action='ignore', category=FutureWarning)"
   ]
  },
  {
   "cell_type": "code",
   "execution_count": 36,
   "metadata": {},
   "outputs": [],
   "source": [
    "###Gráficas por año:"
   ]
  },
  {
   "cell_type": "code",
   "execution_count": 37,
   "metadata": {},
   "outputs": [],
   "source": [
    "#Crear data frame para Seattle:\n",
    "tabla2 = pd.DataFrame(columns=[\"Datetime\",'Humidity','Temperature','Pressure',\"Wind_speed\",\"Wind_direction\",\"Description\"], dtype='float')\n",
    "tabla2[\"Datetime\"]= data2.datetime\n",
    "tabla2[\"Humidity\"]=humedad\n",
    "tabla2[\"Temperature\"]=temp\n",
    "tabla2[\"Pressure\"]=presion\n",
    "tabla2[\"Wind_speed\"]=wind_speed\n",
    "tabla2[\"Wind_direction\"]=wind_dir\n",
    "tabla2[\"Description\"]=data1.Seattle\n",
    "#tabla2.sample(3)\n",
    "#tabla2.shape\n",
    "#tabla2['Datetime'].head()\n",
    "time=pd.DatetimeIndex(tabla2['Datetime'])\n",
    "tabla2['date']=time.date\n",
    "tabla2['year']=time.year\n",
    "tabla2['month']=time.month\n",
    "tabla2['day']=time.day\n",
    "tabla2['time']=time.time\n",
    "#tabla2.sample(2)"
   ]
  },
  {
   "cell_type": "code",
   "execution_count": 38,
   "metadata": {},
   "outputs": [
    {
     "data": {
      "image/png": "[encoded data removed]",
      "text/plain": [
       "<Figure size 720x720 with 5 Axes>"
      ]
     },
     "metadata": {
      "needs_background": "light"
     },
     "output_type": "display_data"
    }
   ],
   "source": [
    "#Boxplot por año:\n",
    "plt.figure(figsize=(10,10))\n",
    "plt.subplot(3,3,1)\n",
    "sns.boxplot(x='year',y='Temperature',data=tabla2)\n",
    "plt.title('Temperatura a lo largo del año')\n",
    "plt.subplot(3,3,2)\n",
    "sns.boxplot(x='year',y='Pressure',data=tabla2)\n",
    "plt.title('Presión a lo largo del año')\n",
    "plt.subplot(3,3,3)\n",
    "sns.boxplot(x='year',y='Humidity',data=tabla2)\n",
    "plt.title('Húmedad a lo largo del año')\n",
    "plt.subplot(3,3,4)\n",
    "sns.boxplot(x='year',y='Wind_speed',data=tabla2)\n",
    "plt.title('Velocidad del viento a lo largo del año')\n",
    "plt.subplot(3,3,5)\n",
    "sns.boxplot(x='year',y='Wind_direction',data=tabla2)\n",
    "plt.title('Dirección del viento a lo largo del año')\n",
    "plt.tight_layout()\n",
    "plt.show()"
   ]
  },
  {
   "cell_type": "code",
   "execution_count": 39,
   "metadata": {},
   "outputs": [
    {
     "data": {
      "image/png": "[encoded data removed]",
      "text/plain": [
       "<Figure size 720x720 with 5 Axes>"
      ]
     },
     "metadata": {
      "needs_background": "light"
     },
     "output_type": "display_data"
    }
   ],
   "source": [
    "#Boxplot por mes:\n",
    "plt.figure(figsize=(10,10))\n",
    "plt.subplot(3,3,1)\n",
    "sns.boxplot(x='month',y='Temperature',data=tabla2)\n",
    "plt.title('Temperatura a lo largo del mes')\n",
    "plt.subplot(3,3,2)\n",
    "sns.boxplot(x='month',y='Pressure',data=tabla2)\n",
    "plt.title('Presión a lo largo del mes')\n",
    "plt.subplot(3,3,3)\n",
    "sns.boxplot(x='month',y='Humidity',data=tabla2)\n",
    "plt.title('Húmedad a lo largo del mes')\n",
    "plt.subplot(3,3,4)\n",
    "sns.boxplot(x='month',y='Wind_speed',data=tabla2)\n",
    "plt.title('Velocidad del viento a lo largo del mes')\n",
    "plt.subplot(3,3,5)\n",
    "sns.boxplot(x='month',y='Wind_direction',data=tabla2)\n",
    "plt.title('Dirección del viento a lo largo del mes')\n",
    "plt.tight_layout()\n",
    "plt.show()"
   ]
  },
  {
   "cell_type": "code",
   "execution_count": 40,
   "metadata": {},
   "outputs": [
    {
     "data": {
      "text/html": [
       "<div>\n",
       "<style scoped>\n",
       "    .dataframe tbody tr th:only-of-type {\n",
       "        vertical-align: middle;\n",
       "    }\n",
       "\n",
       "    .dataframe tbody tr th {\n",
       "        vertical-align: top;\n",
       "    }\n",
       "\n",
       "    .dataframe thead th {\n",
       "        text-align: right;\n",
       "    }\n",
       "</style>\n",
       "<table border=\"1\" class=\"dataframe\">\n",
       "  <thead>\n",
       "    <tr style=\"text-align: right;\">\n",
       "      <th></th>\n",
       "      <th>Datetime</th>\n",
       "      <th>Humidity</th>\n",
       "      <th>Temperature</th>\n",
       "      <th>Pressure</th>\n",
       "      <th>Wind_speed</th>\n",
       "      <th>Wind_direction</th>\n",
       "      <th>Description</th>\n",
       "      <th>date</th>\n",
       "      <th>year</th>\n",
       "      <th>month</th>\n",
       "      <th>day</th>\n",
       "      <th>time</th>\n",
       "      <th>season</th>\n",
       "    </tr>\n",
       "  </thead>\n",
       "  <tbody>\n",
       "    <tr>\n",
       "      <th>25864</th>\n",
       "      <td>2015-09-14 04:00:00</td>\n",
       "      <td>76.0</td>\n",
       "      <td>14.010000</td>\n",
       "      <td>1013.0</td>\n",
       "      <td>4.0</td>\n",
       "      <td>50.0</td>\n",
       "      <td>broken clouds</td>\n",
       "      <td>2015-09-14</td>\n",
       "      <td>2015</td>\n",
       "      <td>9</td>\n",
       "      <td>14</td>\n",
       "      <td>04:00:00</td>\n",
       "      <td>9</td>\n",
       "    </tr>\n",
       "    <tr>\n",
       "      <th>28503</th>\n",
       "      <td>2016-01-02 03:00:00</td>\n",
       "      <td>95.0</td>\n",
       "      <td>-0.288042</td>\n",
       "      <td>1027.0</td>\n",
       "      <td>2.0</td>\n",
       "      <td>15.0</td>\n",
       "      <td>sky is clear</td>\n",
       "      <td>2016-01-02</td>\n",
       "      <td>2016</td>\n",
       "      <td>1</td>\n",
       "      <td>2</td>\n",
       "      <td>03:00:00</td>\n",
       "      <td>1</td>\n",
       "    </tr>\n",
       "  </tbody>\n",
       "</table>\n",
       "</div>"
      ],
      "text/plain": [
       "                  Datetime  Humidity  Temperature  Pressure  Wind_speed  \\\n",
       "25864  2015-09-14 04:00:00      76.0    14.010000    1013.0         4.0   \n",
       "28503  2016-01-02 03:00:00      95.0    -0.288042    1027.0         2.0   \n",
       "\n",
       "       Wind_direction    Description        date  year  month  day      time  \\\n",
       "25864            50.0  broken clouds  2015-09-14  2015      9   14  04:00:00   \n",
       "28503            15.0   sky is clear  2016-01-02  2016      1    2  03:00:00   \n",
       "\n",
       "       season  \n",
       "25864       9  \n",
       "28503       1  "
      ]
     },
     "execution_count": 40,
     "metadata": {},
     "output_type": "execute_result"
    }
   ],
   "source": [
    "#intento para poner una columna con estaciones:\n",
    "\n",
    "tabla2 = pd.DataFrame(columns=[\"Datetime\",'Humidity','Temperature','Pressure',\"Wind_speed\",\"Wind_direction\",\"Description\"], dtype='float')\n",
    "tabla2[\"Datetime\"]= data2.datetime\n",
    "tabla2[\"Humidity\"]=humedad\n",
    "tabla2[\"Temperature\"]=temp\n",
    "tabla2[\"Pressure\"]=presion\n",
    "tabla2[\"Wind_speed\"]=wind_speed\n",
    "tabla2[\"Wind_direction\"]=wind_dir\n",
    "tabla2[\"Description\"]=data1.Seattle\n",
    "\n",
    "time=pd.DatetimeIndex(tabla2['Datetime'])\n",
    "tabla2['date']=time.date\n",
    "tabla2['year']=time.year\n",
    "tabla2['month']=time.month\n",
    "tabla2['day']=time.day\n",
    "tabla2['time']=time.time\n",
    "tabla2[\"season\"]=tabla2[\"month\"]\n",
    "    \n",
    "               \n",
    "                       \n",
    "tabla2.sample(2)"
   ]
  },
  {
   "cell_type": "code",
   "execution_count": 51,
   "metadata": {},
   "outputs": [
    {
     "data": {
      "text/html": [
       "<div>\n",
       "<style scoped>\n",
       "    .dataframe tbody tr th:only-of-type {\n",
       "        vertical-align: middle;\n",
       "    }\n",
       "\n",
       "    .dataframe tbody tr th {\n",
       "        vertical-align: top;\n",
       "    }\n",
       "\n",
       "    .dataframe thead th {\n",
       "        text-align: right;\n",
       "    }\n",
       "</style>\n",
       "<table border=\"1\" class=\"dataframe\">\n",
       "  <thead>\n",
       "    <tr style=\"text-align: right;\">\n",
       "      <th></th>\n",
       "      <th>Datetime</th>\n",
       "      <th>Humidity</th>\n",
       "      <th>Temperature</th>\n",
       "      <th>Pressure</th>\n",
       "      <th>Wind_speed</th>\n",
       "      <th>Wind_direction</th>\n",
       "      <th>Description</th>\n",
       "      <th>date</th>\n",
       "      <th>year</th>\n",
       "      <th>month</th>\n",
       "      <th>day</th>\n",
       "      <th>time</th>\n",
       "      <th>season</th>\n",
       "    </tr>\n",
       "  </thead>\n",
       "  <tbody>\n",
       "    <tr>\n",
       "      <th>22125</th>\n",
       "      <td>2015-04-11 09:00:00</td>\n",
       "      <td>96.0</td>\n",
       "      <td>7.137500</td>\n",
       "      <td>1022.0</td>\n",
       "      <td>5.0</td>\n",
       "      <td>217.0</td>\n",
       "      <td>moderate rain</td>\n",
       "      <td>2015-04-11</td>\n",
       "      <td>2015</td>\n",
       "      <td>4</td>\n",
       "      <td>11</td>\n",
       "      <td>09:00:00</td>\n",
       "      <td>1</td>\n",
       "    </tr>\n",
       "    <tr>\n",
       "      <th>18575</th>\n",
       "      <td>2014-11-14 11:00:00</td>\n",
       "      <td>100.0</td>\n",
       "      <td>-3.736667</td>\n",
       "      <td>1031.0</td>\n",
       "      <td>1.0</td>\n",
       "      <td>86.0</td>\n",
       "      <td>sky is clear</td>\n",
       "      <td>2014-11-14</td>\n",
       "      <td>2014</td>\n",
       "      <td>11</td>\n",
       "      <td>14</td>\n",
       "      <td>11:00:00</td>\n",
       "      <td>3</td>\n",
       "    </tr>\n",
       "    <tr>\n",
       "      <th>10716</th>\n",
       "      <td>2013-12-22 00:00:00</td>\n",
       "      <td>86.0</td>\n",
       "      <td>5.790000</td>\n",
       "      <td>1020.0</td>\n",
       "      <td>1.0</td>\n",
       "      <td>199.0</td>\n",
       "      <td>light rain</td>\n",
       "      <td>2013-12-22</td>\n",
       "      <td>2013</td>\n",
       "      <td>12</td>\n",
       "      <td>22</td>\n",
       "      <td>00:00:00</td>\n",
       "      <td>4</td>\n",
       "    </tr>\n",
       "    <tr>\n",
       "      <th>23532</th>\n",
       "      <td>2015-06-09 00:00:00</td>\n",
       "      <td>37.0</td>\n",
       "      <td>26.810000</td>\n",
       "      <td>1026.0</td>\n",
       "      <td>2.0</td>\n",
       "      <td>354.0</td>\n",
       "      <td>sky is clear</td>\n",
       "      <td>2015-06-09</td>\n",
       "      <td>2015</td>\n",
       "      <td>6</td>\n",
       "      <td>9</td>\n",
       "      <td>00:00:00</td>\n",
       "      <td>2</td>\n",
       "    </tr>\n",
       "    <tr>\n",
       "      <th>37357</th>\n",
       "      <td>2017-01-05 01:00:00</td>\n",
       "      <td>40.0</td>\n",
       "      <td>1.730000</td>\n",
       "      <td>1027.0</td>\n",
       "      <td>2.0</td>\n",
       "      <td>0.0</td>\n",
       "      <td>sky is clear</td>\n",
       "      <td>2017-01-05</td>\n",
       "      <td>2017</td>\n",
       "      <td>1</td>\n",
       "      <td>5</td>\n",
       "      <td>01:00:00</td>\n",
       "      <td>4</td>\n",
       "    </tr>\n",
       "    <tr>\n",
       "      <th>42824</th>\n",
       "      <td>2017-08-20 20:00:00</td>\n",
       "      <td>56.0</td>\n",
       "      <td>21.200000</td>\n",
       "      <td>1021.0</td>\n",
       "      <td>2.0</td>\n",
       "      <td>0.0</td>\n",
       "      <td>sky is clear</td>\n",
       "      <td>2017-08-20</td>\n",
       "      <td>2017</td>\n",
       "      <td>8</td>\n",
       "      <td>20</td>\n",
       "      <td>20:00:00</td>\n",
       "      <td>2</td>\n",
       "    </tr>\n",
       "    <tr>\n",
       "      <th>41718</th>\n",
       "      <td>2017-07-05 18:00:00</td>\n",
       "      <td>53.0</td>\n",
       "      <td>21.490000</td>\n",
       "      <td>1016.0</td>\n",
       "      <td>2.0</td>\n",
       "      <td>330.0</td>\n",
       "      <td>haze</td>\n",
       "      <td>2017-07-05</td>\n",
       "      <td>2017</td>\n",
       "      <td>7</td>\n",
       "      <td>5</td>\n",
       "      <td>18:00:00</td>\n",
       "      <td>2</td>\n",
       "    </tr>\n",
       "    <tr>\n",
       "      <th>21589</th>\n",
       "      <td>2015-03-20 01:00:00</td>\n",
       "      <td>69.0</td>\n",
       "      <td>13.652000</td>\n",
       "      <td>1031.0</td>\n",
       "      <td>1.0</td>\n",
       "      <td>244.0</td>\n",
       "      <td>broken clouds</td>\n",
       "      <td>2015-03-20</td>\n",
       "      <td>2015</td>\n",
       "      <td>3</td>\n",
       "      <td>20</td>\n",
       "      <td>01:00:00</td>\n",
       "      <td>1</td>\n",
       "    </tr>\n",
       "  </tbody>\n",
       "</table>\n",
       "</div>"
      ],
      "text/plain": [
       "                  Datetime  Humidity  Temperature  Pressure  Wind_speed  \\\n",
       "22125  2015-04-11 09:00:00      96.0     7.137500    1022.0         5.0   \n",
       "18575  2014-11-14 11:00:00     100.0    -3.736667    1031.0         1.0   \n",
       "10716  2013-12-22 00:00:00      86.0     5.790000    1020.0         1.0   \n",
       "23532  2015-06-09 00:00:00      37.0    26.810000    1026.0         2.0   \n",
       "37357  2017-01-05 01:00:00      40.0     1.730000    1027.0         2.0   \n",
       "42824  2017-08-20 20:00:00      56.0    21.200000    1021.0         2.0   \n",
       "41718  2017-07-05 18:00:00      53.0    21.490000    1016.0         2.0   \n",
       "21589  2015-03-20 01:00:00      69.0    13.652000    1031.0         1.0   \n",
       "\n",
       "       Wind_direction    Description        date  year  month  day      time  \\\n",
       "22125           217.0  moderate rain  2015-04-11  2015      4   11  09:00:00   \n",
       "18575            86.0   sky is clear  2014-11-14  2014     11   14  11:00:00   \n",
       "10716           199.0     light rain  2013-12-22  2013     12   22  00:00:00   \n",
       "23532           354.0   sky is clear  2015-06-09  2015      6    9  00:00:00   \n",
       "37357             0.0   sky is clear  2017-01-05  2017      1    5  01:00:00   \n",
       "42824             0.0   sky is clear  2017-08-20  2017      8   20  20:00:00   \n",
       "41718           330.0           haze  2017-07-05  2017      7    5  18:00:00   \n",
       "21589           244.0  broken clouds  2015-03-20  2015      3   20  01:00:00   \n",
       "\n",
       "       season  \n",
       "22125       1  \n",
       "18575       3  \n",
       "10716       4  \n",
       "23532       2  \n",
       "37357       4  \n",
       "42824       2  \n",
       "41718       2  \n",
       "21589       1  "
      ]
     },
     "execution_count": 51,
     "metadata": {},
     "output_type": "execute_result"
    }
   ],
   "source": [
    "primavera = lambda x: True if (x == 3 or x == 4 or x == 5) else False\n",
    "verano = lambda x: True if (x == 6 or x == 7 or x == 8) else False\n",
    "otono = lambda x: True if (x == 9 or x == 10 or x == 11) else False\n",
    "invierno = lambda x: True if (x == 1 or x == 2 or x == 12) else False\n",
    "temp = 0\n",
    "for i in range(len(tabla2[\"month\"])):\n",
    "    temp = tabla2[\"month\"][i]\n",
    "    if primavera(temp):\n",
    "        tabla2[\"season\"][i] = 1\n",
    "    elif verano(temp):\n",
    "        tabla2[\"season\"][i] = 2\n",
    "    elif otono(temp):\n",
    "        tabla2[\"season\"][i] = 3\n",
    "    elif invierno(temp):\n",
    "        tabla2[\"season\"][i] = 4\n",
    "tabla2.sample(8)"
   ]
  },
  {
   "cell_type": "code",
   "execution_count": 41,
   "metadata": {},
   "outputs": [
    {
     "data": {
      "image/png": "[encoded data removed]",
      "text/plain": [
       "<Figure size 720x720 with 5 Axes>"
      ]
     },
     "metadata": {
      "needs_background": "light"
     },
     "output_type": "display_data"
    }
   ],
   "source": [
    "#Boxplot por estación:\n",
    "plt.figure(figsize=(10,10))\n",
    "plt.subplot(3,3,1)\n",
    "sns.boxplot(x=\"season\",y='Temperature',data=tabla2)\n",
    "plt.title('Temperatura por estación del año')\n",
    "plt.subplot(3,3,2)\n",
    "sns.boxplot(x='season',y='Pressure',data=tabla2)\n",
    "plt.title('Presión por estación del año')\n",
    "plt.subplot(3,3,3)\n",
    "sns.boxplot(x='season',y='Humidity',data=tabla2)\n",
    "plt.title('Húmedad por estación del año')\n",
    "plt.subplot(3,3,4)\n",
    "sns.boxplot(x='season',y='Wind_speed',data=tabla2)\n",
    "plt.title('Velocidad por estación del año')\n",
    "plt.subplot(3,3,5)\n",
    "sns.boxplot(x='season',y='Wind_direction',data=tabla2)\n",
    "plt.title('Dirección por estación del año')\n",
    "plt.tight_layout()\n",
    "plt.show()"
   ]
  },
  {
   "cell_type": "markdown",
   "metadata": {},
   "source": [
    "Escribir conclusión sobre las gráficas:\n",
    "    \n",
    "    .f\n",
    "    \n",
    "    .f\n",
    "    \n",
    "    .f\n",
    "    \n",
    "    .f\n",
    "    \n",
    "    .f"
   ]
  },
  {
   "cell_type": "markdown",
   "metadata": {},
   "source": [
    "### 1.7 Visualización de resultados de simulación.\n",
    "> Se deben simular al menos 4  \"nodos\" o \"escenarios\" en tu problema. Para la segunda entrega debes haber elaborado un programa que simule dos de ellos, los primeros dos de tu diagrama.\n",
    "> Para la entrega final deben de tener los 4 nodos con todas sus simulaciones.\n",
    "\n"
   ]
  },
  {
   "cell_type": "markdown",
   "metadata": {},
   "source": [
    "\n",
    "### 1.6 Conclusiones.\n",
    "> Mucho cuidado, las conclusiones no son cualquier cosa. Se debe concluir respecto a los objetivos planteados de acuerdo a los resultados obtenidos."
   ]
  },
  {
   "cell_type": "markdown",
   "metadata": {},
   "source": [
    "\n",
    "### 1.7 Referencias.\n",
    "> - \"USDA Plant Hardiness Zone Map\". United States Department of Agriculture. Archived from the original on February 27, 2014. \n",
    "> - Met, Duncan Clark y la oficina. «How will climate change affect rainfall?» The Guardian, 15 de Diciembre de 2011: 107.\n",
    "Clima y precipitaciones en Seattle"
   ]
  },
  {
   "cell_type": "markdown",
   "metadata": {},
   "source": [
    "<script>\n",
    "  $(document).ready(function(){\n",
    "    $('div.prompt').hide();\n",
    "    $('div.back-to-top').hide();\n",
    "    $('nav#menubar').hide();\n",
    "    $('.breadcrumb').hide();\n",
    "    $('.hidden-print').hide();\n",
    "  });\n",
    "</script>\n",
    "\n",
    "<footer id=\"attribution\" style=\"float:right; color:#808080; background:#fff;\">\n",
    "Created with Jupyter by Ivette Landaverde and Diego Pintor.\n",
    "</footer>"
   ]
  }
 ],
 "metadata": {
  "kernelspec": {
   "display_name": "Python 3",
   "language": "python",
   "name": "python3"
  },
  "language_info": {
   "codemirror_mode": {
    "name": "ipython",
    "version": 3
   },
   "file_extension": ".py",
   "mimetype": "text/x-python",
   "name": "python",
   "nbconvert_exporter": "python",
   "pygments_lexer": "ipython3",
   "version": "3.7.4"
  }
 },
 "nbformat": 4,
 "nbformat_minor": 2
}
